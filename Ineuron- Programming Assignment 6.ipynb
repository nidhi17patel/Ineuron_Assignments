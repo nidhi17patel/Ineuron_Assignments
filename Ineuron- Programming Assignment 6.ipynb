{
 "cells": [
  {
   "cell_type": "raw",
   "id": "6fdf6723",
   "metadata": {},
   "source": [
    "1. Write a Python Program to Display Fibonacci Sequence Using Recursion?"
   ]
  },
  {
   "cell_type": "code",
   "execution_count": 1,
   "id": "88b180a5",
   "metadata": {},
   "outputs": [
    {
     "name": "stdout",
     "output_type": "stream",
     "text": [
      "enter the number of terms you want1\n",
      "Fibonacci sequence is:\n",
      "0\n"
     ]
    }
   ],
   "source": [
    "def fibonicci(n):\n",
    "    if n <= 1:\n",
    "        return n\n",
    "    else: \n",
    "        return(fibonicci(n-1) + fibonicci(n-2))\n",
    "    \n",
    "nterm = int(input(\"enter the number of terms you want\"))\n",
    "\n",
    "if nterm <= 0:\n",
    "    print(\"enter positive number of terms\")\n",
    "else:\n",
    "    print(\"Fibonacci sequence is:\")\n",
    "    for i in range(nterm):\n",
    "        print(fibonicci(i))\n",
    "    "
   ]
  },
  {
   "cell_type": "raw",
   "id": "7782033a",
   "metadata": {},
   "source": [
    "2. Write a Python Program to Find Factorial of Number Using Recursion?"
   ]
  },
  {
   "cell_type": "code",
   "execution_count": 2,
   "id": "6310ca23",
   "metadata": {},
   "outputs": [
    {
     "name": "stdout",
     "output_type": "stream",
     "text": [
      "enter the number for factorial 6\n",
      "Fibonacci of  6 is  720\n"
     ]
    }
   ],
   "source": [
    " def fact(n):\n",
    "        if n<=1:\n",
    "            return n\n",
    "        else:\n",
    "            return(n*fact(n-1))\n",
    "        \n",
    "num = int(input(\"enter the number for factorial \"))\n",
    "if num < 0:\n",
    "    print(\"we cannot find factorial of Negative number\")\n",
    "elif num == 0:\n",
    "    print(\"Fibonacci of 0 is 1\")\n",
    "else:\n",
    "     print(\"Fibonacci of \", num, \"is \",fact(num))"
   ]
  },
  {
   "cell_type": "raw",
   "id": "a95e0199",
   "metadata": {},
   "source": [
    "3. Write a Python Program to calculate your Body Mass Index?"
   ]
  },
  {
   "cell_type": "code",
   "execution_count": 2,
   "id": "1b744354",
   "metadata": {},
   "outputs": [
    {
     "name": "stdout",
     "output_type": "stream",
     "text": [
      "enter the Height in meters:2.31\n",
      "enter the Weight in kgs:60\n",
      "BMI is : 11.244167088322932\n"
     ]
    }
   ],
   "source": [
    "Height = float(input(\"enter the Height in meters:\"))\n",
    "Weight = float(input(\"enter the Weight in kgs:\"))\n",
    "BMI = Weight/(Height**2)\n",
    "print(\"BMI is :\", BMI)"
   ]
  },
  {
   "cell_type": "raw",
   "id": "26c0575d",
   "metadata": {},
   "source": [
    "4. Write a Python Program to calculate the natural logarithm of any number?"
   ]
  },
  {
   "cell_type": "code",
   "execution_count": 7,
   "id": "2ec77676",
   "metadata": {},
   "outputs": [
    {
     "name": "stdout",
     "output_type": "stream",
     "text": [
      "enter the number whose log needs to be displayed:2\n",
      "log of  2.0 is  0.6931471805599453\n"
     ]
    }
   ],
   "source": [
    "import math\n",
    "num = float(input(\"enter the number whose log needs to be displayed:\"))\n",
    "value = math.log(num)\n",
    "print(\"log of \",num, \"is \", value)"
   ]
  },
  {
   "cell_type": "raw",
   "id": "c3a8b90d",
   "metadata": {},
   "source": [
    "5. Write a Python Program for cube sum of first n natural numbers?"
   ]
  },
  {
   "cell_type": "code",
   "execution_count": 22,
   "id": "62722796",
   "metadata": {},
   "outputs": [
    {
     "name": "stdout",
     "output_type": "stream",
     "text": [
      "enter the number till where you want to sum the cube6\n",
      "sum of cube of first n natural numbers is  441\n"
     ]
    }
   ],
   "source": [
    "sum = 0\n",
    "num = int(input(\"enter the number till where you want to sum the cube\"))\n",
    "if num <= 0:\n",
    "    print(\"please enter Natural Number, not a 0 or Negative number\")\n",
    "else:\n",
    "    for i in range(1, num+1):\n",
    "        sum = sum + i**3\n",
    "    print(\"sum of cube of first n natural numbers is \", sum)"
   ]
  }
 ],
 "metadata": {
  "kernelspec": {
   "display_name": "Python 3 (ipykernel)",
   "language": "python",
   "name": "python3"
  },
  "language_info": {
   "codemirror_mode": {
    "name": "ipython",
    "version": 3
   },
   "file_extension": ".py",
   "mimetype": "text/x-python",
   "name": "python",
   "nbconvert_exporter": "python",
   "pygments_lexer": "ipython3",
   "version": "3.9.12"
  }
 },
 "nbformat": 4,
 "nbformat_minor": 5
}
