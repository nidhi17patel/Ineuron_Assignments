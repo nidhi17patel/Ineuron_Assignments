{
 "cells": [
  {
   "cell_type": "raw",
   "id": "c79ae204",
   "metadata": {},
   "source": [
    "1. Write a Python program to convert kilometers to miles?"
   ]
  },
  {
   "cell_type": "code",
   "execution_count": 11,
   "id": "5d189877",
   "metadata": {},
   "outputs": [
    {
     "name": "stdout",
     "output_type": "stream",
     "text": [
      "enter the KM50\n",
      "50.00 kilometers is equal to 31.07 miles\n"
     ]
    }
   ],
   "source": [
    "KM = float(input(\"enter the KM\"))\n",
    "miles = 0.621371 * KM\n",
    "print('%0.2f kilometers is equal to %0.2f miles' %(KM,miles))"
   ]
  },
  {
   "cell_type": "raw",
   "id": "ef55e1ed",
   "metadata": {},
   "source": [
    "2. Write a Python program to convert Celsius to Fahrenheit?"
   ]
  },
  {
   "cell_type": "code",
   "execution_count": 12,
   "id": "7028049b",
   "metadata": {},
   "outputs": [
    {
     "name": "stdout",
     "output_type": "stream",
     "text": [
      "enter the Temperature in Celsius32\n",
      "32.00 Celsius is equal to 89.60 Fahrenheit\n"
     ]
    }
   ],
   "source": [
    "Celsius = float(input(\"enter the Temperature in Celsius\"))\n",
    "Fahrenheit = (1.8 * Celsius) + 32\n",
    "print('%0.2f Celsius is equal to %0.2f Fahrenheit' %(Celsius,Fahrenheit))"
   ]
  },
  {
   "cell_type": "raw",
   "id": "018e631e",
   "metadata": {},
   "source": [
    "3. Write a Python program to display calendar?"
   ]
  },
  {
   "cell_type": "code",
   "execution_count": 17,
   "id": "1e1544ed",
   "metadata": {},
   "outputs": [
    {
     "name": "stdout",
     "output_type": "stream",
     "text": [
      "enter the month in mm format07\n",
      "enter the year in yy format73\n",
      "      July 73\n",
      "Mo Tu We Th Fr Sa Su\n",
      "                1  2\n",
      " 3  4  5  6  7  8  9\n",
      "10 11 12 13 14 15 16\n",
      "17 18 19 20 21 22 23\n",
      "24 25 26 27 28 29 30\n",
      "31\n",
      "\n"
     ]
    }
   ],
   "source": [
    "import calendar\n",
    "month = int(input('enter the month in mm format'))\n",
    "year  = int(input('enter the year in yy format'))\n",
    "print(calendar.month(year,month))"
   ]
  },
  {
   "cell_type": "raw",
   "id": "f5c2f53a",
   "metadata": {},
   "source": [
    "4. Write a Python program to solve quadratic equation?"
   ]
  },
  {
   "cell_type": "code",
   "execution_count": 20,
   "id": "143025c6",
   "metadata": {},
   "outputs": [
    {
     "name": "stdout",
     "output_type": "stream",
     "text": [
      "enter value of a10\n",
      "enter value of b20\n",
      "enter value of c30\n",
      "solutions are (-100-141.4213562373095j) and (-100+141.4213562373095j)\n"
     ]
    }
   ],
   "source": [
    "import cmath\n",
    "a = int(input('enter value of a'))\n",
    "b = int(input('enter value of b'))\n",
    "c = int(input('enter value of c'))\n",
    "\n",
    "d = (b**2) - (4*a*c)\n",
    "solu1 = (-b - (cmath.sqrt(d)))/2*a\n",
    "solu2 = (-b + (cmath.sqrt(d)))/2*a\n",
    "\n",
    "print('solutions are {0} and {1}'.format(solu1, solu2))"
   ]
  },
  {
   "cell_type": "raw",
   "id": "baa60749",
   "metadata": {},
   "source": [
    "5. Write a Python program to swap two variables without temp variable?"
   ]
  },
  {
   "cell_type": "code",
   "execution_count": 23,
   "id": "a3d3e3c1",
   "metadata": {},
   "outputs": [
    {
     "name": "stdout",
     "output_type": "stream",
     "text": [
      "enter num1: - 3\n",
      "enter num2: - 7\n",
      "num1 is 7.0 and num2 is 3.0\n"
     ]
    }
   ],
   "source": [
    "num1 = float(input('enter num1: - '))\n",
    "num2 = float(input('enter num2: - '))\n",
    "num1 = num1 + num2\n",
    "num2 = num1 - num2\n",
    "num1 = num1 - num2\n",
    "print('num1 is {0} and num2 is {1}'.format(num1, num2))"
   ]
  }
 ],
 "metadata": {
  "kernelspec": {
   "display_name": "Python 3 (ipykernel)",
   "language": "python",
   "name": "python3"
  },
  "language_info": {
   "codemirror_mode": {
    "name": "ipython",
    "version": 3
   },
   "file_extension": ".py",
   "mimetype": "text/x-python",
   "name": "python",
   "nbconvert_exporter": "python",
   "pygments_lexer": "ipython3",
   "version": "3.9.12"
  }
 },
 "nbformat": 4,
 "nbformat_minor": 5
}
