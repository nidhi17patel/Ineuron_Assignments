{
 "cells": [
  {
   "cell_type": "raw",
   "id": "f033a7cf",
   "metadata": {},
   "source": [
    "1. Set the variable test1 to the string 'This is a test of the emergency text system,' and save test1 to a file named test.txt."
   ]
  },
  {
   "cell_type": "code",
   "execution_count": 2,
   "id": "44d36349",
   "metadata": {},
   "outputs": [],
   "source": [
    "test1 = 'This is a test of the emergency text system,'\n",
    "f= open(\"test.txt\",\"w\")\n",
    "f.write(test1)\n",
    "f.close()"
   ]
  },
  {
   "cell_type": "raw",
   "id": "60f9b447",
   "metadata": {},
   "source": [
    "2. Read the contents of the file test.txt into the variable test2. Is there a difference between test 1 and test 2?"
   ]
  },
  {
   "cell_type": "code",
   "execution_count": 11,
   "id": "5147ece4",
   "metadata": {},
   "outputs": [
    {
     "name": "stdout",
     "output_type": "stream",
     "text": [
      "test1 is : This is a test of the emergency text system,\n",
      "test2 is : This is a test of the emergency text system,\n",
      "test1 and test2 variables have same data\n"
     ]
    }
   ],
   "source": [
    "file = open(\"test.txt\",\"r\")\n",
    "test2 = file.read()\n",
    "print(\"test1 is :\",test1)\n",
    "print(\"test2 is :\",test2)\n",
    "if test1 == test2:\n",
    "    print(\"test1 and test2 variables have same data\")"
   ]
  },
  {
   "cell_type": "raw",
   "id": "0d0fe751",
   "metadata": {},
   "source": [
    "3. Create a CSV file called books.csv by using these lines:\n",
    "title,author,year\n",
    "The Weirdstone of Brisingamen,Alan Garner,1960\n",
    "Perdido Street Station,China Miéville,2000\n",
    "Thud!,Terry Pratchett,2005\n",
    "The Spellman Files,Lisa Lutz,2007\n",
    "Small Gods,Terry Pratchett,1992"
   ]
  },
  {
   "cell_type": "code",
   "execution_count": 18,
   "id": "9768c63c",
   "metadata": {},
   "outputs": [],
   "source": [
    "import csv  \n",
    "\n",
    "header = ['Title', 'Author', 'Year']\n",
    "data =[\n",
    "       {'Title':'The Weirdstone of Brisingamen',\n",
    "        'Author':'Alan Garner',\n",
    "        'Year': 1960\n",
    "       },\n",
    "       {'Title': 'Perdido Street Station',\n",
    "        'Author': 'China Miéville',\n",
    "        'Year' : 2000\n",
    "       },\n",
    "       {'Title': 'Thud!',\n",
    "        'Author': 'Terry Pratchett',\n",
    "        'Year' : 2005\n",
    "       },\n",
    "       {'Title': 'The Spellman Files',\n",
    "        'Author': 'Lisa Lutz',\n",
    "        'Year' : 2007\n",
    "       },\n",
    "       {'Title': 'Small Gods',\n",
    "        'Author': 'Terry Pratchett',\n",
    "        'Year' : 1992\n",
    "       },\n",
    "       ]\n",
    "\n",
    "with open('books.csv', 'w', encoding='UTF8', newline='') as f1:\n",
    "    writer = csv.DictWriter(f1, fieldnames=header)\n",
    "\n",
    "    # write the header\n",
    "    writer.writeheader()\n",
    "\n",
    "    # write the data\n",
    "    writer.writerows(data)\n"
   ]
  },
  {
   "cell_type": "raw",
   "id": "351971ef",
   "metadata": {},
   "source": [
    "4. Use the sqlite3 module to create a SQLite database called books.db, and a table called books with\n",
    "these fields: title (text), author (text), and year (integer)."
   ]
  },
  {
   "cell_type": "code",
   "execution_count": 12,
   "id": "b3edc95c",
   "metadata": {},
   "outputs": [
    {
     "name": "stdout",
     "output_type": "stream",
     "text": [
      "Opened database successfully\n",
      "Table created successfully\n"
     ]
    }
   ],
   "source": [
    "import sqlite3\n",
    "conn = sqlite3.connect('books.db')\n",
    "print(\"Opened database successfully\");\n",
    "\n",
    "conn.execute('''create table books\n",
    "                (title Text,\n",
    "                 author Text,\n",
    "                 year Int);''')\n",
    "print(\"Table created successfully\");\n",
    "conn.close()"
   ]
  },
  {
   "cell_type": "raw",
   "id": "b66ae605",
   "metadata": {},
   "source": [
    "5. Read books.csv and insert its data into the book table."
   ]
  },
  {
   "cell_type": "code",
   "execution_count": 20,
   "id": "2b6587c6",
   "metadata": {
    "scrolled": true
   },
   "outputs": [
    {
     "name": "stdout",
     "output_type": "stream",
     "text": [
      "Opened database successfully\n",
      "Records added to database successfully\n"
     ]
    }
   ],
   "source": [
    "import sqlite3\n",
    "conn = sqlite3.connect('books.db')\n",
    "print(\"Opened database successfully\");\n",
    "\n",
    "conn.execute(\"INSERT INTO BOOKS(title,author,year) VALUES ('The Weirdstone of Brisingamen', 'Alan Garner', 1960 )\");\n",
    "conn.execute(\"INSERT INTO BOOKS (title,author,year) VALUES ('Perdido Street Station','China MiÃ©ville',2000)\");\n",
    "conn.execute(\"INSERT INTO BOOKS (title, author, year)VALUES ('Thud!','Terry Pratchett',2005)\");\n",
    "conn.execute(\"INSERT INTO BOOKS (title, author, year)VALUES ('The Spellman Files','Lisa Lutz',2007)\");\n",
    "\n",
    "conn.commit()\n",
    "print(\"Records added to database successfully\");\n",
    "conn.close()"
   ]
  },
  {
   "cell_type": "raw",
   "id": "bb67e315",
   "metadata": {},
   "source": [
    "6. Select and print the title column from the book table in alphabetical order."
   ]
  },
  {
   "cell_type": "code",
   "execution_count": 25,
   "id": "ce002d8a",
   "metadata": {},
   "outputs": [
    {
     "name": "stdout",
     "output_type": "stream",
     "text": [
      "Opened database successfully\n",
      "title is:- Perdido Street Station \n",
      "\n",
      "title is:- The Spellman Files \n",
      "\n",
      "title is:- The Weirdstone of Brisingamen \n",
      "\n",
      "title is:- Thud! \n",
      "\n"
     ]
    }
   ],
   "source": [
    "conn = sqlite3.connect('books.db')\n",
    "print(\"Opened database successfully\");\n",
    "\n",
    "cursor = conn.execute(\"SELECT title FROM books ORDER BY title asc\")\n",
    "for rows in cursor:\n",
    "    print(\"title is:-\",rows[0],\"\\n\")\n",
    "\n",
    "    \n",
    "conn.close()"
   ]
  },
  {
   "cell_type": "code",
   "execution_count": 11,
   "id": "6193cb06",
   "metadata": {},
   "outputs": [
    {
     "name": "stdout",
     "output_type": "stream",
     "text": [
      "Opened database successfully\n",
      "Deleted database successfully\n"
     ]
    }
   ],
   "source": [
    "import sqlite3\n",
    "conn = sqlite3.connect('books.db')\n",
    "print(\"Opened database successfully\");\n",
    "cursor = conn.cursor()\n",
    "dropTableStatement = \"DROP TABLE books\"\n",
    "cursor.execute(dropTableStatement)\n",
    "conn.close()\n",
    "print(\"Deleted database successfully\");"
   ]
  },
  {
   "cell_type": "raw",
   "id": "e61be649",
   "metadata": {},
   "source": [
    "7. From the book table, select and print all columns in the order of publication."
   ]
  },
  {
   "cell_type": "code",
   "execution_count": 29,
   "id": "93178745",
   "metadata": {},
   "outputs": [
    {
     "name": "stdout",
     "output_type": "stream",
     "text": [
      "opened Database successfully\n",
      "1960\n",
      "2000\n",
      "2005\n",
      "2007\n"
     ]
    }
   ],
   "source": [
    "import sqlite3\n",
    "conn = sqlite3.connect('books.db')\n",
    "print(\"opened Database successfully\");\n",
    "cursor= conn.execute('SELECT year FROM books ORDER BY year asc')\n",
    "for rows in cursor:\n",
    "    print(rows[0])"
   ]
  },
  {
   "cell_type": "raw",
   "id": "42b982bc",
   "metadata": {},
   "source": [
    "8. Use the sqlalchemy module to connect to the sqlite3 database books.db that you just made in\n",
    "exercise 6."
   ]
  },
  {
   "cell_type": "code",
   "execution_count": 33,
   "id": "234efd21",
   "metadata": {},
   "outputs": [
    {
     "name": "stdout",
     "output_type": "stream",
     "text": [
      "('The Weirdstone of Brisingamen', 'Alan Garner', 1960)\n",
      "('Perdido Street Station', 'China MiÃ©ville', 2000)\n",
      "('Thud!', 'Terry Pratchett', 2005)\n",
      "('The Spellman Files', 'Lisa Lutz', 2007)\n"
     ]
    }
   ],
   "source": [
    "import sqlalchemy\n",
    "engine = sqlalchemy.create_engine(\"sqlite:///books.db\")\n",
    "rows = engine.execute(\"select * from books\")\n",
    "for i in rows:\n",
    "    print(i)"
   ]
  },
  {
   "cell_type": "raw",
   "id": "5f7ca2bb",
   "metadata": {},
   "source": [
    "9. Install the Redis server and the Python redis library (pip install redis) on your computer. Create a Redis hash called test with the fields count (1) and name ('Fester Bestertester'). Print all the fields for test."
   ]
  },
  {
   "cell_type": "code",
   "execution_count": 34,
   "id": "32ef704b",
   "metadata": {},
   "outputs": [
    {
     "name": "stdout",
     "output_type": "stream",
     "text": [
      "Collecting redis\n",
      "  Downloading redis-4.3.4-py3-none-any.whl (246 kB)\n",
      "Collecting async-timeout>=4.0.2\n",
      "  Downloading async_timeout-4.0.2-py3-none-any.whl (5.8 kB)\n",
      "Requirement already satisfied: packaging>=20.4 in d:\\anaconda\\lib\\site-packages (from redis) (21.3)\n",
      "Collecting deprecated>=1.2.3\n",
      "  Downloading Deprecated-1.2.13-py2.py3-none-any.whl (9.6 kB)\n",
      "Requirement already satisfied: wrapt<2,>=1.10 in d:\\anaconda\\lib\\site-packages (from deprecated>=1.2.3->redis) (1.12.1)\n",
      "Requirement already satisfied: pyparsing!=3.0.5,>=2.0.2 in d:\\anaconda\\lib\\site-packages (from packaging>=20.4->redis) (3.0.4)\n",
      "Installing collected packages: deprecated, async-timeout, redis\n",
      "  Attempting uninstall: async-timeout\n",
      "    Found existing installation: async-timeout 4.0.1\n",
      "    Uninstalling async-timeout-4.0.1:\n",
      "      Successfully uninstalled async-timeout-4.0.1\n",
      "Successfully installed async-timeout-4.0.2 deprecated-1.2.13 redis-4.3.4\n",
      "Note: you may need to restart the kernel to use updated packages.\n"
     ]
    }
   ],
   "source": [
    "pip install redis"
   ]
  },
  {
   "cell_type": "code",
   "execution_count": 35,
   "id": "19216bf4",
   "metadata": {},
   "outputs": [
    {
     "name": "stdout",
     "output_type": "stream",
     "text": [
      "Requirement already satisfied: redis in d:\\anaconda\\lib\\site-packages (4.3.4)\n",
      "Requirement already satisfied: packaging>=20.4 in d:\\anaconda\\lib\\site-packages (from redis) (21.3)\n",
      "Requirement already satisfied: async-timeout>=4.0.2 in d:\\anaconda\\lib\\site-packages (from redis) (4.0.2)\n",
      "Requirement already satisfied: deprecated>=1.2.3 in d:\\anaconda\\lib\\site-packages (from redis) (1.2.13)\n",
      "Requirement already satisfied: wrapt<2,>=1.10 in d:\\anaconda\\lib\\site-packages (from deprecated>=1.2.3->redis) (1.12.1)\n",
      "Requirement already satisfied: pyparsing!=3.0.5,>=2.0.2 in d:\\anaconda\\lib\\site-packages (from packaging>=20.4->redis) (3.0.4)\n"
     ]
    }
   ],
   "source": [
    "!pip install redis"
   ]
  },
  {
   "cell_type": "code",
   "execution_count": null,
   "id": "8c52cf0a",
   "metadata": {},
   "outputs": [],
   "source": [
    "import redis\n",
    "conn = redis.Redis()\n",
    "conn.delete('test')\n",
    "conn.hmset('test', {'count': 1, 'name': 'Fester Bestertester'})\n",
    "conn.hgetall('test')"
   ]
  },
  {
   "cell_type": "raw",
   "id": "c47d0868",
   "metadata": {},
   "source": [
    "10. Increment the count field of test and print it."
   ]
  },
  {
   "cell_type": "code",
   "execution_count": null,
   "id": "a75c4815",
   "metadata": {},
   "outputs": [],
   "source": [
    "conn.hincrby('test','count', 3)"
   ]
  }
 ],
 "metadata": {
  "kernelspec": {
   "display_name": "Python 3 (ipykernel)",
   "language": "python",
   "name": "python3"
  },
  "language_info": {
   "codemirror_mode": {
    "name": "ipython",
    "version": 3
   },
   "file_extension": ".py",
   "mimetype": "text/x-python",
   "name": "python",
   "nbconvert_exporter": "python",
   "pygments_lexer": "ipython3",
   "version": "3.9.12"
  }
 },
 "nbformat": 4,
 "nbformat_minor": 5
}
