{
 "cells": [
  {
   "cell_type": "raw",
   "id": "0aa1f923",
   "metadata": {},
   "source": [
    "1. In the below elements which of them are values or an expression? eg:- values can be\n",
    "integer or string and expressions will be mathematical operators.\n",
    "\n",
    "*        expressions\n",
    "'hello'  values\n",
    "-87.8    values\n",
    "-        expressions\n",
    "/        expressions\n",
    "+        expressions\n",
    "6        values"
   ]
  },
  {
   "cell_type": "raw",
   "id": "5af1ac50",
   "metadata": {},
   "source": [
    "2. What is the difference between string and variable?\n",
    "\n",
    "string is a value representing text and is stored in quotes \"\"\n",
    "variable is a name that can store any value"
   ]
  },
  {
   "cell_type": "raw",
   "id": "b8c728cf",
   "metadata": {},
   "source": [
    "3. Describe three different data types.\n",
    "integer - this data type is used for storing integer values. int keyword can be used for it.\n",
    "character - this data type is used for storing character values. char keyword can be used for it.\n",
    "floating Point - this data type is used for storing Decimal values. Float keyword can be used for it.\n"
   ]
  },
  {
   "cell_type": "raw",
   "id": "a62454ef",
   "metadata": {},
   "source": [
    "4. What is an expression made up of? What do all expressions do?\n",
    "\n",
    "expression is made up of values,variables and operators\n",
    "Expressions are used to evaluate the values or results."
   ]
  },
  {
   "cell_type": "raw",
   "id": "e650769d",
   "metadata": {},
   "source": [
    "5. This assignment statements, like spam = 10. What is the difference between an\n",
    "expression and a statement?\n",
    "\n",
    "expression - expression is made up of values,variables and operators whereas statement is like a command executed."
   ]
  },
  {
   "cell_type": "raw",
   "id": "30a1edf9",
   "metadata": {},
   "source": [
    "6. After running the following code, what does the variable bacon contain?\n",
    "bacon = 22\n",
    "bacon + 1"
   ]
  },
  {
   "cell_type": "code",
   "execution_count": 4,
   "id": "bee09444",
   "metadata": {},
   "outputs": [
    {
     "data": {
      "text/plain": [
       "23"
      ]
     },
     "execution_count": 4,
     "metadata": {},
     "output_type": "execute_result"
    }
   ],
   "source": [
    "bacon = 22\n",
    "bacon + 1"
   ]
  },
  {
   "cell_type": "raw",
   "id": "fbb81cd4",
   "metadata": {},
   "source": [
    "7. What should the values of the following two terms be?\n",
    "'spam'+ 'spamspam'\n",
    "'spam'*3"
   ]
  },
  {
   "cell_type": "code",
   "execution_count": 5,
   "id": "a4bd96ab",
   "metadata": {},
   "outputs": [
    {
     "data": {
      "text/plain": [
       "'spamspamspam'"
      ]
     },
     "execution_count": 5,
     "metadata": {},
     "output_type": "execute_result"
    }
   ],
   "source": [
    "'spam'+ 'spamspam'"
   ]
  },
  {
   "cell_type": "code",
   "execution_count": 6,
   "id": "8f67b62f",
   "metadata": {},
   "outputs": [
    {
     "data": {
      "text/plain": [
       "'spamspamspam'"
      ]
     },
     "execution_count": 6,
     "metadata": {},
     "output_type": "execute_result"
    }
   ],
   "source": [
    "'spam'*3"
   ]
  },
  {
   "cell_type": "markdown",
   "id": "9100b40f",
   "metadata": {},
   "source": [
    "8. Why is eggs a valid variable name while 100 is invalid?\n",
    "\n",
    "variable name can start with letter or underscore but not with number. A variable name can only contain alpha-numeric characters and underscores "
   ]
  },
  {
   "cell_type": "raw",
   "id": "2513afb0",
   "metadata": {},
   "source": [
    "9. What three functions can be used to get the integer, floating-point number, or string\n",
    "version of a value?\n",
    "\n",
    "int(), float(), str()"
   ]
  },
  {
   "cell_type": "markdown",
   "id": "b0af63bf",
   "metadata": {},
   "source": [
    "10. Why does this expression cause an error? How can you fix it?\n",
    "'I have eaten' + 99 + 'burritos'\n",
    "\n",
    "#we need to do typecasting for the integer value as it wont concatenate with the string value."
   ]
  },
  {
   "cell_type": "code",
   "execution_count": 12,
   "id": "7f1fedaa",
   "metadata": {},
   "outputs": [
    {
     "ename": "TypeError",
     "evalue": "can only concatenate str (not \"int\") to str",
     "output_type": "error",
     "traceback": [
      "\u001b[1;31m---------------------------------------------------------------------------\u001b[0m",
      "\u001b[1;31mTypeError\u001b[0m                                 Traceback (most recent call last)",
      "\u001b[1;32m~\\AppData\\Local\\Temp/ipykernel_11212/2733022945.py\u001b[0m in \u001b[0;36m<module>\u001b[1;34m\u001b[0m\n\u001b[1;32m----> 1\u001b[1;33m \u001b[1;34m'I have eaten'\u001b[0m \u001b[1;33m+\u001b[0m \u001b[1;36m99\u001b[0m \u001b[1;33m+\u001b[0m \u001b[1;34m'burritos'\u001b[0m\u001b[1;33m\u001b[0m\u001b[1;33m\u001b[0m\u001b[0m\n\u001b[0m",
      "\u001b[1;31mTypeError\u001b[0m: can only concatenate str (not \"int\") to str"
     ]
    }
   ],
   "source": [
    "'I have eaten' + 99 + 'burritos'"
   ]
  },
  {
   "cell_type": "code",
   "execution_count": 13,
   "id": "0495468a",
   "metadata": {},
   "outputs": [
    {
     "data": {
      "text/plain": [
       "'I have eaten 99 burritos'"
      ]
     },
     "execution_count": 13,
     "metadata": {},
     "output_type": "execute_result"
    }
   ],
   "source": [
    "'I have eaten' + \" \" + str(99) + \" \"+ 'burritos'"
   ]
  }
 ],
 "metadata": {
  "kernelspec": {
   "display_name": "Python 3 (ipykernel)",
   "language": "python",
   "name": "python3"
  },
  "language_info": {
   "codemirror_mode": {
    "name": "ipython",
    "version": 3
   },
   "file_extension": ".py",
   "mimetype": "text/x-python",
   "name": "python",
   "nbconvert_exporter": "python",
   "pygments_lexer": "ipython3",
   "version": "3.9.7"
  }
 },
 "nbformat": 4,
 "nbformat_minor": 5
}
