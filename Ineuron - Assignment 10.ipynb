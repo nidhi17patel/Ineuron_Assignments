{
 "cells": [
  {
   "cell_type": "raw",
   "id": "1c7353a7",
   "metadata": {},
   "source": [
    "1. How do you distinguish between shutil.copy() and shutil.copytree()?"
   ]
  },
  {
   "cell_type": "raw",
   "id": "46c64a53",
   "metadata": {},
   "source": [
    "The shutil.copy() function will copy a single file, while shutil.copytree() will copy an entire folder, along with all its contents."
   ]
  },
  {
   "cell_type": "raw",
   "id": "ba9d01ee",
   "metadata": {},
   "source": [
    "2. What function is used to rename files??"
   ]
  },
  {
   "cell_type": "raw",
   "id": "a1fc93d2",
   "metadata": {},
   "source": [
    "The shutil.move() function is used for renaming files, as well as moving them"
   ]
  },
  {
   "cell_type": "raw",
   "id": "1539a8ff",
   "metadata": {},
   "source": [
    "3. What is the difference between the delete functions in the send2trash and shutil modules?"
   ]
  },
  {
   "cell_type": "raw",
   "id": "07b3fa29",
   "metadata": {},
   "source": [
    "The send2trash functions will move a file or folder to the recycle bin, while shutil functions will permanently delete files and folders."
   ]
  },
  {
   "cell_type": "raw",
   "id": "93dfa470",
   "metadata": {},
   "source": [
    "4.ZipFile objects have a close() method just like File objects’ close() method. What ZipFile method is\n",
    "equivalent to File objects’ open() method?"
   ]
  },
  {
   "cell_type": "raw",
   "id": "4c14e36e",
   "metadata": {},
   "source": [
    "The zipfile.ZipFile() function is equivalent to the open() function; the first argument is the filename, and the second argument is the mode to open the ZIP file in (read, write, or append)."
   ]
  },
  {
   "cell_type": "raw",
   "id": "fa221b80",
   "metadata": {},
   "source": [
    "5. Create a programme that searches a folder tree for files with a certain file extension (such as .pdf\n",
    "or .jpg). Copy these files from whatever location they are in to a new folder."
   ]
  },
  {
   "cell_type": "code",
   "execution_count": 4,
   "id": "878d4422",
   "metadata": {},
   "outputs": [
    {
     "name": "stdout",
     "output_type": "stream",
     "text": [
      "Enter the absolute path of the source folder:D:\\data_fsds\\databse_task_qstns\n",
      "Enter the type of file to copy (such as .pdf or .jpg): .txt\n",
      "Enter the absolute path of the destination folder: D:\\data_fsds\\macrofiles\n"
     ]
    }
   ],
   "source": [
    "import os, shutil\n",
    "\n",
    "sourcePath = input('Enter the absolute path of the source folder:')\n",
    "fileExtType = input('Enter the type of file to copy (such as .pdf or .jpg): ').lower()\n",
    "destPath = input('Enter the absolute path of the destination folder: ')\n",
    "\n",
    "for foldername, subfolders, filenames in os.walk(sourcePath):\n",
    "    for filename in filenames:\n",
    "        if filename.lower().endswith(fileExtType):\n",
    " #print(foldername + ‘\\\\’ + filename)\n",
    "            copySourcePath = os.path.join(foldername, filename)\n",
    " #print(copySourcePath)\n",
    "            shutil.copy(copySourcePath, destPath)\n",
    "        else:\n",
    "             continue"
   ]
  },
  {
   "cell_type": "code",
   "execution_count": null,
   "id": "a5ad7bf7",
   "metadata": {},
   "outputs": [],
   "source": [
    "# Text files from \"databse_task_qstns\" folder were copied to \"macrofiles\" folder"
   ]
  }
 ],
 "metadata": {
  "kernelspec": {
   "display_name": "Python 3 (ipykernel)",
   "language": "python",
   "name": "python3"
  },
  "language_info": {
   "codemirror_mode": {
    "name": "ipython",
    "version": 3
   },
   "file_extension": ".py",
   "mimetype": "text/x-python",
   "name": "python",
   "nbconvert_exporter": "python",
   "pygments_lexer": "ipython3",
   "version": "3.9.12"
  }
 },
 "nbformat": 4,
 "nbformat_minor": 5
}
