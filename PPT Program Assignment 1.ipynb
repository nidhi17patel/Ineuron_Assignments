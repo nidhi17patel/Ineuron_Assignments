{
 "cells": [
  {
   "cell_type": "markdown",
   "id": "3160085b",
   "metadata": {},
   "source": [
    "Q1.Given an array of integers nums and an integer target, return indices of the two numbers such that they add up to target.You may assume that each input would have exactly one solution, and you may not use the same element twice.\n",
    "You can return the answer in any order.\n",
    "\n",
    "**Example:**\n",
    "Input: nums = [2,7,11,15], target = 9\n",
    "Output0 [0,1]\n",
    "\n",
    "**Explanation:** Because nums[0] + nums[1] == 9, we return [0, 1]["
   ]
  },
  {
   "cell_type": "code",
   "execution_count": 5,
   "id": "8a3840dd",
   "metadata": {},
   "outputs": [
    {
     "name": "stdout",
     "output_type": "stream",
     "text": [
      "[0, 1]\n"
     ]
    }
   ],
   "source": [
    "def twoSum(nums, target):\n",
    "    # dictionary to store the remains of each number\n",
    "    num_dict = {}  \n",
    "    \n",
    "    for i, num in enumerate(nums):\n",
    "        remain = target - num\n",
    "        \n",
    "        if remain in num_dict:\n",
    "            return [num_dict[remain], i]\n",
    "        \n",
    "        num_dict[num] = i\n",
    "    \n",
    "    # if no solution found\n",
    "    return []  \n",
    "\n",
    "# OUTPUT\n",
    "nums = [2, 7, 11, 15]\n",
    "target = 9\n",
    "result = twoSum(nums, target)\n",
    "print(result)\n"
   ]
  },
  {
   "cell_type": "markdown",
   "id": "1a877263",
   "metadata": {},
   "source": [
    "Q2.Given an integer array nums and an integer val, remove all occurrences of val in nums in-place. The order of the elements may be changed. Then return the number of elements in nums which are not equal to val.\n",
    "Consider the number of elements in nums which are not equal to val be k, to get accepted, you need to do the following things:\n",
    "- Change the array nums such that the first k elements of nums contain the elements which are not equal to val. The remaining elements of nums are not important as well as the size of nums.\n",
    "- Return k.\n",
    "\n",
    "**Example :**\n",
    "Input: nums = [3,2,2,3], val = 3\n",
    "Output: 2, nums = [2,2,_*,_*]\n",
    "\n",
    "**Explanation:** Your function should return k = 2, with the first two elements of nums being 2. It does not matter what you leave beyond the returned k (hence they are underscores)"
   ]
  },
  {
   "cell_type": "code",
   "execution_count": 8,
   "id": "e800836f",
   "metadata": {},
   "outputs": [
    {
     "name": "stdout",
     "output_type": "stream",
     "text": [
      "Output: 2, nums = [2, 2, '_*', '_*']\n"
     ]
    }
   ],
   "source": [
    "def remove(nums, val):\n",
    "    k = 0\n",
    "    \n",
    "    for i in nums:\n",
    "        if i != val:\n",
    "            nums[k] = i\n",
    "            k += 1\n",
    "    \n",
    "    for j in range(k, len(nums)):\n",
    "        nums[j] = '_*'\n",
    "    \n",
    "    return k, nums\n",
    "\n",
    "# OUTPUT\n",
    "nums = [3, 2, 2, 3]\n",
    "val = 3\n",
    "result, updated = remove(nums, val)\n",
    "print(f\"Output: {result}, nums = {updated}\")\n"
   ]
  },
  {
   "cell_type": "markdown",
   "id": "3f43a005",
   "metadata": {},
   "source": [
    "Q3.Given a sorted array of distinct integers and a target value, return the index if the target is found. If not, return the index where it would be if it were inserted in order.\n",
    "You must write an algorithm with O(log n) runtime complexity.\n",
    "\n",
    "**Example 1:**\n",
    "Input: nums = [1,3,5,6], target = 5\n",
    "\n",
    "Output: 2"
   ]
  },
  {
   "cell_type": "code",
   "execution_count": 10,
   "id": "96c9d686",
   "metadata": {},
   "outputs": [
    {
     "name": "stdout",
     "output_type": "stream",
     "text": [
      "Output: 2\n"
     ]
    }
   ],
   "source": [
    "def search(nums, target):\n",
    "    left = 0\n",
    "    right = len(nums) - 1\n",
    "    \n",
    "    while left <= right:\n",
    "        mid = left + (right - left) // 2\n",
    "        \n",
    "        if nums[mid] == target:\n",
    "            return mid\n",
    "        elif nums[mid] < target:\n",
    "            left = mid + 1\n",
    "        else:\n",
    "            right = mid - 1\n",
    "    \n",
    "    return left\n",
    "\n",
    "# OUTPUT\n",
    "nums = [1, 3, 5, 6]\n",
    "target = 5\n",
    "index = search(nums, target)\n",
    "print(f\"Output: {index}\")\n"
   ]
  },
  {
   "cell_type": "markdown",
   "id": "32597839",
   "metadata": {},
   "source": [
    "Q4.You are given a large integer represented as an integer array digits, where each digits[i] is the ith digit of the integer. The digits are ordered from most significant to least significant in left-to-right order. The large integer does not contain any leading 0's.\n",
    "Increment the large integer by one and return the resulting array of digits.\n",
    "\n",
    "**Example 1:**\n",
    "Input: digits = [1,2,3]\n",
    "Output: [1,2,4]\n",
    "\n",
    "**Explanation:** The array represents the integer 123.\n",
    "\n",
    "Incrementing by one gives 123 + 1 = 124.\n",
    "Thus, the result should be [1,2,4]"
   ]
  },
  {
   "cell_type": "code",
   "execution_count": 12,
   "id": "3163a713",
   "metadata": {},
   "outputs": [
    {
     "name": "stdout",
     "output_type": "stream",
     "text": [
      "Output: [5, 7, 0]\n"
     ]
    }
   ],
   "source": [
    "def increment(digits):\n",
    "    n = len(digits)\n",
    "    \n",
    "    # Iterate from right to left\n",
    "    for i in range(n - 1, -1, -1):\n",
    "        # Increment the current digit\n",
    "        digits[i] += 1\n",
    "        \n",
    "        # Check if there is a carry\n",
    "        if digits[i] < 10:\n",
    "            # No carry, return the digits array\n",
    "            return digits\n",
    "        else:\n",
    "            # Carry, set the current digit to 0\n",
    "            digits[i] = 0\n",
    "    \n",
    "    # If there is still a carry at this point, add a new digit 1 at the beginning\n",
    "    return [1] + digits\n",
    "\n",
    "# OUTPUT\n",
    "digits = [5,6,9]\n",
    "result = increment(digits)\n",
    "print(f\"Output: {result}\")\n"
   ]
  },
  {
   "cell_type": "markdown",
   "id": "6652647e",
   "metadata": {},
   "source": [
    "Q5. You are given two integer arrays nums1 and nums2, sorted in non-decreasing order, and two integers m and n, representing the number of elements in nums1 and nums2 respectively.\n",
    "Merge nums1 and nums2 into a single array sorted in non-decreasing order.The final sorted array should not be returned by the function, but instead be stored inside the array nums1. To accommodate this, nums1 has a length of m + n, where the first m elements denote the elements that should be merged, and the last n elements are set to 0 and should be ignored. nums2 has a length of n.\n",
    "\n",
    "**Example 1:**\n",
    "Input: nums1 = [1,2,3,0,0,0], m = 3, nums2 = [2,5,6], n = 3\n",
    "Output: [1,2,2,3,5,6]\n",
    "\n",
    "**Explanation:** The arrays we are merging are [1,2,3] and [2,5,6].\n",
    "The result of the merge is [1,2,2,3,5,6] with the underlined elements coming from nums1."
   ]
  },
  {
   "cell_type": "code",
   "execution_count": 13,
   "id": "5ba3443a",
   "metadata": {},
   "outputs": [
    {
     "name": "stdout",
     "output_type": "stream",
     "text": [
      "Output: [1, 2, 2, 3, 5, 6]\n"
     ]
    }
   ],
   "source": [
    "def merge(nums1, m, nums2, n):\n",
    "    \n",
    "    p1 = m - 1  # Pointer for nums1\n",
    "    p2 = n - 1  # Pointer for nums2\n",
    "    p = m + n - 1  # Pointer for the merged array\n",
    "    \n",
    "    while p1 >= 0 and p2 >= 0:\n",
    "        if nums1[p1] <= nums2[p2]:\n",
    "            nums1[p] = nums2[p2]\n",
    "            p2 -= 1\n",
    "        else:\n",
    "            nums1[p] = nums1[p1]\n",
    "            p1 -= 1\n",
    "        p -= 1\n",
    "    \n",
    "    nums1[:p2 + 1] = nums2[:p2 + 1]\n",
    "    \n",
    "    return nums1\n",
    "\n",
    "# OUTPUT\n",
    "nums1 = [1, 2, 3, 0, 0, 0]\n",
    "m = 3\n",
    "nums2 = [2, 5, 6]\n",
    "n = 3\n",
    "\n",
    "merge(nums1, m, nums2, n)\n",
    "print(f\"Output: {nums1}\")\n"
   ]
  },
  {
   "cell_type": "markdown",
   "id": "169e2f10",
   "metadata": {},
   "source": [
    "Q6. Given an integer array nums, return true if any value appears at least twice in the array, and return false if every element is distinct.\n",
    "\n",
    "**Example 1:**\n",
    "Input: nums = [1,2,3,1]\n",
    "\n",
    "Output: true"
   ]
  },
  {
   "cell_type": "code",
   "execution_count": 14,
   "id": "c084f41c",
   "metadata": {},
   "outputs": [
    {
     "name": "stdout",
     "output_type": "stream",
     "text": [
      "Output: True\n"
     ]
    }
   ],
   "source": [
    "def Duplicate(nums):\n",
    "    abc = set()\n",
    "\n",
    "    for num in nums:\n",
    "        if num in abc:\n",
    "            return True \n",
    "        abc.add(num)  \n",
    "\n",
    "    return False\n",
    "\n",
    "# OUTPUT\n",
    "nums = [1, 2, 3, 1]\n",
    "result = Duplicate(nums)\n",
    "print(f\"Output: {result}\")\n"
   ]
  },
  {
   "cell_type": "markdown",
   "id": "d7a5ff0c",
   "metadata": {},
   "source": [
    "Q7.Given an integer array nums, move all 0's to the end of it while maintaining the relative order of the nonzero elements.\n",
    "Note that you must do this in-place without making a copy of the array.\n",
    "\n",
    "**Example 1:**\n",
    "Input: nums = [0,1,0,3,12]\n",
    "Output: [1,3,12,0,0]"
   ]
  },
  {
   "cell_type": "code",
   "execution_count": 16,
   "id": "fda455df",
   "metadata": {},
   "outputs": [
    {
     "name": "stdout",
     "output_type": "stream",
     "text": [
      "Output: [1, 3, 12, 0, 0]\n"
     ]
    }
   ],
   "source": [
    "def Zeroes(nums):\n",
    "    n = len(nums)\n",
    "    i = 0\n",
    "\n",
    "    # Finding nonzero elements and place them at position i\n",
    "    for j in range(n):\n",
    "        if nums[j] != 0:\n",
    "            nums[i] = nums[j]\n",
    "            i += 1\n",
    "\n",
    "    # Filling the remaining positions with zeros\n",
    "    while i < n:\n",
    "        nums[i] = 0\n",
    "        i += 1\n",
    "\n",
    "# OUTPUT\n",
    "nums = [0, 1, 0, 3, 12]\n",
    "Zeroes(nums)\n",
    "print(f\"Output: {nums}\")\n"
   ]
  },
  {
   "cell_type": "markdown",
   "id": "f48c304f",
   "metadata": {},
   "source": [
    "Q8.You have a set of integers s, which originally contains all the numbers from 1 to n. Unfortunately, due to some error, one of the numbers in s got duplicated to another number in the set, which results in repetition of one number and loss of another number.\n",
    "You are given an integer array nums representing the data status of this set after the error.\n",
    "Find the number that occurs twice and the number that is missing and return them in the form of an array.\n",
    "\n",
    "**Example 1:**\n",
    "Input: nums = [1,2,2,4]\n",
    "Output: [2,3]"
   ]
  },
  {
   "cell_type": "code",
   "execution_count": 18,
   "id": "0d6e59ed",
   "metadata": {},
   "outputs": [
    {
     "name": "stdout",
     "output_type": "stream",
     "text": [
      "Output: [6, 1]\n"
     ]
    }
   ],
   "source": [
    "def ErrorNums(nums):\n",
    "    # Calculate XOR of all numbers from 1 to n\n",
    "    xor = 0\n",
    "    for i in range(1, len(nums) + 1):\n",
    "        xor ^= i\n",
    "\n",
    "    # Calculate XOR of all numbers in the given array\n",
    "    for num in nums:\n",
    "        xor ^= num\n",
    "\n",
    "    # Find the rightmost set bit in the XOR result\n",
    "    rightmost_set_bit = xor & (-xor)\n",
    "\n",
    "    # Partition the numbers into two groups based on the rightmost set bit\n",
    "    missing_num, duplicate_num = 0, 0\n",
    "    for num in nums:\n",
    "        if num & rightmost_set_bit:\n",
    "            duplicate_num ^= num\n",
    "        else:\n",
    "            missing_num ^= num\n",
    "\n",
    "    # Check the remaining numbers from 1 to n\n",
    "    for i in range(1, len(nums) + 1):\n",
    "        if i & rightmost_set_bit:\n",
    "            duplicate_num ^= i\n",
    "        else:\n",
    "            missing_num ^= i\n",
    "\n",
    "    # Check if duplicate_num or missing_num is present in nums\n",
    "    for num in nums:\n",
    "        if num == duplicate_num:\n",
    "            return [duplicate_num, missing_num]\n",
    "    \n",
    "    return [missing_num, duplicate_num]\n",
    "\n",
    "# Example usage\n",
    "nums = [3,7,0,7]\n",
    "result = ErrorNums(nums)\n",
    "print(f\"Output: {result}\")"
   ]
  }
 ],
 "metadata": {
  "kernelspec": {
   "display_name": "Python 3 (ipykernel)",
   "language": "python",
   "name": "python3"
  },
  "language_info": {
   "codemirror_mode": {
    "name": "ipython",
    "version": 3
   },
   "file_extension": ".py",
   "mimetype": "text/x-python",
   "name": "python",
   "nbconvert_exporter": "python",
   "pygments_lexer": "ipython3",
   "version": "3.9.7"
  }
 },
 "nbformat": 4,
 "nbformat_minor": 5
}
