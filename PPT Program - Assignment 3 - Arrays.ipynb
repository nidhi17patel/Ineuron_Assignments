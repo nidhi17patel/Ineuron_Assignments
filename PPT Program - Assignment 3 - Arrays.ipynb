{
 "cells": [
  {
   "cell_type": "markdown",
   "id": "bb9855c0",
   "metadata": {},
   "source": [
    "Question 1\n",
    "Given an integer array nums of length n and an integer target, find three integers\n",
    "in nums such that the sum is closest to the target.\n",
    "Return the sum of the three integers.\n",
    "\n",
    "You may assume that each input would have exactly one solution.\n",
    "\n",
    "Example 1:\n",
    "Input: nums = [-1,2,1,-4], target = 1\n",
    "Output: 2\n",
    "\n",
    "Explanation: The sum that is closest to the target is 2. (-1 + 2 + 1 = 2)."
   ]
  },
  {
   "cell_type": "code",
   "execution_count": 3,
   "id": "7ba06ab6",
   "metadata": {},
   "outputs": [
    {
     "name": "stdout",
     "output_type": "stream",
     "text": [
      "2\n"
     ]
    }
   ],
   "source": [
    "def ClosestSum(nums,target):\n",
    "        s=float('inf')\n",
    "        t=len(nums)\n",
    "        nums.sort()\n",
    "        for x in range(t-2):\n",
    "            i=x+1\n",
    "            j=t-1\n",
    "            while i<j:\n",
    "                s1=nums[x]+nums[i]+nums[j]\n",
    "                #print(x,i,j,'here')\n",
    "                if s1==target:\n",
    "                    return target\n",
    "                if abs(target-s)>abs(target-s1):\n",
    "                    #print(x,i,j,'-------',s1)\n",
    "                    s=s1\n",
    "                if s1<target:\n",
    "                    i+=1\n",
    "                else:\n",
    "                    j-=1\n",
    "        return s\n",
    "    \n",
    "    \n",
    "\n",
    "#OUTPUT\n",
    "nums = [-1,2,1,-4]\n",
    "target = 1 \n",
    "sum = ClosestSum(nums,target)\n",
    "print(sum)"
   ]
  },
  {
   "cell_type": "markdown",
   "id": "a3a658af",
   "metadata": {},
   "source": [
    "Question 2\n",
    "Given an array nums of n integers, return an array of all the unique quadruplets\n",
    "[nums[a], nums[b], nums[c], nums[d]] such that:\n",
    "           ● 0 <= a, b, c, d < n\n",
    "           ● a, b, c, and d are distinct.\n",
    "           ● nums[a] + nums[b] + nums[c] + nums[d] == target\n",
    "\n",
    "You may return the answer in any order.\n",
    "\n",
    "Example 1:\n",
    "Input: nums = [1,0,-1,0,-2,2], target = 0\n",
    "Output: [[-2,-1,1,2],[-2,0,0,2],[-1,0,0,1]]"
   ]
  },
  {
   "cell_type": "code",
   "execution_count": 6,
   "id": "2fa9624f",
   "metadata": {},
   "outputs": [
    {
     "name": "stdout",
     "output_type": "stream",
     "text": [
      "[[-2, -1, 1, 2], [-1, 0, 0, 1], [-2, 0, 0, 2]]\n"
     ]
    }
   ],
   "source": [
    "def Sum(arr,target):\n",
    "        arr.sort()\n",
    "        res = []\n",
    "        ans = []\n",
    "        for i in range(len(arr)-3):\n",
    "            for j in range(i+1, len(arr)-1):\n",
    "                l = j+1\n",
    "                r = len(arr) - 1\n",
    "                while l < r:\n",
    "                    if arr[i] + arr[j] + arr[l] + arr[r] == target:\n",
    "                        res.append((arr[i], arr[j], arr[l], arr[r]))\n",
    "                        l += 1\n",
    "                        r -= 1\n",
    "                    elif arr[i] + arr[j] + arr[l] + arr[r] > target:\n",
    "                        r -= 1\n",
    "                    else:\n",
    "                        l += 1\n",
    "        for i in list(set(res)):\n",
    "            ans.append(list(i))\n",
    "        return ans\n",
    "    \n",
    "#OUTPUT\n",
    "arr = [1,0,-1,0,-2,2]\n",
    "target = 0\n",
    "quad = Sum(arr,target)\n",
    "print(quad)"
   ]
  },
  {
   "cell_type": "markdown",
   "id": "5cd07a87",
   "metadata": {},
   "source": [
    "Question 3\n",
    "A permutation of an array of integers is an arrangement of its members into a\n",
    "sequence or linear order.\n",
    "\n",
    "For example, for arr = [1,2,3], the following are all the permutations of arr:\n",
    "[1,2,3], [1,3,2], [2, 1, 3], [2, 3, 1], [3,1,2], [3,2,1].\n",
    "\n",
    "The next permutation of an array of integers is the next lexicographically greater\n",
    "permutation of its integer. More formally, if all the permutations of the array are\n",
    "sorted in one container according to their lexicographical order, then the next\n",
    "permutation of that array is the permutation that follows it in the sorted container.\n",
    "\n",
    "If such an arrangement is not possible, the array must be rearranged as the\n",
    "lowest possible order (i.e., sorted in ascending order).\n",
    "\n",
    "● For example, the next permutation of arr = [1,2,3] is [1,3,2].\n",
    "● Similarly, the next permutation of arr = [2,3,1] is [3,1,2].\n",
    "● While the next permutation of arr = [3,2,1] is [1,2,3] because [3,2,1] does not\n",
    "have a lexicographical larger rearrangement.\n",
    "\n",
    "Given an array of integers nums, find the next permutation of nums.\n",
    "The replacement must be in place and use only constant extra memory.\n",
    "\n",
    "**Example 1:**\n",
    "Input: nums = [1,2,3]\n",
    "Output: [1,3,2]"
   ]
  },
  {
   "cell_type": "code",
   "execution_count": 7,
   "id": "cbbccea0",
   "metadata": {},
   "outputs": [
    {
     "name": "stdout",
     "output_type": "stream",
     "text": [
      "[1, 3, 2]\n"
     ]
    }
   ],
   "source": [
    "def Permutation(nums):\n",
    "    i = j = len(nums)-1\n",
    "    while i > 0 and nums[i-1] >= nums[i]:\n",
    "        i -= 1\n",
    "    # nums are in descending order\n",
    "    if i == 0:   \n",
    "        nums.reverse()\n",
    "        return\n",
    "    # find the last \"ascending\" position\n",
    "    k = i - 1    \n",
    "    while nums[j] <= nums[k]:\n",
    "        j -= 1\n",
    "    nums[k], nums[j] = nums[j], nums[k]  \n",
    "    # reverse the second part\n",
    "    l, r = k+1, len(nums)-1  \n",
    "    while l < r:\n",
    "        nums[l], nums[r] = nums[r], nums[l]\n",
    "        l +=1 ; r -= 1\n",
    "        \n",
    "        \n",
    "        \n",
    "#OUTPUT\n",
    "nums = [1,2,3]\n",
    "next = Permutation(nums)\n",
    "print(nums)"
   ]
  },
  {
   "cell_type": "markdown",
   "id": "52bafda2",
   "metadata": {},
   "source": [
    "Question 4\n",
    "Given a sorted array of distinct integers and a target value, return the index if the\n",
    "target is found. If not, return the index where it would be if it were inserted in\n",
    "order.\n",
    "\n",
    "You must write an algorithm with O(log n) runtime complexity.\n",
    "\n",
    "Example 1:\n",
    "Input: nums = [1,3,5,6], target = 5\n",
    "Output: 2"
   ]
  },
  {
   "cell_type": "code",
   "execution_count": 10,
   "id": "36b6984b",
   "metadata": {},
   "outputs": [
    {
     "name": "stdout",
     "output_type": "stream",
     "text": [
      "2\n"
     ]
    }
   ],
   "source": [
    "def search(nums, target):\n",
    "        l = 0\n",
    "        r = len(nums) - 1\n",
    "        while l <= r:\n",
    "            mid = (l + r) // 2\n",
    "            if nums[mid] < target:\n",
    "                l = mid + 1\n",
    "            elif nums[mid] > target:\n",
    "                r = mid - 1\n",
    "            else:\n",
    "                return mid\n",
    "        return l\n",
    "    \n",
    "    \n",
    "#OUTPUT\n",
    "nums = [1,3,5,6]\n",
    "target = 5\n",
    "insert = search(nums,target)\n",
    "print(insert)\n",
    "        "
   ]
  },
  {
   "cell_type": "markdown",
   "id": "62217463",
   "metadata": {},
   "source": [
    "Question 5\n",
    "You are given a large integer represented as an integer array digits, where each\n",
    "digits[i] is the ith digit of the integer. The digits are ordered from most significant\n",
    "to least significant in left-to-right order. The large integer does not contain any\n",
    "leading 0's.\n",
    "\n",
    "Increment the large integer by one and return the resulting array of digits.\n",
    "\n",
    "**Example 1:**\n",
    "Input: digits = [1,2,3]\n",
    "Output: [1,2,4]\n",
    "\n",
    "**Explanation:** The array represents the integer 123.\n",
    "Incrementing by one gives 123 + 1 = 124.\n",
    "Thus, the result should be [1,2,4]."
   ]
  },
  {
   "cell_type": "code",
   "execution_count": 11,
   "id": "6b0c678d",
   "metadata": {},
   "outputs": [
    {
     "name": "stdout",
     "output_type": "stream",
     "text": [
      "[1, 2, 4]\n"
     ]
    }
   ],
   "source": [
    "def plus(digits):\n",
    "        digits=[str(i) for i in digits]\n",
    "        s=''.join(digits)\n",
    "        a=int(s)+1\n",
    "        l=list(str(a))\n",
    "        l=[int(i) for i in l]\n",
    "        return l\n",
    "\n",
    "\n",
    "#OUTPUT\n",
    "digits = [1,2,3]\n",
    "result = plus(digits)\n",
    "print(result)"
   ]
  },
  {
   "cell_type": "markdown",
   "id": "174e771b",
   "metadata": {},
   "source": [
    "Question 6\n",
    "Given a non-empty array of integers nums, every element appears twice except\n",
    "for one. Find that single one.\n",
    "\n",
    "You must implement a solution with a linear runtime complexity and use only\n",
    "constant extra space.\n",
    "\n",
    "Example 1:\n",
    "Input: nums = [2,2,1]\n",
    "Output: 1"
   ]
  },
  {
   "cell_type": "code",
   "execution_count": 12,
   "id": "8a4298f0",
   "metadata": {},
   "outputs": [
    {
     "name": "stdout",
     "output_type": "stream",
     "text": [
      "1\n"
     ]
    }
   ],
   "source": [
    " def singleNumber(nums):\n",
    "        # Initialize the unique number...\n",
    "        uniqNum = 0;\n",
    "        # TRaverse all elements through the loop...\n",
    "        for idx in nums:\n",
    "            # Concept of XOR...\n",
    "            uniqNum ^= idx;\n",
    "        return uniqNum; \n",
    "\n",
    "\n",
    "#OUTPUT\n",
    "nums = [2,2,1] \n",
    "result = singleNumber(nums)\n",
    "print(result)"
   ]
  },
  {
   "cell_type": "markdown",
   "id": "dc4c7f79",
   "metadata": {},
   "source": [
    "Question 7\n",
    "You are given an inclusive range [lower, upper] and a sorted unique integer array\n",
    "nums, where all elements are within the inclusive range.\n",
    "\n",
    "A number x is considered missing if x is in the range [lower, upper] and x is not in\n",
    "nums.\n",
    "\n",
    "Return the shortest sorted list of ranges that exactly covers all the missing\n",
    "numbers. That is, no element of nums is included in any of the ranges, and each\n",
    "missing number is covered by one of the ranges.\n",
    "\n",
    "Example 1:\n",
    "Input: nums = [0,1,3,50,75], lower = 0, upper = 99\n",
    "Output: [[2,2],[4,49],[51,74],[76,99]]\n",
    "\n",
    "Explanation: The ranges are:\n",
    "[2,2]\n",
    "[4,49]\n",
    "[51,74]\n",
    "[76,99]"
   ]
  },
  {
   "cell_type": "markdown",
   "id": "a2eff83f",
   "metadata": {},
   "source": [
    "Question 8\n",
    "Given an array of meeting time intervals where intervals[i] = [starti, endi],\n",
    "determine if a person could attend all meetings.\n",
    "\n",
    "Example 1:\n",
    "Input: intervals = [[0,30],[5,10],[15,20]]\n",
    "Output: false"
   ]
  },
  {
   "cell_type": "code",
   "execution_count": 23,
   "id": "b24d5f9a",
   "metadata": {},
   "outputs": [
    {
     "name": "stdout",
     "output_type": "stream",
     "text": [
      "False\n"
     ]
    }
   ],
   "source": [
    "def canAttendMeetings(intervals):\n",
    "\n",
    "        n = len(intervals)\n",
    "        \n",
    "        def overlap(a, b):\n",
    "            return min(a[1], b[1]) > max(a[0], b[0])\n",
    "        \n",
    "        for i in range(n):\n",
    "            for j in range(i):\n",
    "                if overlap(intervals[i], intervals[j]):\n",
    "                    return False\n",
    "        return True\n",
    "    \n",
    "    \n",
    "\n",
    "#OUTPUT\n",
    "intervals = [[0,30],[5,10],[15,20]]\n",
    "result = canAttendMeetings(intervals)\n",
    "print(result)"
   ]
  }
 ],
 "metadata": {
  "kernelspec": {
   "display_name": "Python 3 (ipykernel)",
   "language": "python",
   "name": "python3"
  },
  "language_info": {
   "codemirror_mode": {
    "name": "ipython",
    "version": 3
   },
   "file_extension": ".py",
   "mimetype": "text/x-python",
   "name": "python",
   "nbconvert_exporter": "python",
   "pygments_lexer": "ipython3",
   "version": "3.9.7"
  }
 },
 "nbformat": 4,
 "nbformat_minor": 5
}
