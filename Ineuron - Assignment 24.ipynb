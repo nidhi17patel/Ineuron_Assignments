{
 "cells": [
  {
   "cell_type": "markdown",
   "id": "06569fb2",
   "metadata": {},
   "source": [
    "1. What is the relationship between def statements and lambda expressions ?"
   ]
  },
  {
   "cell_type": "markdown",
   "id": "5876d915",
   "metadata": {},
   "source": [
    "Def statements and lambda expressions are both related to creating functions in programming, but they serve different purposes and have distinct characteristics.\n",
    "def statements are used to define regular functions with names, parameters, and code blocks, while lambda expressions are used to create anonymous functions that are more concise and suited for simpler operations."
   ]
  },
  {
   "cell_type": "markdown",
   "id": "36b3183b",
   "metadata": {},
   "source": [
    "2. What is the benefit of lambda?"
   ]
  },
  {
   "cell_type": "markdown",
   "id": "733d0fcd",
   "metadata": {},
   "source": [
    "Lambda expressions provide concise syntax for defining small, anonymous functions, making code shorter, more readable, and enabling functional programming patterns."
   ]
  },
  {
   "cell_type": "markdown",
   "id": "d14e4869",
   "metadata": {},
   "source": [
    "3. Compare and contrast map, filter, and reduce."
   ]
  },
  {
   "cell_type": "markdown",
   "id": "26a4c098",
   "metadata": {},
   "source": [
    "Comparison:\n",
    "\n",
    "map transforms each element, filter selects elements based on a condition, and reduce combines elements iteratively.\n",
    "map and filter return sequences of the same length as input, whereas reduce returns a single value.\n",
    "All three functions are functional programming concepts that facilitate concise and expressive code.\n",
    "\n",
    "Contrast:\n",
    "\n",
    "map and filter involve one-to-one operations, while reduce involves an accumulation operation.\n",
    "map and filter are available in most programming languages, but reduce might need to be imported from libraries.\n",
    "reduce can often be replaced with other constructs like loops or comprehensions, making it less common.\n",
    "In summary, map, filter, and reduce are useful tools for transforming, selecting, and aggregating data in different ways, and each serves a specific purpose in functional programming."
   ]
  },
  {
   "cell_type": "markdown",
   "id": "35717caf",
   "metadata": {},
   "source": [
    "4. What are function annotations, and how are they used?"
   ]
  },
  {
   "cell_type": "raw",
   "id": "24212434",
   "metadata": {},
   "source": [
    "Function annotations in Python are a way to provide metadata about the types of function parameters and the return value.\n",
    "Function annotations are specified using colons (:) after the parameter name or return value, followed by the type information. The type information can be any valid Python expression, but it's commonly used with built-in types, user-defined classes, or type hints from the typing module.\n",
    "\n",
    "Here's how function annotations are used:\n",
    "def calculate_discount(amount: float, percentage: float) -> float:\n",
    "    # Function to calculate a discount\n",
    "    return amount * (percentage / 100)\n",
    "\n",
    "result = calculate_discount(100, 20)\n",
    "print(result)\n",
    "\n",
    "In this example:\n",
    "\n",
    "amount: float indicates that the amount parameter is expected to be of type float.\n",
    "percentage: float indicates that the percentage parameter is also expected to be of type float.\n",
    "-> float specifies that the return value of the function is expected to be of type float."
   ]
  },
  {
   "cell_type": "markdown",
   "id": "b7f0bf1b",
   "metadata": {},
   "source": [
    "5. What are recursive functions, and how are they used?"
   ]
  },
  {
   "cell_type": "raw",
   "id": "ff105ded",
   "metadata": {},
   "source": [
    "A recursive function is a function that calls itself in its own definition. \n",
    "Here's an example of a recursive function: calculating the factorial of a number.\n",
    "def factorial(n):\n",
    "    if n == 0:\n",
    "        return 1\n",
    "    else:\n",
    "        return n * factorial(n - 1)\n",
    "\n",
    "result = factorial(5)  # Calculates 5!\n",
    "print(result)\n",
    "\n",
    "#In this example, the factorial function calls itself with a smaller value until it reaches the base case (n == 0), at which point it returns 1. The intermediate results are then used to calculate the final result."
   ]
  },
  {
   "cell_type": "markdown",
   "id": "6af2ea1f",
   "metadata": {},
   "source": [
    "6. What are some general design guidelines for coding functions?"
   ]
  },
  {
   "cell_type": "raw",
   "id": "e110c698",
   "metadata": {},
   "source": [
    "Single Purpose: Each function should have a clear role.\n",
    "Descriptive Names: Use meaningful names for functions.\n",
    "Function Length: Keep functions short and focused.\n",
    "Parameters: Pass information via parameters, avoid global state.\n",
    "Default Values: Use defaults sensibly for common cases.\n",
    "Comments: Include comments to explain purpose and details.\n",
    "Avoid Magic Numbers: Use named constants for clarity.\n",
    "Minimal Nesting: Limit nesting for readability.\n",
    "Error Handling: Handle errors and unexpected input.\n",
    "Consistency: Follow a uniform style and naming.\n",
    "Testing: Design for easy testing and isolation.\n",
    "Documentation: Provide clear function documentation.\n",
    "Modularity: Aim for reusable and modular functions."
   ]
  },
  {
   "cell_type": "markdown",
   "id": "48505720",
   "metadata": {},
   "source": [
    "7. Name three or more ways that functions can communicate results to a caller."
   ]
  },
  {
   "cell_type": "markdown",
   "id": "5de91f38",
   "metadata": {},
   "source": [
    "Functions can communicate results to callers in several ways:\n",
    "\n",
    "Return Values: Functions often use the return statement to send a value back to the caller. This is a common way to provide the output or result of a computation.\n",
    "\n",
    "Print Statements: Although not always recommended, functions can print information directly to the console using the print() function. This allows for immediate visual feedback.\n",
    "\n",
    "Return Codes or Flags: Functions can return specific values (like error codes or boolean flags) to indicate the status of the operation or whether the function executed successfully.\n",
    "\n",
    "Data Structures: Functions can return complex data structures (e.g., dictionaries, lists, objects) containing multiple pieces of information that the caller can extract."
   ]
  }
 ],
 "metadata": {
  "kernelspec": {
   "display_name": "Python 3 (ipykernel)",
   "language": "python",
   "name": "python3"
  },
  "language_info": {
   "codemirror_mode": {
    "name": "ipython",
    "version": 3
   },
   "file_extension": ".py",
   "mimetype": "text/x-python",
   "name": "python",
   "nbconvert_exporter": "python",
   "pygments_lexer": "ipython3",
   "version": "3.9.7"
  }
 },
 "nbformat": 4,
 "nbformat_minor": 5
}
