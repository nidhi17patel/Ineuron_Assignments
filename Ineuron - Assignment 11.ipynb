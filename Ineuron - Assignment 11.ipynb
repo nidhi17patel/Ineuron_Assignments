{
 "cells": [
  {
   "cell_type": "raw",
   "id": "befbad55",
   "metadata": {},
   "source": [
    "1. Create an assert statement that throws an AssertionError if the variable spam is a negative\n",
    "integer."
   ]
  },
  {
   "cell_type": "code",
   "execution_count": 20,
   "id": "ed7ef551",
   "metadata": {},
   "outputs": [
    {
     "ename": "AssertionError",
     "evalue": "Only positive numbers are allowed",
     "output_type": "error",
     "traceback": [
      "\u001b[1;31m---------------------------------------------------------------------------\u001b[0m",
      "\u001b[1;31mAssertionError\u001b[0m                            Traceback (most recent call last)",
      "Input \u001b[1;32mIn [20]\u001b[0m, in \u001b[0;36m<cell line: 2>\u001b[1;34m()\u001b[0m\n\u001b[0;32m      1\u001b[0m x \u001b[38;5;241m=\u001b[39m \u001b[38;5;241m-\u001b[39m\u001b[38;5;241m4\u001b[39m\n\u001b[1;32m----> 2\u001b[0m \u001b[38;5;28;01massert\u001b[39;00m x \u001b[38;5;241m>\u001b[39m \u001b[38;5;241m0\u001b[39m, \u001b[38;5;124m'\u001b[39m\u001b[38;5;124mOnly positive numbers are allowed\u001b[39m\u001b[38;5;124m'\u001b[39m\n\u001b[0;32m      3\u001b[0m \u001b[38;5;28mprint\u001b[39m(\u001b[38;5;124m'\u001b[39m\u001b[38;5;124mx is a positive number.\u001b[39m\u001b[38;5;124m'\u001b[39m)\n",
      "\u001b[1;31mAssertionError\u001b[0m: Only positive numbers are allowed"
     ]
    }
   ],
   "source": [
    "x = -4\n",
    "assert x > 0, 'Only positive numbers are allowed'\n",
    "print('x is a positive number.')"
   ]
  },
  {
   "cell_type": "raw",
   "id": "99ff2707",
   "metadata": {},
   "source": [
    "2. Write an assert statement that triggers an AssertionError if the variables eggs and bacon contain\n",
    "strings that are the same as each other, even if their cases are different (that is, 'hello' and 'hello' are\n",
    "considered the same, and 'goodbye' and 'GOODbye' are also considered the same)."
   ]
  },
  {
   "cell_type": "raw",
   "id": "9b496004",
   "metadata": {},
   "source": [
    "eggs = input('Enter First String\\n')\n",
    "bacon = input('Enter Second String\\n')\n",
    "assert(eggs.lower()!= bacon.lower(), 'The eggs and bacon variables are the same!') or assert(eggs.upper() != bacon.upper(), 'The eggs and bacon variables are the same!')"
   ]
  },
  {
   "cell_type": "raw",
   "id": "4d4cb0c5",
   "metadata": {},
   "source": [
    "3. Create an assert statement that throws an AssertionError every time."
   ]
  },
  {
   "cell_type": "code",
   "execution_count": 28,
   "id": "a903b7d8",
   "metadata": {},
   "outputs": [],
   "source": [
    "assert(False, 'This assertion always triggers.')"
   ]
  },
  {
   "cell_type": "raw",
   "id": "97311b1a",
   "metadata": {},
   "source": [
    "4. What are the two lines that must be present in your software in order to call logging.debug()?"
   ]
  },
  {
   "cell_type": "raw",
   "id": "13747a72",
   "metadata": {},
   "source": [
    "import logging\n",
    "logging.basicConfig(level = logging.DEBUG,format = '%(levelname)s %(asctime)s %(name)s %(message)s')"
   ]
  },
  {
   "cell_type": "raw",
   "id": "5f194a8d",
   "metadata": {},
   "source": [
    "5. What are the two lines that your program must have in order to have logging.debug() send a\n",
    "logging message to a file named programLog.txt?"
   ]
  },
  {
   "cell_type": "raw",
   "id": "6efdbcbd",
   "metadata": {},
   "source": [
    "import logging\n",
    "logging.basicConfig(filename = \"programLog.txt\",level = logging.DEBUG,format = '%(levelname)s %(asctime)s %(name)s %(message)s')"
   ]
  },
  {
   "cell_type": "raw",
   "id": "cdadfa72",
   "metadata": {},
   "source": [
    "6. What are the five levels of logging?"
   ]
  },
  {
   "cell_type": "raw",
   "id": "c215328a",
   "metadata": {},
   "source": [
    "DEBUG, INFO, WARNING, ERROR, and CRITICAL"
   ]
  },
  {
   "cell_type": "raw",
   "id": "f5b97eeb",
   "metadata": {},
   "source": [
    "7. What line of code would you add to your software to disable all logging messages?"
   ]
  },
  {
   "cell_type": "raw",
   "id": "93dba25d",
   "metadata": {},
   "source": [
    "logging.disable(logging.CRITICAL)"
   ]
  },
  {
   "cell_type": "raw",
   "id": "02a79c29",
   "metadata": {},
   "source": [
    "8.Why is using logging messages better than using print() to display the same message?"
   ]
  },
  {
   "cell_type": "raw",
   "id": "65496252",
   "metadata": {},
   "source": [
    "9. What are the differences between the Step Over, Step In, and Step Out buttons in the debugger?"
   ]
  },
  {
   "cell_type": "raw",
   "id": "f409557a",
   "metadata": {},
   "source": [
    "The Step button will move the debugger into a function call. The Over button will quickly execute the function call without stepping into it. The Out button will quickly execute the rest of the code until it steps out of the function it currently is in."
   ]
  },
  {
   "cell_type": "raw",
   "id": "4af51eb4",
   "metadata": {},
   "source": [
    "10.After you click Continue, when will the debugger stop ?"
   ]
  },
  {
   "cell_type": "raw",
   "id": "5504e0ec",
   "metadata": {},
   "source": [
    "click Go, the debugger will stop when it has reached the end of the program or a line with a breakpoint."
   ]
  },
  {
   "cell_type": "raw",
   "id": "6eaf0ddb",
   "metadata": {},
   "source": [
    "11. What is the concept of a breakpoint?"
   ]
  },
  {
   "cell_type": "raw",
   "id": "b727d7bc",
   "metadata": {},
   "source": [
    "breakpoint is a setting on a line of code that causes the debugger to pause when the program execution reaches the line"
   ]
  }
 ],
 "metadata": {
  "kernelspec": {
   "display_name": "Python 3 (ipykernel)",
   "language": "python",
   "name": "python3"
  },
  "language_info": {
   "codemirror_mode": {
    "name": "ipython",
    "version": 3
   },
   "file_extension": ".py",
   "mimetype": "text/x-python",
   "name": "python",
   "nbconvert_exporter": "python",
   "pygments_lexer": "ipython3",
   "version": "3.9.12"
  }
 },
 "nbformat": 4,
 "nbformat_minor": 5
}
