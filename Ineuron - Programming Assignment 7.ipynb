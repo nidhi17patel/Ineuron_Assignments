{
 "cells": [
  {
   "cell_type": "raw",
   "id": "f640a500",
   "metadata": {},
   "source": [
    "1. Write a Python Program to find sum of array?"
   ]
  },
  {
   "cell_type": "code",
   "execution_count": 11,
   "id": "09203fcb",
   "metadata": {},
   "outputs": [
    {
     "name": "stdout",
     "output_type": "stream",
     "text": [
      "Enter the number of elements you want to input in array3\n",
      "numbers are:12\n",
      "numbers are:45\n",
      "numbers are:34\n",
      "[12, 45, 34]\n",
      "91\n"
     ]
    }
   ],
   "source": [
    "a = []\n",
    "sum = 0\n",
    "num = int(input(\"Enter the number of elements you want to input in array\"))\n",
    "for i in range (num):\n",
    "    n = int(input(\"numbers are:\"))\n",
    "    a.append(n)\n",
    "print(a)\n",
    "\n",
    "for i in range (len(a)):\n",
    "    sum = sum + a[i]\n",
    "print(sum)"
   ]
  },
  {
   "cell_type": "raw",
   "id": "df214e2c",
   "metadata": {},
   "source": [
    "2. Write a Python Program to find largest element in an array?"
   ]
  },
  {
   "cell_type": "code",
   "execution_count": 5,
   "id": "fac61a08",
   "metadata": {},
   "outputs": [
    {
     "name": "stdout",
     "output_type": "stream",
     "text": [
      "enter the number of elements:3\n",
      "numbers are:24\n",
      "numbers are:76\n",
      "numbers are:88\n",
      "[24, 76, 88]\n",
      "Largest Elemet of array is: 88\n"
     ]
    }
   ],
   "source": [
    "arr = []\n",
    "num = int(input(\"enter the number of elements:\"))\n",
    "for i in range(0,num):\n",
    "    n = int(input(\"numbers are:\"))\n",
    "    arr.append(n)\n",
    "print(arr)\n",
    "max = arr[0]\n",
    "for i in range(len(arr)):\n",
    "        if(arr[i]>max):\n",
    "            max = arr[i]\n",
    "print(\"Largest Element of array is:\", max)\n"
   ]
  },
  {
   "cell_type": "raw",
   "id": "17b37d31",
   "metadata": {},
   "source": [
    "3. Write a Python Program for array rotation?"
   ]
  },
  {
   "cell_type": "code",
   "execution_count": 2,
   "id": "9598c0ac",
   "metadata": {},
   "outputs": [
    {
     "name": "stdout",
     "output_type": "stream",
     "text": [
      "enter the number of elements:5\n",
      "Enter elements23\n",
      "Enter elements56\n",
      "Enter elements75\n",
      "Enter elements89\n",
      "Enter elements34\n",
      "original aaray is [23, 56, 75, 89, 34]\n",
      "enter the number by which you want to rotate the array3\n",
      "Array after rotation is:  [89, 34, 23, 56, 75]\n"
     ]
    }
   ],
   "source": [
    "def rotate(a,d):\n",
    "    temp = []\n",
    "    for i in range(d,len(a)):\n",
    "        temp.append(a[i])\n",
    "    for i in range(0,d):\n",
    "        temp.append(a[i])\n",
    "    a=temp.copy()\n",
    "    return a\n",
    "\n",
    "arr = []\n",
    "n = int(input(\"enter the number of elements:\"))\n",
    "for i in range(0,n):\n",
    "    num = int(input(\"Enter elements\"))\n",
    "    arr.append(num)\n",
    "print(\"original aaray is\", arr)\n",
    "d = int(input(\"enter the number by which you want to rotate the array\"))\n",
    "print(\"Array after rotation is: \", end=' ')\n",
    "print(rotate(arr, d))"
   ]
  },
  {
   "cell_type": "raw",
   "id": "51aa7e9f",
   "metadata": {},
   "source": [
    "4. Write a Python Program to Split the array and add the first part to the end?"
   ]
  },
  {
   "cell_type": "code",
   "execution_count": 4,
   "id": "526f9cad",
   "metadata": {},
   "outputs": [
    {
     "name": "stdout",
     "output_type": "stream",
     "text": [
      "Enter the number of elements to be input in of array7\n",
      "enter elements 9\n",
      "enter elements 65\n",
      "enter elements 67\n",
      "enter elements 87\n",
      "enter elements 33\n",
      "enter elements 54\n",
      "enter elements 56\n",
      "original array is [9, 65, 67, 87, 33, 54, 56]\n",
      "Array after rotation is:  [87, 33, 54, 56, 9, 65, 67]\n"
     ]
    }
   ],
   "source": [
    "def rotate(a, d):\n",
    "    temp = []\n",
    "    for i in range (d,n):\n",
    "        temp.append(a[i])\n",
    "    for i in range (0,d):\n",
    "        temp.append(a[i])\n",
    "    a = temp.copy()\n",
    "    return a\n",
    "\n",
    "\n",
    "arr = []\n",
    "n = int(input(\"Enter the number of elements to be input in of array\"))\n",
    "for i in range(0,n):\n",
    "    num=int(input(\"enter elements \"))\n",
    "    arr.append(num)\n",
    "print(\"original array is\", arr)\n",
    "print(\"Array after rotation is: \", end=' ')\n",
    "d = n//2\n",
    "print(rotate(arr, d))"
   ]
  },
  {
   "cell_type": "raw",
   "id": "655b3f70",
   "metadata": {},
   "source": [
    "5. Write a Python Program to check if given array is Monotonic?"
   ]
  },
  {
   "cell_type": "code",
   "execution_count": 9,
   "id": "bd4ec305",
   "metadata": {},
   "outputs": [
    {
     "name": "stdout",
     "output_type": "stream",
     "text": [
      "Enter the number of elements to be input in of array6\n",
      "enter elements 90\n",
      "enter elements 87\n",
      "enter elements 76\n",
      "enter elements 65\n",
      "enter elements 43\n",
      "enter elements 32\n",
      "[90, 87, 76, 65, 43, 32]\n",
      "Array is Monotonic\n"
     ]
    }
   ],
   "source": [
    "def Monotonic(a):\n",
    "    if (all (a[i] <= a[i+1] for i in range(len(a) - 1)) or all (a[i] >= a[i+1] for i in range(len(a) - 1))):\n",
    "        print(\"Array is Monotonic\")\n",
    "    else:\n",
    "        print(\"Array is Not Monotonic\")       \n",
    "        \n",
    "arr = []\n",
    "n = int(input(\"Enter the number of elements to be input in of array\"))\n",
    "for i in range(0,n):\n",
    "    num=int(input(\"enter elements \"))\n",
    "    arr.append(num)\n",
    "print(arr)\n",
    "\n",
    "Monotonic(arr)"
   ]
  }
 ],
 "metadata": {
  "kernelspec": {
   "display_name": "Python 3 (ipykernel)",
   "language": "python",
   "name": "python3"
  },
  "language_info": {
   "codemirror_mode": {
    "name": "ipython",
    "version": 3
   },
   "file_extension": ".py",
   "mimetype": "text/x-python",
   "name": "python",
   "nbconvert_exporter": "python",
   "pygments_lexer": "ipython3",
   "version": "3.9.12"
  }
 },
 "nbformat": 4,
 "nbformat_minor": 5
}
