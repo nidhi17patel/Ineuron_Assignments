{
 "cells": [
  {
   "cell_type": "raw",
   "id": "bf6df4f5",
   "metadata": {},
   "source": [
    "1. Write a Python Program to Find LCM?"
   ]
  },
  {
   "cell_type": "code",
   "execution_count": null,
   "id": "778e20a2",
   "metadata": {},
   "outputs": [],
   "source": [
    "num1 = int(input(\"Enter first number\"))\n",
    "num2 = int(input(\"Enter Second number\"))\n",
    "\n",
    "if num1>num2:\n",
    "    greater = num1\n",
    "else:\n",
    "    greater = num2\n",
    "    \n",
    "while True:\n",
    "    if ((greater%num1 == 0) and (greater%num2 == 0)):\n",
    "        print(\"LCM is\", greater)\n",
    "        break\n",
    "    greater = greater+1"
   ]
  },
  {
   "cell_type": "raw",
   "id": "737d9118",
   "metadata": {},
   "source": [
    "2. Write a Python Program to Find HCF?"
   ]
  },
  {
   "cell_type": "code",
   "execution_count": 12,
   "id": "2533e829",
   "metadata": {},
   "outputs": [
    {
     "name": "stdout",
     "output_type": "stream",
     "text": [
      "Enter first number34\n",
      "Enter Second number36\n",
      "HCF of two given number is 2\n"
     ]
    }
   ],
   "source": [
    "num1 = int(input(\"Enter first number\"))\n",
    "num2 = int(input(\"Enter Second number\"))\n",
    "\n",
    "if num1 > num2:\n",
    "    smaller = num2\n",
    "else:\n",
    "    smaller = num1\n",
    "    \n",
    "for i in range(1, smaller+1):\n",
    "    if ((num1%i == 0) and (num2%i == 0)):\n",
    "        hcf = i\n",
    "\n",
    "print(\"HCF of two given number is\", hcf)       "
   ]
  },
  {
   "cell_type": "raw",
   "id": "f5f415b1",
   "metadata": {},
   "source": [
    "3. Write a Python Program to Convert Decimal to Binary, Octal and Hexadecimal?"
   ]
  },
  {
   "cell_type": "code",
   "execution_count": 7,
   "id": "9d292ee1",
   "metadata": {},
   "outputs": [
    {
     "name": "stdout",
     "output_type": "stream",
     "text": [
      "enter the Decimal Number432\n",
      "Binary of decimal  432 is  0b110110000\n",
      "Octal of decimal  432 is  0o660\n",
      "Hexadecimal of decimal  432 is  0x1b0\n"
     ]
    }
   ],
   "source": [
    "num = int(input(\"enter the Decimal Number\"))\n",
    "print(\"Binary of decimal \",num, \"is \", bin(num))\n",
    "print(\"Octal of decimal \",num, \"is \", oct(num))\n",
    "print(\"Hexadecimal of decimal \",num, \"is \", hex(num))"
   ]
  },
  {
   "cell_type": "raw",
   "id": "e61a07c8",
   "metadata": {},
   "source": [
    "4. Write a Python Program To Find ASCII value of a character?"
   ]
  },
  {
   "cell_type": "code",
   "execution_count": 14,
   "id": "286ae780",
   "metadata": {},
   "outputs": [
    {
     "name": "stdout",
     "output_type": "stream",
     "text": [
      "enter the character y\n",
      "ascii value of y is 121\n"
     ]
    }
   ],
   "source": [
    "crt = str(input(\"enter the character \"))\n",
    "print(\"ascii value of\", crt, \"is\", ord(crt))"
   ]
  },
  {
   "cell_type": "raw",
   "id": "7cce723a",
   "metadata": {},
   "source": [
    "5. Write a Python Program to Make a Simple Calculator with 4 basic mathematical operations?"
   ]
  },
  {
   "cell_type": "code",
   "execution_count": 21,
   "id": "0ea6825a",
   "metadata": {},
   "outputs": [
    {
     "name": "stdout",
     "output_type": "stream",
     "text": [
      "enter the number 1 45\n",
      "enter the number 2 45\n",
      "enter the mathematical operation you want to perform +\n",
      "Addition of  45  and  45  is  90\n"
     ]
    }
   ],
   "source": [
    "num1 = int(input(\"enter the number 1 \"))\n",
    "num2 = int(input(\"enter the number 2 \"))\n",
    "operation = input(\"enter the mathematical operation you want to perform \")\n",
    "if operation == \"*\":\n",
    "    print(\"multiplication of \",num1,\" and \",num2,\" is \",(num1*num2))\n",
    "elif operation == \"+\":\n",
    "    print(\"Addition of \",num1,\" and \",num2,\" is \",(num1+num2))\n",
    "elif operation == \"/\":\n",
    "    try:\n",
    "        division = num1/num2\n",
    "        print(\"Division of \",num1,\" and \",num2,\" is \", division)\n",
    "    except:\n",
    "        print(\"num2 cannot be 0\")\n",
    "elif operation == \"-\":\n",
    "    print(\"Substraction of \",num1,\" and \",num2,\" is \",(num1-num2))"
   ]
  }
 ],
 "metadata": {
  "kernelspec": {
   "display_name": "Python 3 (ipykernel)",
   "language": "python",
   "name": "python3"
  },
  "language_info": {
   "codemirror_mode": {
    "name": "ipython",
    "version": 3
   },
   "file_extension": ".py",
   "mimetype": "text/x-python",
   "name": "python",
   "nbconvert_exporter": "python",
   "pygments_lexer": "ipython3",
   "version": "3.9.12"
  }
 },
 "nbformat": 4,
 "nbformat_minor": 5
}
