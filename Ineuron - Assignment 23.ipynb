{
 "cells": [
  {
   "cell_type": "raw",
   "id": "67975e84",
   "metadata": {},
   "source": [
    "1. What is the result of the code, and why?\n",
    "def func(a, b=6, c=8):\n",
    "print(a, b, c)\n",
    "func(1, 2)"
   ]
  },
  {
   "cell_type": "code",
   "execution_count": 1,
   "id": "9271a713",
   "metadata": {},
   "outputs": [
    {
     "name": "stdout",
     "output_type": "stream",
     "text": [
      "1 2 8\n"
     ]
    }
   ],
   "source": [
    "def func(a, b=6, c=8):\n",
    "    print(a, b, c)\n",
    "    \n",
    "    \n",
    "func(1, 2)\n",
    "#When we call the function func(1, 2), we are passing arguments 1 and 2 for parameters a and b, respectively, while parameter c retains its default value of 8."
   ]
  },
  {
   "cell_type": "raw",
   "id": "bbadf97c",
   "metadata": {},
   "source": [
    "2. What is the result of this code, and why?\n",
    "def func(a, b, c=5):\n",
    "print(a, b, c)\n",
    "func(1, c=3, b=2)"
   ]
  },
  {
   "cell_type": "code",
   "execution_count": 2,
   "id": "cde792a0",
   "metadata": {},
   "outputs": [
    {
     "name": "stdout",
     "output_type": "stream",
     "text": [
      "1 2 3\n"
     ]
    }
   ],
   "source": [
    "def func(a, b, c=5):\n",
    "    print(a, b, c)\n",
    "    \n",
    "func(1, c=3, b=2)\n",
    "#The value 1 is assigned to parameter a, The value 2 is assigned to parameter b, The value 3 is explicitly assigned to parameter c, even though it has a default value of 5. This overrides the default value for this specific function call.\n",
    "#So, the function call prints 1 2 3, as all the parameter values are provided explicitly in the call."
   ]
  },
  {
   "cell_type": "raw",
   "id": "849f10fb",
   "metadata": {},
   "source": [
    "3. How about this code: what is its result, and why?\n",
    "def func(a, *pargs):\n",
    "print(a, pargs)\n",
    "func(1, 2, 3)"
   ]
  },
  {
   "cell_type": "code",
   "execution_count": 3,
   "id": "868dc228",
   "metadata": {},
   "outputs": [
    {
     "name": "stdout",
     "output_type": "stream",
     "text": [
      "1 (2, 3)\n"
     ]
    }
   ],
   "source": [
    "def func(a, *pargs):\n",
    "    print(a, pargs)\n",
    "func(1, 2, 3)"
   ]
  },
  {
   "cell_type": "markdown",
   "id": "51c6ded8",
   "metadata": {},
   "source": [
    "When we call the function func(1, 2, 3), we are passing three arguments: 1, 2, and 3. The first argument 1 is assigned to the parameter a, and the remaining arguments 2 and 3 are collected into a tuple due to the *pargs parameter."
   ]
  },
  {
   "cell_type": "raw",
   "id": "d54e25d2",
   "metadata": {},
   "source": [
    "4. What does this code print, and why?\n",
    "def func(a, **kargs):\n",
    "print(a, kargs)\n",
    "func(a=1, c=3, b=2)"
   ]
  },
  {
   "cell_type": "code",
   "execution_count": 4,
   "id": "c9ddf209",
   "metadata": {},
   "outputs": [
    {
     "name": "stdout",
     "output_type": "stream",
     "text": [
      "1 {'c': 3, 'b': 2}\n"
     ]
    }
   ],
   "source": [
    "def func(a, **kargs):\n",
    "    print(a, kargs)\n",
    "func(a=1, c=3, b=2)"
   ]
  },
  {
   "cell_type": "markdown",
   "id": "d6b2e498",
   "metadata": {},
   "source": [
    "The value 1 is assigned to the parameter a, The remaining keyword arguments c=3 and b=2 are collected into a dictionary called kargs, where the keyword becomes the dictionary key and the corresponding value is the value in the dictionary.\n",
    "So, the function call prints the value of a, which is 1, and then the kargs dictionary, which contains the keyword arguments passed to the function."
   ]
  },
  {
   "cell_type": "raw",
   "id": "892beb51",
   "metadata": {},
   "source": [
    "5. What gets printed by this, and explain?\n",
    "def func(a, b, c=8, d=5): print(a, b, c, d)\n",
    "func(1, *(5, 6))"
   ]
  },
  {
   "cell_type": "code",
   "execution_count": 5,
   "id": "9ff2abd1",
   "metadata": {},
   "outputs": [
    {
     "name": "stdout",
     "output_type": "stream",
     "text": [
      "1 5 6 5\n"
     ]
    }
   ],
   "source": [
    "def func(a, b, c=8, d=5): print(a, b, c, d)\n",
    "func(1, *(5, 6))"
   ]
  },
  {
   "cell_type": "markdown",
   "id": "f2c46a02",
   "metadata": {},
   "source": [
    "The value 1 is assigned to parameter a, The first value from the tuple (5, 6) is assigned to parameter b, which is 5.\n",
    "The second value from the tuple (5, 6) is assigned to parameter c, which is 6. Parameter d retains its default value of 5.\n",
    "So, the function call prints 1 5 6 5."
   ]
  },
  {
   "cell_type": "raw",
   "id": "5dcac8b7",
   "metadata": {},
   "source": [
    "6. what is the result of this, and explain?\n",
    "def func(a, b, c): a = 2; b[0] = 'x'; c['a'] = 'y'\n",
    "l=1; m=[1]; n={'a':0}\n",
    "func(l, m, n)\n",
    "l, m, n"
   ]
  },
  {
   "cell_type": "code",
   "execution_count": 7,
   "id": "15f58bba",
   "metadata": {},
   "outputs": [
    {
     "data": {
      "text/plain": [
       "(1, ['x'], {'a': 'y'})"
      ]
     },
     "execution_count": 7,
     "metadata": {},
     "output_type": "execute_result"
    }
   ],
   "source": [
    "def func(a, b, c): a = 2; b[0] = 'x'; c['a'] = 'y'\n",
    "l=1; m=[1]; n={'a':0}\n",
    "func(l, m, n)\n",
    "l, m, n"
   ]
  },
  {
   "cell_type": "raw",
   "id": "74117d3b",
   "metadata": {},
   "source": [
    "In this code, we are defining a function func that takes three arguments: a, b, and c. Inside the function, we are modifying these variables in different ways:\n",
    "\n",
    "a = 2: This reassigns the local variable a within the function to 2. However, since integers are immutable, it doesn't affect the value of l outside the function.\n",
    "b[0] = 'x': This modifies the first element of the list m to 'x'. Since lists are mutable, this change will be reflected outside the function as well.\n",
    "c['a'] = 'y': This assigns the value 'y' to the dictionary n with the key 'a'. This change will also be reflected outside the function.\n",
    "\n",
    "After calling the function with func(l, m, n), let's examine the values of l, m, and n:\n",
    "\n",
    "l: This is unchanged because integers are immutable, and the function only modified the local variable a.\n",
    "m: The list m has been modified inside the function, changing its first element to 'x'.\n",
    "n: The dictionary n has been modified inside the function, changing the value associated with the key 'a' to 'y'."
   ]
  },
  {
   "cell_type": "code",
   "execution_count": null,
   "id": "bd051c0f",
   "metadata": {},
   "outputs": [],
   "source": []
  }
 ],
 "metadata": {
  "kernelspec": {
   "display_name": "Python 3 (ipykernel)",
   "language": "python",
   "name": "python3"
  },
  "language_info": {
   "codemirror_mode": {
    "name": "ipython",
    "version": 3
   },
   "file_extension": ".py",
   "mimetype": "text/x-python",
   "name": "python",
   "nbconvert_exporter": "python",
   "pygments_lexer": "ipython3",
   "version": "3.9.7"
  }
 },
 "nbformat": 4,
 "nbformat_minor": 5
}
