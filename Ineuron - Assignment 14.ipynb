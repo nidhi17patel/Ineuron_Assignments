{
 "cells": [
  {
   "cell_type": "markdown",
   "id": "9e485d02",
   "metadata": {},
   "source": [
    "1. What does RGBA stand for?\n",
    "\n",
    "RGBA stands for \"Red Green Blue Alpha\". It is a color model used in digital image processing and computer graphics to represent colors with transparency. The first three components (red, green, and blue) represent the primary colors of light, and the fourth component (alpha) represents the level of transparency or opacity of the color. The alpha value is usually represented as a number between 0 and 1, with 0 indicating complete transparency and 1 indicating complete opacity."
   ]
  },
  {
   "cell_type": "markdown",
   "id": "8d08cfd8",
   "metadata": {},
   "source": [
    "2. From the Pillow module, how do you get the RGBA value of any images?\n",
    "\n",
    "To get the RGBA value of an image using the Pillow module in Python, you can use the getpixel method of the Image class"
   ]
  },
  {
   "cell_type": "markdown",
   "id": "848cab9e",
   "metadata": {},
   "source": [
    "3. What is a box tuple, and how does it work?\n",
    "\n",
    "The box.tuple submodule provides read-only access for the tuple userdata type. It allows, for a single tuple: selective retrieval of the field contents, retrieval of information about size, iteration over all the fields, and conversion to a Lua table."
   ]
  },
  {
   "cell_type": "markdown",
   "id": "42f3106e",
   "metadata": {},
   "source": [
    "4. Use your image and load in notebook then, How can you find out the width and height of an Image object?"
   ]
  },
  {
   "cell_type": "code",
   "execution_count": 2,
   "id": "667ae18f",
   "metadata": {},
   "outputs": [
    {
     "name": "stdout",
     "output_type": "stream",
     "text": [
      "Width: 3964, Height: 2973\n"
     ]
    }
   ],
   "source": [
    "from PIL import Image\n",
    "\n",
    "# Open an image file\n",
    "img = Image.open('C:\\\\Users\\\\admin\\\\Downloads\\\\img.jpg')\n",
    "\n",
    "# Get the width and height of the image\n",
    "width, height = img.size\n",
    "\n",
    "# Print the width and height of the image\n",
    "print(f\"Width: {width}, Height: {height}\")\n"
   ]
  },
  {
   "cell_type": "markdown",
   "id": "fd206b1c",
   "metadata": {},
   "source": [
    "5. What method would you call to get Image object for a 100×100 image, excluding the lower-left quarter of it?\n",
    "To get an Image object for a 100x100 image, excluding the lower-left quarter of it, you can use the crop() method of the Image object in Python's Pillow library.\n",
    "\n",
    "The crop() method allows you to extract a rectangular region from an image. You can specify the coordinates of the top-left and bottom-right corners of the rectangle you want to extract.\n",
    "\n",
    "In this case, to exclude the lower-left quarter of the image, we need to crop a rectangle that starts from the top-left corner of the image and ends at the midpoint of the right edge and the top edge of the image. Here's an example:"
   ]
  },
  {
   "cell_type": "code",
   "execution_count": 3,
   "id": "8cbb8c8e",
   "metadata": {},
   "outputs": [],
   "source": [
    "from PIL import Image\n",
    "\n",
    "# Open an image file\n",
    "img = Image.open('C:\\\\Users\\\\admin\\\\Downloads\\\\img.jpg')\n",
    "\n",
    "# Get the width and height of the image\n",
    "width, height = img.size\n",
    "\n",
    "# Calculate the coordinates of the rectangle to crop\n",
    "left = 0\n",
    "top = 0\n",
    "right = width // 2\n",
    "bottom = height // 2\n",
    "\n",
    "# Crop the image\n",
    "cropped_img = img.crop((left, top, right, bottom))\n",
    "\n",
    "# Show the cropped image\n",
    "cropped_img.show()"
   ]
  },
  {
   "cell_type": "markdown",
   "id": "1524c56f",
   "metadata": {},
   "source": [
    "6. After making changes to an Image object, how could you save it as an image file?\n",
    "\n",
    "To save changes made to an Image object as an image file, you can use the save() method of the Image object in Python's Pillow library.\n",
    "The save() method allows you to save the image to a file on disk. You can specify the filename and the file format (e.g. JPEG, PNG, etc.) using the filename and format arguments."
   ]
  },
  {
   "cell_type": "markdown",
   "id": "c7fecd87",
   "metadata": {},
   "source": [
    "7. What module contains Pillow’s shape-drawing code?\n",
    "\n",
    "Pillow's shape-drawing code is contained within the ImageDraw module. The ImageDraw module provides a drawing context, which can be used to draw various shapes such as lines, rectangles, ellipses, arcs, and polygons onto an image. To use the ImageDraw module, you first need to import it from the Pillow library. "
   ]
  },
  {
   "cell_type": "markdown",
   "id": "eba43e0c",
   "metadata": {},
   "source": [
    "8. Image objects do not have drawing methods. What kind of object does? How do you get this kind of object?\n",
    "\n",
    "Image objects in the Pillow library do not have drawing methods. Instead, the drawing methods are provided by the ImageDraw module. To use the drawing methods, you need to create an ImageDraw.Draw object, which provides a drawing context for the image.\n",
    "To create an ImageDraw.Draw object, you first need to create an Image object. Once you have an Image object, you can create an ImageDraw.Draw object using the ImageDraw.Draw() method and passing the Image object as an argument. "
   ]
  }
 ],
 "metadata": {
  "kernelspec": {
   "display_name": "Python 3 (ipykernel)",
   "language": "python",
   "name": "python3"
  },
  "language_info": {
   "codemirror_mode": {
    "name": "ipython",
    "version": 3
   },
   "file_extension": ".py",
   "mimetype": "text/x-python",
   "name": "python",
   "nbconvert_exporter": "python",
   "pygments_lexer": "ipython3",
   "version": "3.9.7"
  }
 },
 "nbformat": 4,
 "nbformat_minor": 5
}
