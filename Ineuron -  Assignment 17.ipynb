{
 "cells": [
  {
   "cell_type": "raw",
   "id": "50520cf5",
   "metadata": {},
   "source": [
    "1. Assign the value 7 to the variable guess_me. Then, write the conditional tests (if, else, and elif) to print the string 'too low' if guess_me is less than 7, 'too high' if greater than 7, and 'just right' if equal to 7."
   ]
  },
  {
   "cell_type": "code",
   "execution_count": 2,
   "id": "0ffce012",
   "metadata": {},
   "outputs": [
    {
     "name": "stdout",
     "output_type": "stream",
     "text": [
      "just right\n"
     ]
    }
   ],
   "source": [
    "guess_me = 7\n",
    "\n",
    "if guess_me < 7:\n",
    "    print(\"too low\")\n",
    "elif guess_me > 7:\n",
    "    print(\"too high\")\n",
    "else :\n",
    "    print(\"just right\")"
   ]
  },
  {
   "cell_type": "raw",
   "id": "4431b9e1",
   "metadata": {},
   "source": [
    "2. Assign the value 7 to the variable guess_me and the value 1 to the variable start. Write a while\n",
    "loop that compares start with guess_me. Print too low if start is less than guess me. If start equals\n",
    "guess_me, print 'found it' and exit the loop. If start is greater than guess_me, print 'oops' and exit the loop. Increment start at the end of the loop."
   ]
  },
  {
   "cell_type": "code",
   "execution_count": 1,
   "id": "db7d6977",
   "metadata": {},
   "outputs": [
    {
     "name": "stdout",
     "output_type": "stream",
     "text": [
      "too low\n",
      "too low\n",
      "too low\n",
      "too low\n",
      "too low\n",
      "too low\n",
      "found it\n"
     ]
    }
   ],
   "source": [
    "guess_me = 7\n",
    "start = 1\n",
    "while True:\n",
    "    if start < guess_me:\n",
    "        print(\"too low\")\n",
    "    elif start == guess_me:\n",
    "        print(\"found it\")\n",
    "        break\n",
    "    else:\n",
    "        print(\"oops\")\n",
    "        break\n",
    "    start = start + 1"
   ]
  },
  {
   "cell_type": "raw",
   "id": "f4bb7722",
   "metadata": {},
   "source": [
    "3. Print the following values of the list [3, 2, 1, 0] using a for loop."
   ]
  },
  {
   "cell_type": "code",
   "execution_count": 3,
   "id": "6e17ba22",
   "metadata": {},
   "outputs": [
    {
     "name": "stdout",
     "output_type": "stream",
     "text": [
      "3\n",
      "2\n",
      "1\n",
      "0\n"
     ]
    }
   ],
   "source": [
    "list = [3, 2, 1, 0] \n",
    "for i in list:\n",
    "    print(i)"
   ]
  },
  {
   "cell_type": "raw",
   "id": "036f82f2",
   "metadata": {},
   "source": [
    "4. Use a list comprehension to make a list of the even numbers in range(10)"
   ]
  },
  {
   "cell_type": "code",
   "execution_count": 9,
   "id": "419a3125",
   "metadata": {},
   "outputs": [
    {
     "name": "stdout",
     "output_type": "stream",
     "text": [
      "[0, 2, 4, 6, 8]\n"
     ]
    }
   ],
   "source": [
    "even_num = [num for num in range(10) if num%2 == 0]\n",
    "print(even_num)"
   ]
  },
  {
   "cell_type": "raw",
   "id": "cc64d10a",
   "metadata": {},
   "source": [
    "5. Use a dictionary comprehension to create the dictionary squares. Use range(10) to return the\n",
    "keys, and use the square of each key as its value."
   ]
  },
  {
   "cell_type": "code",
   "execution_count": 10,
   "id": "efd1a046",
   "metadata": {},
   "outputs": [
    {
     "name": "stdout",
     "output_type": "stream",
     "text": [
      "{0: 0, 1: 1, 2: 4, 3: 9, 4: 16, 5: 25, 6: 36, 7: 49, 8: 64, 9: 81}\n"
     ]
    }
   ],
   "source": [
    "square = {num:num * num for num in range(10)}\n",
    "print(square)"
   ]
  },
  {
   "cell_type": "raw",
   "id": "7bffeaf4",
   "metadata": {},
   "source": [
    "6. Construct the set odd from the odd numbers in the range using a set comprehension (10)."
   ]
  },
  {
   "cell_type": "code",
   "execution_count": 15,
   "id": "9ea4ab5c",
   "metadata": {},
   "outputs": [
    {
     "name": "stdout",
     "output_type": "stream",
     "text": [
      "{1, 3, 5, 7, 9}\n"
     ]
    }
   ],
   "source": [
    "odd = {num for num in range(10) if num%2!=0}\n",
    "print(odd)"
   ]
  },
  {
   "cell_type": "raw",
   "id": "2635e83d",
   "metadata": {},
   "source": [
    "7. Use a generator comprehension to return the string 'Got' and a number for the numbers in\n",
    "range(10). Iterate through this by using a for loop."
   ]
  },
  {
   "cell_type": "code",
   "execution_count": 25,
   "id": "36e314ac",
   "metadata": {},
   "outputs": [
    {
     "name": "stdout",
     "output_type": "stream",
     "text": [
      "got0\n",
      "got1\n",
      "got2\n",
      "got3\n",
      "got4\n",
      "got5\n",
      "got6\n",
      "got7\n",
      "got8\n",
      "got9\n"
     ]
    }
   ],
   "source": [
    "generator = ('got'+ str(num) for num in range(10))\n",
    "for i in generator:\n",
    "    print(i)"
   ]
  },
  {
   "cell_type": "raw",
   "id": "f861a4da",
   "metadata": {},
   "source": [
    "8. Define a function called good that returns the list ['Harry', 'Ron', 'Hermione']."
   ]
  },
  {
   "cell_type": "code",
   "execution_count": 35,
   "id": "f3b35dc9",
   "metadata": {},
   "outputs": [
    {
     "name": "stdout",
     "output_type": "stream",
     "text": [
      "['Harry', 'Ron', 'Hermione']\n"
     ]
    }
   ],
   "source": [
    "def good():\n",
    "    return ['Harry', 'Ron', 'Hermione']\n",
    "\n",
    "print(good())"
   ]
  },
  {
   "cell_type": "raw",
   "id": "44ea1f43",
   "metadata": {},
   "source": [
    "9. Define a generator function called get_odds that returns the odd numbers from range(10). Use a\n",
    "for loop to find and print the third value returned."
   ]
  },
  {
   "cell_type": "code",
   "execution_count": 3,
   "id": "47877e11",
   "metadata": {},
   "outputs": [
    {
     "name": "stdout",
     "output_type": "stream",
     "text": [
      "third value is: 5\n"
     ]
    }
   ],
   "source": [
    "def generator_odd():\n",
    "    for num in range(1,10):\n",
    "        if num %2!= 0:\n",
    "            yield num\n",
    "    \n",
    "i = 1    \n",
    "for number in generator_odd():\n",
    "    if i == 3:\n",
    "        print(\"third value is:\",number)\n",
    "        break\n",
    "    i = i+1\n",
    "    "
   ]
  },
  {
   "cell_type": "raw",
   "id": "7f3a1d06",
   "metadata": {},
   "source": [
    "10. Define an exception called OopsException. Raise this exception to see what happens. Then write\n",
    "the code to catch this exception and print 'Caught an oops'."
   ]
  },
  {
   "cell_type": "code",
   "execution_count": 14,
   "id": "878f2fe8",
   "metadata": {},
   "outputs": [
    {
     "name": "stdout",
     "output_type": "stream",
     "text": [
      "enter the first number23\n",
      "enter the second number0\n",
      "Caught an oops - cannot divide by zero\n"
     ]
    }
   ],
   "source": [
    "class Error(Exception):\n",
    "    pass\n",
    "\n",
    "class OopsException(Error):\n",
    "    pass\n",
    "\n",
    "a = int(input(\"enter the first number\"))\n",
    "b = int(input(\"enter the second number\"))\n",
    "\n",
    "try:\n",
    "    if b != 0:\n",
    "        c = a/b\n",
    "        print(c)\n",
    "    else:\n",
    "        raise OopsException\n",
    "except OopsException:\n",
    "    print(\"Caught an oops - cannot divide by zero\")"
   ]
  },
  {
   "cell_type": "raw",
   "id": "a242991e",
   "metadata": {},
   "source": [
    "11. Use zip() to make a dictionary called movies that pairs these lists: titles = ['Creature of Habit', 'Crewel Fate'] and plots = ['A nun turns into a monster', 'A haunted yarn shop']."
   ]
  },
  {
   "cell_type": "code",
   "execution_count": 27,
   "id": "f20ec887",
   "metadata": {},
   "outputs": [
    {
     "name": "stdout",
     "output_type": "stream",
     "text": [
      "{'Creature of Habit': 'A nun turns into a monster', 'Crewel Fate': 'A haunted yarn shop'}\n"
     ]
    }
   ],
   "source": [
    "titles = ['Creature of Habit', 'Crewel Fate']\n",
    "plots = ['A nun turns into a monster', 'A haunted yarn shop']\n",
    "movies = dict(zip(titles,plots))\n",
    "print(movies)"
   ]
  }
 ],
 "metadata": {
  "kernelspec": {
   "display_name": "Python 3 (ipykernel)",
   "language": "python",
   "name": "python3"
  },
  "language_info": {
   "codemirror_mode": {
    "name": "ipython",
    "version": 3
   },
   "file_extension": ".py",
   "mimetype": "text/x-python",
   "name": "python",
   "nbconvert_exporter": "python",
   "pygments_lexer": "ipython3",
   "version": "3.9.12"
  }
 },
 "nbformat": 4,
 "nbformat_minor": 5
}
