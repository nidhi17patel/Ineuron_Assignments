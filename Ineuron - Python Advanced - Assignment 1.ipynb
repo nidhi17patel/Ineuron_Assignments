{
 "cells": [
  {
   "cell_type": "markdown",
   "id": "1296b9f1",
   "metadata": {},
   "source": [
    "Q1. What is the purpose of Python's OOP?"
   ]
  },
  {
   "cell_type": "markdown",
   "id": "bbe604f8",
   "metadata": {},
   "source": [
    "The purpose of Python's Object-Oriented Programming (OOP) is to provide a structured approach for designing software by modeling real-world entities as objects. OOP aims to make code more modular, reusable, and maintainable through concepts like abstraction (focusing on essentials), encapsulation (bundling data and behavior), inheritance (reusing and extending classes), and polymorphism (interchangeable interfaces). It promotes code organization, teamwork, and real-world modeling, making software design more efficient and adaptable."
   ]
  },
  {
   "cell_type": "markdown",
   "id": "506bc8f9",
   "metadata": {},
   "source": [
    "Q2. Where does an inheritance search look for an attribute?"
   ]
  },
  {
   "cell_type": "markdown",
   "id": "f88424ad",
   "metadata": {},
   "source": [
    "In Python, during an inheritance search for an attribute, the search looks in the following order:\n",
    "\n",
    "Current Class: Python first checks if the attribute is present in the current class where the method is being called.\n",
    "\n",
    "Parent Classes: If the attribute is not found in the current class, Python looks in the parent classes (superclasses) in the order they were specified in the class definition.\n",
    "\n",
    "Base Classes: If the attribute is not found in the immediate parent classes, Python looks in the base classes of the hierarchy, following the same order.\n",
    "\n",
    "This sequence ensures that attributes are searched for from the current class up through the hierarchy of parent and base classes until the attribute is found or the search concludes."
   ]
  },
  {
   "cell_type": "markdown",
   "id": "5e02697c",
   "metadata": {},
   "source": [
    "Q3. How do you distinguish between a class object and an instance object?"
   ]
  },
  {
   "cell_type": "markdown",
   "id": "05cd6079",
   "metadata": {},
   "source": [
    "A class object defines the structure and behavior that instances will have, while instance objects are the actual objects created from that structure, holding their own data and able to execute class-defined methods."
   ]
  },
  {
   "cell_type": "markdown",
   "id": "a3a02453",
   "metadata": {},
   "source": [
    "Q4. What makes the first argument in a class’s method function special?"
   ]
  },
  {
   "cell_type": "markdown",
   "id": "7c1daa18",
   "metadata": {},
   "source": [
    "In Python, the first argument in a class's method function is conventionally named self, although you can use any name you prefer. This argument refers to the instance of the class on which the method is being called. It serves as a reference to the instance itself and allows you to access its attributes and methods."
   ]
  },
  {
   "cell_type": "markdown",
   "id": "0db20d6f",
   "metadata": {},
   "source": [
    "Q5. What is the purpose of the __init__ method?"
   ]
  },
  {
   "cell_type": "markdown",
   "id": "046fa3e0",
   "metadata": {},
   "source": [
    "The __init__ method in Python is a special method that serves as the constructor for a class. Its purpose is to initialize the attributes of an instance when it's created.\n",
    "Here's a simple example to illustrate the purpose of the __init__ method:"
   ]
  },
  {
   "cell_type": "code",
   "execution_count": null,
   "id": "f350108b",
   "metadata": {},
   "outputs": [],
   "source": [
    "class Person:\n",
    "    def __init__(self, name, age):\n",
    "        self.name = name\n",
    "        self.age = age\n",
    "\n",
    "# Creating instances of Person class\n",
    "person1 = Person(\"Alice\", 25)\n",
    "person2 = Person(\"Bob\", 30)\n",
    "\n",
    "print(person1.name, person1.age)  \n",
    "print(person2.name, person2.age)  "
   ]
  },
  {
   "cell_type": "markdown",
   "id": "a2f8ec42",
   "metadata": {},
   "source": [
    "Q6. What is the process for creating a class instance?"
   ]
  },
  {
   "cell_type": "markdown",
   "id": "ddd3a8ef",
   "metadata": {},
   "source": [
    "Creating a class instance in Python involves a few simple steps:\n",
    "\n",
    "- Define the Class: First, define the class with its attributes and methods.\n",
    "- Call the Constructor (Create an Instance): To create an instance of the class, call the class name followed by parentheses. This automatically calls the class's __init__ method to initialize the instance.\n",
    "- Pass Arguments to the Constructor: If the __init__ method requires arguments, provide them within the parentheses while creating the instance.\n",
    "- Access Attributes and Methods: Once the instance is created, you can access its attributes and methods using dot notation (instance.attribute_name or instance.method_name()).\n",
    "In the below example, the Person class has an __init__ method that initializes the name and age attributes. An instance person1 is created by calling the class name Person followed by the required arguments \"Alice\" and 25. The instance's attributes are accessed using dot notation (person1.name and person1.age), and the method is invoked using person1.display_info()."
   ]
  },
  {
   "cell_type": "code",
   "execution_count": 2,
   "id": "90cbed11",
   "metadata": {},
   "outputs": [
    {
     "name": "stdout",
     "output_type": "stream",
     "text": [
      "Alice\n",
      "25\n",
      "Name: Alice, Age: 25\n"
     ]
    }
   ],
   "source": [
    "# Define the class\n",
    "class Person:\n",
    "    def __init__(self, name, age):\n",
    "        self.name = name\n",
    "        self.age = age\n",
    "\n",
    "    def display_info(self):\n",
    "        print(f\"Name: {self.name}, Age: {self.age}\")\n",
    "\n",
    "# Create an instance of the class\n",
    "person1 = Person(\"Alice\", 25)\n",
    "\n",
    "# Access attributes and methods of the instance\n",
    "print(person1.name)\n",
    "print(person1.age)\n",
    "person1.display_info()"
   ]
  },
  {
   "cell_type": "markdown",
   "id": "00980135",
   "metadata": {},
   "source": [
    "Q7. What is the process for creating a class?"
   ]
  },
  {
   "cell_type": "markdown",
   "id": "f05ebdff",
   "metadata": {},
   "source": [
    "Classes are created using class keyword.\n",
    "A colon (:) is used after the class name.\n",
    "The class is made up of attributes (data) and methods (functions).\n",
    "Attributes that apply to the whole class are defined first and are called class attributes.\n",
    "Attributes can be accessed using the dot (.) operator via objects.\n",
    "Let us understand the concept of the 'Dog' class using a simple code."
   ]
  },
  {
   "cell_type": "code",
   "execution_count": 3,
   "id": "4aabcf53",
   "metadata": {},
   "outputs": [],
   "source": [
    "#class is defined using class keyword\n",
    "class Dog:\n",
    "  \n",
    "  #data members of class\n",
    "  color = \"black\"  #attribute 1\n",
    "  name = \"Polo\"    #attribute 2\n",
    "   \n",
    "  #class constructor\n",
    "  def __init__(self): \n",
    "         pass\n",
    "  \n",
    "  #user defined function of class\n",
    "  def func():\n",
    "      pass"
   ]
  },
  {
   "cell_type": "markdown",
   "id": "07e556c5",
   "metadata": {},
   "source": [
    "Q8. How would you define the superclasses of a class?"
   ]
  },
  {
   "cell_type": "code",
   "execution_count": 4,
   "id": "76cf9969",
   "metadata": {},
   "outputs": [
    {
     "name": "stdout",
     "output_type": "stream",
     "text": [
      "Toyota is driving.\n",
      "Toyota Camry is honking.\n"
     ]
    }
   ],
   "source": [
    "class Vehicle:\n",
    "    def __init__(self, brand):\n",
    "        self.brand = brand\n",
    "\n",
    "    def drive(self):\n",
    "        print(f\"{self.brand} is driving.\")\n",
    "\n",
    "class Car(Vehicle):\n",
    "    def __init__(self, brand, model):\n",
    "        super().__init__(brand)\n",
    "        self.model = model\n",
    "\n",
    "    def honk(self):\n",
    "        print(f\"{self.brand} {self.model} is honking.\")\n",
    "\n",
    "# Car inherits from Vehicle\n",
    "my_car = Car(\"Toyota\", \"Camry\")\n",
    "my_car.drive()  \n",
    "my_car.honk()   "
   ]
  },
  {
   "cell_type": "markdown",
   "id": "4cb29054",
   "metadata": {},
   "source": [
    "In this example, \"Vehicle\" is the superclass, and \"Car\" is the subclass. \"Car\" inherits the \"drive\" method from \"Vehicle\" and adds its own \"honk\" method."
   ]
  },
  {
   "cell_type": "code",
   "execution_count": null,
   "id": "940e7ee0",
   "metadata": {},
   "outputs": [],
   "source": []
  }
 ],
 "metadata": {
  "kernelspec": {
   "display_name": "Python 3 (ipykernel)",
   "language": "python",
   "name": "python3"
  },
  "language_info": {
   "codemirror_mode": {
    "name": "ipython",
    "version": 3
   },
   "file_extension": ".py",
   "mimetype": "text/x-python",
   "name": "python",
   "nbconvert_exporter": "python",
   "pygments_lexer": "ipython3",
   "version": "3.9.7"
  }
 },
 "nbformat": 4,
 "nbformat_minor": 5
}
