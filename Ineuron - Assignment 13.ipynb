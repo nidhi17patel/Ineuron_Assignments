{
 "cells": [
  {
   "cell_type": "raw",
   "id": "5110f34c",
   "metadata": {},
   "source": [
    "1. What advantages do Excel spreadsheets have over CSV spreadsheets?\n",
    "\n",
    "Excel spreadsheets have several advantages over CSV (Comma-Separated Values) spreadsheets:\n",
    "\n",
    "Formatting: Excel allows you to format cells, columns, and rows, which makes the data more readable and easier to understand. You can add borders, shading, and colors to cells, as well as adjust font styles and sizes. In contrast, CSV files are plain text files, and do not support any formatting.\n",
    "\n",
    "Calculations: Excel has built-in formulas and functions that allow you to perform complex calculations on data. For example, you can use the SUM function to add up a column of numbers, or the AVERAGE function to calculate the average value. With CSV files, you need to use a separate tool or programming language to perform calculations.\n",
    "\n",
    "Graphs and Charts: Excel has a wide range of chart and graph types, which can help you visualize your data and spot trends or patterns. You can create pie charts, bar charts, line graphs, and more. With CSV files, you need to use a separate tool or programming language to create charts and graphs.\n",
    "\n",
    "Sorting and Filtering: Excel allows you to sort and filter your data, making it easier to find the information you need. You can sort by one or more columns, and you can filter by specific criteria. CSV files do not have this capability, and you need to use a separate tool or programming language to sort and filter data.\n",
    "\n",
    "Multiple Worksheets: Excel allows you to create multiple worksheets within a single workbook, which can be useful for organizing data. With CSV files, you need to create separate files for each worksheet."
   ]
  },
  {
   "cell_type": "raw",
   "id": "138dc650",
   "metadata": {},
   "source": [
    "2.What do you pass to csv.reader() and csv.writer() to create reader and writer objects?\n",
    "\n",
    "you need to pass file objects to the csv.reader() and csv.writer() functions, respectively.\n",
    "\n",
    "For example, to create a reader object to read data from a CSV file named data.csv, you would use the following code:\n",
    "\n",
    "import csv\n",
    "with open('data.csv', 'r') as csvfile:\n",
    "    reader = csv.reader(csvfile)\n",
    "\n",
    "Similarly, to create a writer object to write data to a CSV file named output.csv, you would use the following code:\n",
    "\n",
    "import csv\n",
    "with open('output.csv', 'w') as csvfile:\n",
    "    writer = csv.writer(csvfile)"
   ]
  },
  {
   "cell_type": "raw",
   "id": "54084b2c",
   "metadata": {},
   "source": [
    "3. What modes do File objects for reader and writer objects need to be opened in?\n",
    "\n",
    "For a reader object, the file needs to be opened in read-only mode ('r'). \n",
    "For a writer object, the file needs to be opened in write mode ('w').If the file already exists, opening it in write mode will truncate the file, deleting any existing data. \n",
    "If we want to append data to an existing file instead of overwriting it, we can open the file in append mode ('a') instead."
   ]
  },
  {
   "cell_type": "raw",
   "id": "cfdbc5e4",
   "metadata": {},
   "source": [
    "4. What method takes a list argument and writes it to a CSV file?\n",
    "\n",
    "To write data to a CSV file using the csv module in Python, we can use the writerow() method of a writer object. This method takes a single argument, which should be a list of values to be written as a single row in the CSV file."
   ]
  },
  {
   "cell_type": "raw",
   "id": "fab02d17",
   "metadata": {},
   "source": [
    "5. What do the keyword arguments delimiter and line terminator do?\n",
    "\n",
    "delimiter is a character or string that separates values in a sequence. For example, in a CSV (Comma-Separated Values) file, the comma is used as the delimiter to separate the values in each row. Other examples of delimiters include semicolons, tabs, and pipes.\n",
    "\n",
    "line_terminator is a sequence of characters that indicates the end of a line. In most operating systems, the line terminator consists of two characters: a carriage return (\\r) and a line feed (\\n). However, different operating systems may use different sequences, such as only a carriage return or only a line feed."
   ]
  },
  {
   "cell_type": "raw",
   "id": "443d3839",
   "metadata": {},
   "source": [
    "6. What function takes a string of JSON data and returns a Python data structure?\n",
    "\n",
    "json.loads(). The loads() function is part of the built-in json module in Python, which provides methods for encoding and decoding JSON data.\n",
    "\n",
    "json.loads() takes a string of JSON data as its input and returns a Python data structure such as a dictionary, list, or string, depending on the JSON data."
   ]
  },
  {
   "cell_type": "raw",
   "id": "779a09c9",
   "metadata": {},
   "source": [
    "7. What function takes a Python data structure and returns a string of JSON data?\n",
    "\n",
    "json.dumps(). The dumps() function is part of the built-in json module in Python, which provides methods for encoding and decoding JSON data.\n",
    "\n",
    "json.dumps() takes a Python data structure such as a dictionary, list, or string as its input and returns a string of JSON data. "
   ]
  }
 ],
 "metadata": {
  "kernelspec": {
   "display_name": "Python 3 (ipykernel)",
   "language": "python",
   "name": "python3"
  },
  "language_info": {
   "codemirror_mode": {
    "name": "ipython",
    "version": 3
   },
   "file_extension": ".py",
   "mimetype": "text/x-python",
   "name": "python",
   "nbconvert_exporter": "python",
   "pygments_lexer": "ipython3",
   "version": "3.9.7"
  }
 },
 "nbformat": 4,
 "nbformat_minor": 5
}
