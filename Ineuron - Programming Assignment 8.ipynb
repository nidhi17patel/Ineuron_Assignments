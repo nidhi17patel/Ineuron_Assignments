{
 "cells": [
  {
   "cell_type": "code",
   "execution_count": 3,
   "id": "f6642ee8",
   "metadata": {},
   "outputs": [],
   "source": [
    "import numpy as np"
   ]
  },
  {
   "cell_type": "raw",
   "id": "1029bd25",
   "metadata": {},
   "source": [
    "1. Write a Python Program to Add Two Matrices?"
   ]
  },
  {
   "cell_type": "code",
   "execution_count": 13,
   "id": "77616ebf",
   "metadata": {},
   "outputs": [],
   "source": [
    "x = np.random.randint(1,9,(4,3))\n",
    "y = np.random.randint(1,7,(4,3))"
   ]
  },
  {
   "cell_type": "code",
   "execution_count": 14,
   "id": "dfc531d9",
   "metadata": {},
   "outputs": [],
   "source": [
    "z = x + y"
   ]
  },
  {
   "cell_type": "code",
   "execution_count": 15,
   "id": "4bf509ec",
   "metadata": {},
   "outputs": [
    {
     "data": {
      "text/plain": [
       "(array([[7, 7, 8],\n",
       "        [3, 5, 5],\n",
       "        [5, 6, 7],\n",
       "        [8, 4, 2]]),\n",
       " array([[6, 6, 2],\n",
       "        [3, 2, 5],\n",
       "        [1, 2, 5],\n",
       "        [3, 2, 1]]),\n",
       " array([[13, 13, 10],\n",
       "        [ 6,  7, 10],\n",
       "        [ 6,  8, 12],\n",
       "        [11,  6,  3]]))"
      ]
     },
     "execution_count": 15,
     "metadata": {},
     "output_type": "execute_result"
    }
   ],
   "source": [
    "x,y,z"
   ]
  },
  {
   "cell_type": "raw",
   "id": "219dcd3a",
   "metadata": {},
   "source": [
    "2. Write a Python Program to Multiply Two Matrices?"
   ]
  },
  {
   "cell_type": "code",
   "execution_count": 23,
   "id": "016f6b35",
   "metadata": {},
   "outputs": [
    {
     "data": {
      "text/plain": [
       "array([[  46,  220,  162,  468],\n",
       "       [1176,   24,  624,  405]])"
      ]
     },
     "execution_count": 23,
     "metadata": {},
     "output_type": "execute_result"
    }
   ],
   "source": [
    "a = np.array([[2,5,3,78],[56,4,8,9]])\n",
    "b = np.array([[23,44,54,6],[21,6,78,45]])\n",
    "c = a * b\n",
    "c"
   ]
  },
  {
   "cell_type": "raw",
   "id": "3664a489",
   "metadata": {},
   "source": [
    "3. Write a Python Program to Transpose a Matrix?"
   ]
  },
  {
   "cell_type": "code",
   "execution_count": 18,
   "id": "40fb3f0f",
   "metadata": {},
   "outputs": [
    {
     "data": {
      "text/plain": [
       "array([[5, 6],\n",
       "       [7, 4]])"
      ]
     },
     "execution_count": 18,
     "metadata": {},
     "output_type": "execute_result"
    }
   ],
   "source": [
    "a1 = np.random.randint(3,10,(2,2))\n",
    "result = np.empty((2,2))\n",
    "a1"
   ]
  },
  {
   "cell_type": "code",
   "execution_count": 21,
   "id": "3c61e2a1",
   "metadata": {},
   "outputs": [
    {
     "data": {
      "text/plain": [
       "2"
      ]
     },
     "execution_count": 21,
     "metadata": {},
     "output_type": "execute_result"
    }
   ],
   "source": [
    "len(a1[0])"
   ]
  },
  {
   "cell_type": "code",
   "execution_count": 20,
   "id": "1a352530",
   "metadata": {},
   "outputs": [
    {
     "name": "stdout",
     "output_type": "stream",
     "text": [
      "[5. 7.]\n",
      "[6. 4.]\n"
     ]
    }
   ],
   "source": [
    "for i in range(len(a1)):\n",
    "   # iterate through columns\n",
    "   for j in range(len(a1[0])):\n",
    "        result[j][i] = a1[i][j]\n",
    "for r in result:\n",
    "    print(r)"
   ]
  },
  {
   "cell_type": "raw",
   "id": "58d6786e",
   "metadata": {},
   "source": [
    "4. Write a Python Program to Sort Words in Alphabetic Order?"
   ]
  },
  {
   "cell_type": "code",
   "execution_count": 4,
   "id": "65aaa306",
   "metadata": {},
   "outputs": [
    {
     "name": "stdout",
     "output_type": "stream",
     "text": [
      "enter string: Your Broadband Gateway\n",
      "Broadband\n",
      "Gateway\n",
      "Your\n"
     ]
    }
   ],
   "source": [
    "str = input(\"enter string: \")\n",
    "words = str.split()\n",
    "words.sort()\n",
    "for word in words:\n",
    "    print(word)\n"
   ]
  },
  {
   "cell_type": "raw",
   "id": "bdd85b1e",
   "metadata": {},
   "source": [
    "5. Write a Python Program to Remove Punctuation From a String?"
   ]
  },
  {
   "cell_type": "code",
   "execution_count": 5,
   "id": "0be8b6ec",
   "metadata": {},
   "outputs": [
    {
     "name": "stdout",
     "output_type": "stream",
     "text": [
      "Enter the string: i$ne@#u!r)on; T)opi!cs.: P}yth-on {Beg~inn;ers T-ut,o.r'ial\n",
      "ineuron Topics Python Beginners Tutorial\n"
     ]
    }
   ],
   "source": [
    "punctuation =  '''!()–[]-'{}:;,`~‘“,<>./?@#$%^&*_'''\n",
    "str1 = input(\"Enter the string: \")\n",
    "no_punctuation = \"\"\n",
    "for char in str1:\n",
    "    if char not in punctuation:\n",
    "        no_punctuation = no_punctuation + char\n",
    "print(no_punctuation)"
   ]
  }
 ],
 "metadata": {
  "kernelspec": {
   "display_name": "Python 3 (ipykernel)",
   "language": "python",
   "name": "python3"
  },
  "language_info": {
   "codemirror_mode": {
    "name": "ipython",
    "version": 3
   },
   "file_extension": ".py",
   "mimetype": "text/x-python",
   "name": "python",
   "nbconvert_exporter": "python",
   "pygments_lexer": "ipython3",
   "version": "3.9.12"
  }
 },
 "nbformat": 4,
 "nbformat_minor": 5
}
