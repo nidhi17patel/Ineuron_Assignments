{
 "cells": [
  {
   "cell_type": "markdown",
   "id": "981e49f1",
   "metadata": {},
   "source": [
    "1. Add the current date to the text file today.txt as a string."
   ]
  },
  {
   "cell_type": "code",
   "execution_count": 2,
   "id": "72702e84",
   "metadata": {},
   "outputs": [],
   "source": [
    "import datetime\n",
    "current_date = datetime.datetime.now()\n",
    "with open(\"today.txt\", \"a\") as f:\n",
    "    f.write(str(current_date) + \"\\n\")\n"
   ]
  },
  {
   "cell_type": "markdown",
   "id": "205ff123",
   "metadata": {},
   "source": [
    "2. Read the text file today.txt into the string today_string"
   ]
  },
  {
   "cell_type": "code",
   "execution_count": 8,
   "id": "279c0eaa",
   "metadata": {},
   "outputs": [
    {
     "name": "stdout",
     "output_type": "stream",
     "text": [
      "2023-04-28 16:46:51.939461\n",
      "\n"
     ]
    }
   ],
   "source": [
    "import datetime\n",
    "with open(\"today.txt\", \"r\") as f:\n",
    "    today_string = f.read()\n",
    "print(today_string)"
   ]
  },
  {
   "cell_type": "markdown",
   "id": "44a7edeb",
   "metadata": {},
   "source": [
    "3. Parse the date from today_string."
   ]
  },
  {
   "cell_type": "code",
   "execution_count": 7,
   "id": "11fcda2c",
   "metadata": {},
   "outputs": [
    {
     "name": "stdout",
     "output_type": "stream",
     "text": [
      "2023-04-28 00:00:00\n"
     ]
    }
   ],
   "source": [
    "import datetime\n",
    "with open(\"today.txt\", \"r\") as f:\n",
    "    today_string = f.read()\n",
    "date_str = today_string.strip()  # remove leading/trailing whitespace\n",
    "date_str = date_str.split()[0]   # get the first word (date)\n",
    "# Convert the date string to a datetime object\n",
    "date_obj = datetime.datetime.strptime(date_str, \"%Y-%m-%d\")\n",
    "print(date_obj)"
   ]
  },
  {
   "cell_type": "markdown",
   "id": "e2ebed23",
   "metadata": {},
   "source": [
    "4. List the files in your current directory"
   ]
  },
  {
   "cell_type": "code",
   "execution_count": 9,
   "id": "a1815557",
   "metadata": {},
   "outputs": [
    {
     "name": "stdout",
     "output_type": "stream",
     "text": [
      ".anaconda\n",
      ".android\n",
      ".bash_history\n",
      ".cache\n",
      ".chipscope\n",
      ".conda\n",
      ".condarc\n",
      ".continuum\n",
      ".gitconfig\n",
      ".idlerc\n",
      ".ipynb_checkpoints\n",
      ".ipython\n",
      ".jupyter\n",
      ".matplotlib\n",
      ".ms-ad\n",
      ".packettracer\n",
      ".vscode\n",
      "1-EDA And Feature Engineering.ipynb\n",
      "14th may 2022(first class after induction).ipynb\n",
      "15th may 2022 - python basic.ipynb\n",
      "2- BlackFriday EDA And Feature Engineering.ipynb\n",
      "21st may 2022 - Basic Python.ipynb\n",
      "22nd may 2022 - if loop.ipynb\n",
      "28 may 2022 - python basic(For loop).ipynb\n",
      "29th may 2022, loop, python basic, FUNCTIONS.ipynb\n",
      "3D Objects\n",
      "5th june 2022 - Functions.ipynb\n",
      "Algerian Forest Fire Dataset - Linear Regression, Ridge, Lasso and Elastic Net Regression (Temperature Prediction) (1).ipynb\n",
      "Algerian_forest_fires_dataset.csv\n",
      "all project\n",
      "Anamoly Detection.ipynb\n",
      "ansel\n",
      "AppData\n",
      "Application Data\n",
      "Book Recommendation System.ipynb\n",
      "c0\n",
      "C1\n",
      "Challenge Qstns 29th may 2022.ipynb\n",
      "Cisco Packet Tracer 5.3.3\n",
      "Complete Loan Status Prediction.ipynb\n",
      "Contacts\n",
      "Cookies\n",
      "Customer Segmentation Analysis.ipynb\n",
      "Desktop\n",
      "Documents\n",
      "Downloads\n",
      "EP\n",
      "FlightPrediction.ipynb\n",
      "For Loop Task Qstns - 28th may 2022.ipynb\n",
      "full\n",
      "full.rar\n",
      "GNS3\n",
      "googleplaystore.csv\n",
      "google_outliers.csv\n",
      "Ineuron - Assignment 1.ipynb\n",
      "Ineuron - Assignment 13.ipynb\n",
      "Ineuron - Assignment 14.ipynb\n",
      "Ineuron - Assignment 2.ipynb\n",
      "Ineuron - Assignment 21.ipynb\n",
      "Insurance.ipynb\n",
      "insurancePremiumPrediction.ipynb\n",
      "insurance_v1.ipynb\n",
      "Linear Regression ML Implementation.ipynb\n",
      "Links\n",
      "LoanData.csv\n",
      "Local Settings\n",
      "Mall_Customers.csv\n",
      "MicrosoftEdgeBackups\n",
      "MODEL TRAINING .ipynb\n",
      "Music\n",
      "My Documents\n",
      "NetHood\n",
      "NTUSER.DAT\n",
      "ntuser.dat.LOG1\n",
      "ntuser.dat.LOG2\n",
      "NTUSER.DAT{53b39e87-18c4-11ea-a811-000d3aa4692b}.TxR.0.regtrans-ms\n",
      "NTUSER.DAT{53b39e87-18c4-11ea-a811-000d3aa4692b}.TxR.1.regtrans-ms\n",
      "NTUSER.DAT{53b39e87-18c4-11ea-a811-000d3aa4692b}.TxR.2.regtrans-ms\n",
      "NTUSER.DAT{53b39e87-18c4-11ea-a811-000d3aa4692b}.TxR.blf\n",
      "NTUSER.DAT{53b39e88-18c4-11ea-a811-000d3aa4692b}.TM.blf\n",
      "NTUSER.DAT{53b39e88-18c4-11ea-a811-000d3aa4692b}.TMContainer00000000000000000001.regtrans-ms\n",
      "NTUSER.DAT{53b39e88-18c4-11ea-a811-000d3aa4692b}.TMContainer00000000000000000002.regtrans-ms\n",
      "ntuser.ini\n",
      "OneDrive\n",
      "Pictures\n",
      "PrintHood\n",
      "Python Basic Task - Nidhi Patel (15th May 2022).ipynb\n",
      "Recent\n",
      "Saved Games\n",
      "Scania_APS_failure_prediction.ipynb\n",
      "Searches\n",
      "SendTo\n",
      "Start Menu\n",
      "SW\n",
      "Templates\n",
      "Thumbs.db\n",
      "today.txt\n",
      "Tracing\n",
      "Untitled_car.ipynb\n",
      "Untitled_doctor.ipynb\n",
      "validate.ipynb\n",
      "Videos\n",
      "Zomato.ipynb\n"
     ]
    }
   ],
   "source": [
    "import os\n",
    "files = os.listdir(\".\")\n",
    "for file in files:\n",
    "    print(file)"
   ]
  },
  {
   "cell_type": "markdown",
   "id": "7998e856",
   "metadata": {},
   "source": [
    "5. Create a list of all of the files in your parent directory (minimum five files should be available)."
   ]
  },
  {
   "cell_type": "code",
   "execution_count": 11,
   "id": "84aca6a9",
   "metadata": {},
   "outputs": [
    {
     "name": "stdout",
     "output_type": "stream",
     "text": [
      "['admin', 'All Users', 'Default', 'Default User', 'Default.migrated', 'DefaultAppPool', 'desktop.ini', 'Public']\n"
     ]
    }
   ],
   "source": [
    "import os\n",
    "directory_path = \"..\"\n",
    "files = os.listdir(directory_path)\n",
    "print(files)"
   ]
  },
  {
   "cell_type": "code",
   "execution_count": 12,
   "id": "df774a2a",
   "metadata": {},
   "outputs": [],
   "source": [
    "import multiprocessing\n",
    "import time\n",
    "import datetime\n",
    "import random\n",
    "\n",
    "# Define a function for each process\n",
    "def process_func():\n",
    "    wait_time = random.randint(1, 5)\n",
    "    time.sleep(wait_time)\n",
    "    print(f\"Current time: {datetime.datetime.now()} (waited {wait_time} seconds)\")\n",
    "    \n",
    "# Create three separate processes\n",
    "process1 = multiprocessing.Process(target=process_func)\n",
    "process2 = multiprocessing.Process(target=process_func)\n",
    "process3 = multiprocessing.Process(target=process_func)\n",
    "\n",
    "# Start each process\n",
    "process1.start()\n",
    "process2.start()\n",
    "process3.start()\n",
    "\n",
    "# Wait for each process to finish\n",
    "process1.join()\n",
    "process2.join()\n",
    "process3.join()"
   ]
  },
  {
   "cell_type": "markdown",
   "id": "2286f0c9",
   "metadata": {},
   "source": [
    "7. Create a date object of your day of birth."
   ]
  },
  {
   "cell_type": "code",
   "execution_count": 13,
   "id": "9abec9c7",
   "metadata": {},
   "outputs": [
    {
     "name": "stdout",
     "output_type": "stream",
     "text": [
      "1995-06-13\n"
     ]
    }
   ],
   "source": [
    "import datetime\n",
    "birth_date = datetime.date(1995, 6, 13)\n",
    "print(birth_date)"
   ]
  },
  {
   "cell_type": "markdown",
   "id": "9e6e1d60",
   "metadata": {},
   "source": [
    "8. What day of the week was your day of birth?"
   ]
  },
  {
   "cell_type": "code",
   "execution_count": 14,
   "id": "52ddc058",
   "metadata": {},
   "outputs": [
    {
     "name": "stdout",
     "output_type": "stream",
     "text": [
      "Tuesday\n"
     ]
    }
   ],
   "source": [
    "import datetime\n",
    "birth_date = datetime.date(1995, 6, 13)\n",
    "day_of_week = birth_date.strftime(\"%A\")\n",
    "print(day_of_week)"
   ]
  },
  {
   "cell_type": "markdown",
   "id": "4f55d58a",
   "metadata": {},
   "source": [
    "9. When will you be (or when were you) 10,000 days old?"
   ]
  },
  {
   "cell_type": "code",
   "execution_count": 15,
   "id": "42ac4b74",
   "metadata": {},
   "outputs": [
    {
     "name": "stdout",
     "output_type": "stream",
     "text": [
      "2022-10-29\n"
     ]
    }
   ],
   "source": [
    "import datetime\n",
    "birth_date = datetime.date(1995, 6, 13)\n",
    "age_days = 10000\n",
    "age_date = birth_date + datetime.timedelta(days=age_days)\n",
    "print(age_date)"
   ]
  }
 ],
 "metadata": {
  "kernelspec": {
   "display_name": "Python 3 (ipykernel)",
   "language": "python",
   "name": "python3"
  },
  "language_info": {
   "codemirror_mode": {
    "name": "ipython",
    "version": 3
   },
   "file_extension": ".py",
   "mimetype": "text/x-python",
   "name": "python",
   "nbconvert_exporter": "python",
   "pygments_lexer": "ipython3",
   "version": "3.9.7"
  }
 },
 "nbformat": 4,
 "nbformat_minor": 5
}
