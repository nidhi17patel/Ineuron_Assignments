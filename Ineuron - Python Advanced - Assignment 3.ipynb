{
 "cells": [
  {
   "cell_type": "markdown",
   "id": "0daf163b",
   "metadata": {},
   "source": [
    "1. What is the concept of an abstract superclass?"
   ]
  },
  {
   "cell_type": "markdown",
   "id": "f6d98b91",
   "metadata": {},
   "source": [
    "An abstract superclass, or \"abstract class,\" is a class in object-oriented programming that cannot be directly instantiated but serves as a blueprint for other classes. It defines a common structure and may include abstract methods that subclasses are required to implement. Abstract superclasses enforce a contract, promote code reusability, and provide a consistent structure for subclasses to follow."
   ]
  },
  {
   "cell_type": "code",
   "execution_count": 2,
   "id": "763e8441",
   "metadata": {},
   "outputs": [
    {
     "name": "stdout",
     "output_type": "stream",
     "text": [
      "Buddy says Woof!\n",
      "Whiskers says Meow!\n"
     ]
    }
   ],
   "source": [
    "from abc import ABC, abstractmethod\n",
    "\n",
    "# Define an abstract superclass\n",
    "class Animal(ABC):\n",
    "    def __init__(self, name):\n",
    "        self.name = name\n",
    "\n",
    "    @abstractmethod\n",
    "    def speak(self):\n",
    "        pass\n",
    "\n",
    "# Create concrete subclasses\n",
    "class Dog(Animal):\n",
    "    def speak(self):\n",
    "        return f\"{self.name} says Woof!\"\n",
    "\n",
    "class Cat(Animal):\n",
    "    def speak(self):\n",
    "        return f\"{self.name} says Meow!\"\n",
    "\n",
    "# Attempting to create an instance of the abstract class Animal will result in an error.\n",
    "# animal = Animal(\"Generic Animal\")  # Raises TypeError\n",
    "\n",
    "# Creating instances of concrete subclasses\n",
    "dog = Dog(\"Buddy\")\n",
    "cat = Cat(\"Whiskers\")\n",
    "\n",
    "# Calling the speak method on instances of subclasses\n",
    "print(dog.speak())  \n",
    "print(cat.speak())  "
   ]
  },
  {
   "cell_type": "markdown",
   "id": "67e7932a",
   "metadata": {},
   "source": [
    "2. What happens when a class statement's top level contains a basic assignment statement?"
   ]
  },
  {
   "cell_type": "markdown",
   "id": "c066da79",
   "metadata": {},
   "source": [
    "When a class statement's top level contains a basic assignment statement, it typically creates a class-level variable (also known as a class attribute) that is shared among all instances of that class. This variable is associated with the class itself, rather than with individual instances of the class."
   ]
  },
  {
   "cell_type": "code",
   "execution_count": 3,
   "id": "aa2fcb61",
   "metadata": {},
   "outputs": [
    {
     "name": "stdout",
     "output_type": "stream",
     "text": [
      "42\n",
      "10\n",
      "20\n"
     ]
    }
   ],
   "source": [
    "class MyClass:\n",
    "    class_variable = 42  # This is a class-level variable\n",
    "\n",
    "    def __init__(self, instance_variable):\n",
    "        self.instance_variable = instance_variable  # This is an instance-level variable\n",
    "\n",
    "# Accessing class-level variable\n",
    "print(MyClass.class_variable)  # Outputs: 42\n",
    "\n",
    "# Creating instances of MyClass\n",
    "obj1 = MyClass(10)\n",
    "obj2 = MyClass(20)\n",
    "\n",
    "# Accessing instance-level variables\n",
    "print(obj1.instance_variable)  \n",
    "print(obj2.instance_variable) "
   ]
  },
  {
   "cell_type": "markdown",
   "id": "b45aa57c",
   "metadata": {},
   "source": [
    "Class_variable is an assignment statement at the top level of the MyClass class. It creates a class-level variable that is shared among all instances of MyClass.\n",
    "instance_variable is defined within the __init__ method, making it an instance-level variable specific to each instance.\n",
    "When you access MyClass.class_variable, you access the class-level variable, and when you access obj1.instance_variable or obj2.instance_variable, you access instance-level variables associated with individual instances of the class."
   ]
  },
  {
   "cell_type": "markdown",
   "id": "8630a2a4",
   "metadata": {},
   "source": [
    "3. Why does a class need to manually call a superclass's __init__ method?"
   ]
  },
  {
   "cell_type": "markdown",
   "id": "7354b2ba",
   "metadata": {},
   "source": [
    "A class needs to manually call a superclass's __init__ method to ensure proper initialization of inherited attributes and behaviors while allowing the subclass to customize its own initialization process. This is essential for maintaining a consistent and predictable state in class hierarchies."
   ]
  },
  {
   "cell_type": "code",
   "execution_count": 5,
   "id": "01a94e67",
   "metadata": {},
   "outputs": [
    {
     "name": "stdout",
     "output_type": "stream",
     "text": [
      "Buddy\n",
      "Unknown\n",
      "Golden Retriever\n"
     ]
    }
   ],
   "source": [
    "class Animal:\n",
    "    def __init__(self, name):\n",
    "        self.name = name\n",
    "        self.species = \"Unknown\"\n",
    "\n",
    "class Dog(Animal):\n",
    "    def __init__(self, name, breed):\n",
    "        super().__init__(name)  # Call superclass's __init__ to initialize 'name' and 'species'\n",
    "        self.breed = breed\n",
    "\n",
    "# Creating an instance of Dog\n",
    "dog = Dog(\"Buddy\", \"Golden Retriever\")\n",
    "\n",
    "print(dog.name)     \n",
    "print(dog.species)  \n",
    "print(dog.breed)   "
   ]
  },
  {
   "cell_type": "markdown",
   "id": "a100e6d0",
   "metadata": {},
   "source": [
    "In this example, Dog manually calls Animal's __init__ method to initialize the inherited name attribute while adding its own breed attribute. This ensures that both the superclass and subclass attributes are properly set during initialization."
   ]
  },
  {
   "cell_type": "markdown",
   "id": "237423bb",
   "metadata": {},
   "source": [
    "4. How can you augment, instead of completely replacing, an inherited method?"
   ]
  },
  {
   "cell_type": "markdown",
   "id": "1d723cda",
   "metadata": {},
   "source": [
    "To augment, rather than completely replace, an inherited method in object-oriented programming, you can follow these steps:\n",
    "\n",
    "Call the Parent Method: Inside the subclass method, call the parent (superclass) method that you want to augment. This allows you to execute the original behavior from the parent class.\n",
    "\n",
    "Add Additional Logic: After calling the parent method, you can add any additional logic or behavior specific to the subclass. This additional logic enhances or augments the functionality of the inherited method."
   ]
  },
  {
   "cell_type": "code",
   "execution_count": 6,
   "id": "bb2f4671",
   "metadata": {},
   "outputs": [
    {
     "name": "stdout",
     "output_type": "stream",
     "text": [
      "Animal speaks.\n",
      "Dog barks. Animal speaks.\n"
     ]
    }
   ],
   "source": [
    "class Animal:\n",
    "    def speak(self):\n",
    "        return \"Animal speaks.\"\n",
    "\n",
    "class Dog(Animal):\n",
    "    def speak(self):\n",
    "        # Call the parent (Animal) method to execute the original behavior\n",
    "        original_speech = super().speak()\n",
    "        \n",
    "        # Add additional behavior specific to the Dog subclass\n",
    "        return f\"Dog barks. {original_speech}\"\n",
    "\n",
    "# Create instances\n",
    "animal = Animal()\n",
    "dog = Dog()\n",
    "\n",
    "# Calling the speak method\n",
    "print(animal.speak()) \n",
    "print(dog.speak())"
   ]
  },
  {
   "cell_type": "markdown",
   "id": "94cfbaf7",
   "metadata": {},
   "source": [
    "In this example, the Dog subclass augments the speak method inherited from the Animal superclass. It calls the parent method using super().speak() to execute the original behavior and then adds \"Dog barks.\" before the original speech. This allows you to enhance the inherited behavior without completely replacing it."
   ]
  },
  {
   "cell_type": "markdown",
   "id": "77b6baff",
   "metadata": {},
   "source": [
    "5. How is the local scope of a class different from that of a function?"
   ]
  },
  {
   "cell_type": "markdown",
   "id": "f6b0c015",
   "metadata": {},
   "source": [
    "The local scope of a class and a function differs in purpose, lifetime, and accessibility:\n",
    "\n",
    "Purpose:\n",
    "\n",
    "Class local scope defines class attributes and methods.\n",
    "Function local scope defines variables and operations specific to a function.\n",
    "Lifetime:\n",
    "\n",
    "Class local scope persists as long as the class is in memory.\n",
    "Function local scope exists only during function execution and is temporary.\n",
    "Accessibility:\n",
    "\n",
    "Class local scope allows access to class-level attributes and methods both within the class and from instances or subclasses.\n",
    "Function local scope restricts access to local variables and parameters within the function."
   ]
  },
  {
   "cell_type": "code",
   "execution_count": 7,
   "id": "1420a959",
   "metadata": {},
   "outputs": [],
   "source": [
    "class MyClass:\n",
    "    class_attribute = 42  # Class-level attribute\n",
    "\n",
    "    def __init__(self, instance_attribute):\n",
    "        self.instance_attribute = instance_attribute  # Instance-level attribute\n",
    "\n",
    "    def instance_method(self):\n",
    "        local_variable = \"I'm local to the method\"  # Local variable\n",
    "\n",
    "def my_function():\n",
    "    local_variable = \"I'm local to the function\"  # Local variable"
   ]
  },
  {
   "cell_type": "markdown",
   "id": "6f93d5e0",
   "metadata": {},
   "source": [
    "In this example, the class scope defines class attributes, instance attributes, and methods, while the function scope contains local variables specific to the function."
   ]
  }
 ],
 "metadata": {
  "kernelspec": {
   "display_name": "Python 3 (ipykernel)",
   "language": "python",
   "name": "python3"
  },
  "language_info": {
   "codemirror_mode": {
    "name": "ipython",
    "version": 3
   },
   "file_extension": ".py",
   "mimetype": "text/x-python",
   "name": "python",
   "nbconvert_exporter": "python",
   "pygments_lexer": "ipython3",
   "version": "3.9.7"
  }
 },
 "nbformat": 4,
 "nbformat_minor": 5
}
