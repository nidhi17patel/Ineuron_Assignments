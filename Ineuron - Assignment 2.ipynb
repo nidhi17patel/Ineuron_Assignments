{
 "cells": [
  {
   "cell_type": "markdown",
   "id": "a338ef6d",
   "metadata": {},
   "source": [
    "1.What are the two values of the Boolean data type? How do you write them?"
   ]
  },
  {
   "cell_type": "markdown",
   "id": "04a2fc10",
   "metadata": {},
   "source": [
    "Two Values of Boolean Data Type are True and False. we write True as 1 and False as 0."
   ]
  },
  {
   "cell_type": "markdown",
   "id": "0ec9e0ff",
   "metadata": {},
   "source": [
    "2. What are the three different types of Boolean operators?"
   ]
  },
  {
   "cell_type": "markdown",
   "id": "64274215",
   "metadata": {},
   "source": [
    "AND, OR and NOR are three different type of Boolean Operator."
   ]
  },
  {
   "cell_type": "markdown",
   "id": "d2d07bfe",
   "metadata": {},
   "source": [
    "3. Make a list of each Boolean operator's truth tables (i.e. every possible combination of Boolean values for the operator and what it evaluate )."
   ]
  },
  {
   "cell_type": "raw",
   "id": "7a1d2e09",
   "metadata": {},
   "source": [
    "      AND    OR    NOR\n",
    "\n",
    "0 0   0      0      1\n",
    "0 1   0      1      0\n",
    "1 1   1      1      0\n",
    "1 0   0      1      0"
   ]
  },
  {
   "cell_type": "raw",
   "id": "d54e1ef8",
   "metadata": {},
   "source": [
    "4. What are the values of the following expressions?\n",
    "(5 > 4) and (3 == 5)                      False\n",
    "not (5 > 4)                               False\n",
    "(5 > 4) or (3 == 5)                       True\n",
    "not ((5 > 4) or (3 == 5))                 False\n",
    "(True and True) and (True == False)       False\n",
    "(not False) or (not True)                 True"
   ]
  },
  {
   "cell_type": "markdown",
   "id": "0f4a91d7",
   "metadata": {},
   "source": [
    "5. What are the six comparison operators?"
   ]
  },
  {
   "cell_type": "raw",
   "id": "dfae26f1",
   "metadata": {},
   "source": [
    "==\n",
    ">=\n",
    "<=\n",
    "<\n",
    ">\n",
    "!="
   ]
  },
  {
   "cell_type": "markdown",
   "id": "d9a06513",
   "metadata": {},
   "source": [
    "6. How do you tell the difference between the equal to and assignment operators?Describe a\n",
    "condition and when you would use one."
   ]
  },
  {
   "cell_type": "raw",
   "id": "ef0f5ee3",
   "metadata": {},
   "source": [
    "'Equal to' operator is a comparison operator used to check whether the value to the Right side of the operator is equal to the Left side of operator.\n",
    "'Assignment' operators is used for assigning value to the variable.\n",
    "\n",
    "a == 5 has equal to operator\n",
    "a = 5 has assignment operator"
   ]
  },
  {
   "cell_type": "raw",
   "id": "47b2ce30",
   "metadata": {},
   "source": [
    "7. Identify the three blocks in this code:\n",
    "    spam = 0\n",
    "if spam == 10:\n",
    "    print(\"eggs\")\n",
    "if spam > 5:\n",
    "    print(\"bacon\")\n",
    "else:\n",
    "print(\"ham\")\n",
    "print(\"spam\")\n",
    "print(\"spam\")"
   ]
  },
  {
   "cell_type": "raw",
   "id": "28549798",
   "metadata": {},
   "source": [
    " print(\"ham\")\n",
    " print(\"spam\")\n",
    " print(\"spam\")"
   ]
  },
  {
   "cell_type": "markdown",
   "id": "3ba86715",
   "metadata": {},
   "source": [
    "8. Write code that prints Hello if 1 is stored in spam, prints Howdy if 2 is stored in spam, and prints\n",
    "Greetings! if anything else is stored in spam."
   ]
  },
  {
   "cell_type": "code",
   "execution_count": 19,
   "id": "002b79de",
   "metadata": {},
   "outputs": [
    {
     "name": "stdout",
     "output_type": "stream",
     "text": [
      "90\n",
      "Greetings!\n"
     ]
    }
   ],
   "source": [
    "spam = int(input())\n",
    "if spam == 1 :\n",
    "    print(\"Hello\")\n",
    "elif spam == 2 :\n",
    "    print(\"Howdy\")\n",
    "else :\n",
    "    print(\"Greetings!\")\n",
    "    "
   ]
  },
  {
   "cell_type": "markdown",
   "id": "20f4e5a7",
   "metadata": {},
   "source": [
    "9.If your programme is stuck in an endless loop, what keys you’ll press?"
   ]
  },
  {
   "cell_type": "markdown",
   "id": "458c7c11",
   "metadata": {},
   "source": [
    "ctrl + C"
   ]
  },
  {
   "cell_type": "raw",
   "id": "6b7c485a",
   "metadata": {},
   "source": [
    "10. How can you tell the difference between break and continue?"
   ]
  },
  {
   "cell_type": "markdown",
   "id": "7161bcf3",
   "metadata": {},
   "source": [
    "The break statement  terminates the execution of remaining iteration of the loop whereas continue statement terminates only the current iteration of the loop."
   ]
  },
  {
   "cell_type": "markdown",
   "id": "e5c2dcf9",
   "metadata": {},
   "source": [
    "11. In a for loop, what is the difference between range(10), range(0, 10), and range(0, 10, 1)?"
   ]
  },
  {
   "cell_type": "raw",
   "id": "3d63abf3",
   "metadata": {},
   "source": [
    "range(10) – this will give number from 0 to 9 \n",
    "range(0, 10),  - this will also give numbers from 0 to 9\n",
    "and range(0, 10, 1) - this will also give numbers from 0 to 9. \n",
    "Here 0 is start range, 10 is end range that is not included in the series i.e it will work till only 9 and 1 is the increment  number."
   ]
  },
  {
   "cell_type": "markdown",
   "id": "db11170b",
   "metadata": {},
   "source": [
    "12. Write a short program that prints the numbers 1 to 10 using a for loop. Then write an equivalent program that prints the numbers 1 to 10 using a while loop."
   ]
  },
  {
   "cell_type": "code",
   "execution_count": 3,
   "id": "ca62ffb0",
   "metadata": {},
   "outputs": [
    {
     "name": "stdout",
     "output_type": "stream",
     "text": [
      "1\n",
      "2\n",
      "3\n",
      "4\n",
      "5\n",
      "6\n",
      "7\n",
      "8\n",
      "9\n",
      "10\n"
     ]
    }
   ],
   "source": [
    "#for Loop\n",
    "for i in range(1,11):\n",
    "    print (i)\n",
    "    i = i+1"
   ]
  },
  {
   "cell_type": "code",
   "execution_count": 4,
   "id": "68be6aad",
   "metadata": {},
   "outputs": [
    {
     "name": "stdout",
     "output_type": "stream",
     "text": [
      "1\n",
      "2\n",
      "3\n",
      "4\n",
      "5\n",
      "6\n",
      "7\n",
      "8\n",
      "9\n",
      "10\n"
     ]
    }
   ],
   "source": [
    "#While Loop\n",
    "i = 1\n",
    "while i<11:\n",
    "    print(i)\n",
    "    i = i + 1"
   ]
  },
  {
   "cell_type": "markdown",
   "id": "3e2cc2db",
   "metadata": {},
   "source": [
    "13. If you had a function named bacon() inside a module named spam, how would you call it after importing spam?"
   ]
  },
  {
   "cell_type": "markdown",
   "id": "8555420f",
   "metadata": {},
   "source": [
    "Spam.bacon()"
   ]
  }
 ],
 "metadata": {
  "kernelspec": {
   "display_name": "Python 3 (ipykernel)",
   "language": "python",
   "name": "python3"
  },
  "language_info": {
   "codemirror_mode": {
    "name": "ipython",
    "version": 3
   },
   "file_extension": ".py",
   "mimetype": "text/x-python",
   "name": "python",
   "nbconvert_exporter": "python",
   "pygments_lexer": "ipython3",
   "version": "3.9.12"
  }
 },
 "nbformat": 4,
 "nbformat_minor": 5
}
