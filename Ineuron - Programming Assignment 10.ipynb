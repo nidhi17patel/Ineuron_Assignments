{
 "cells": [
  {
   "cell_type": "markdown",
   "id": "3f1e266b",
   "metadata": {},
   "source": [
    "1. Write a Python program to find sum of elements in list?"
   ]
  },
  {
   "cell_type": "code",
   "execution_count": 1,
   "id": "4df92d4b",
   "metadata": {},
   "outputs": [
    {
     "name": "stdout",
     "output_type": "stream",
     "text": [
      "Enter numbers separated by spaces: 2 45 6 8 1 0\n",
      "The sum of elements in the list is: 62\n"
     ]
    }
   ],
   "source": [
    "def sum_of_elements(numbers):\n",
    "    total = 0\n",
    "    for num in numbers:\n",
    "        total += num\n",
    "    return total\n",
    "\n",
    "# Input list of numbers\n",
    "numbers = [int(x) for x in input(\"Enter numbers separated by spaces: \").split()]\n",
    "\n",
    "# Calculate and print the sum of elements in the list\n",
    "result = sum_of_elements(numbers)\n",
    "print(f\"The sum of elements in the list is: {result}\")\n"
   ]
  },
  {
   "cell_type": "markdown",
   "id": "121ede14",
   "metadata": {},
   "source": [
    "2. Write a Python program to Multiply all numbers in the list?"
   ]
  },
  {
   "cell_type": "code",
   "execution_count": 3,
   "id": "4eed6aca",
   "metadata": {},
   "outputs": [
    {
     "name": "stdout",
     "output_type": "stream",
     "text": [
      "Enter numbers separated by spaces: 2 1 4 5\n",
      "The multiplication of elements in the list is: 40\n"
     ]
    }
   ],
   "source": [
    "def multiplication_of_elements(numbers):\n",
    "    mult = 1\n",
    "    for num in numbers:\n",
    "        mult *= num\n",
    "    return mult\n",
    "\n",
    "# Input list of numbers\n",
    "numbers = [int(x) for x in input(\"Enter numbers separated by spaces: \").split()]\n",
    "\n",
    "# Calculate and print the sum of elements in the list\n",
    "result = multiplication_of_elements(numbers)\n",
    "print(f\"The multiplication of elements in the list is: {result}\")\n"
   ]
  },
  {
   "cell_type": "markdown",
   "id": "d4446ca5",
   "metadata": {},
   "source": [
    "3. Write a Python program to find smallest number in a list?"
   ]
  },
  {
   "cell_type": "code",
   "execution_count": 6,
   "id": "99a2cb74",
   "metadata": {},
   "outputs": [
    {
     "name": "stdout",
     "output_type": "stream",
     "text": [
      "Enter numbers separated by spaces: 45 24 23 8 60 72\n",
      "The smallest number in the list is: 8\n"
     ]
    }
   ],
   "source": [
    "def find_smallest_number(numbers):\n",
    "    if not numbers:\n",
    "        return None\n",
    "    smallest = numbers[0]\n",
    "    for num in numbers:\n",
    "        if num < smallest:\n",
    "            smallest = num\n",
    "    return smallest\n",
    "\n",
    "# Input list of numbers\n",
    "numbers = [int(x) for x in input(\"Enter numbers separated by spaces: \").split()]\n",
    "\n",
    "# Find and print the smallest number in the list\n",
    "result = find_smallest_number(numbers)\n",
    "if result is None:\n",
    "    print(\"The list is empty.\")\n",
    "else:\n",
    "    print(f\"The smallest number in the list is: {result}\")\n"
   ]
  },
  {
   "cell_type": "markdown",
   "id": "f3e52a78",
   "metadata": {},
   "source": [
    "4. Write a Python program to find largest number in a list?"
   ]
  },
  {
   "cell_type": "code",
   "execution_count": 7,
   "id": "fa696a92",
   "metadata": {},
   "outputs": [
    {
     "name": "stdout",
     "output_type": "stream",
     "text": [
      "Enter numbers separated by spaces: 12 78 56 097 14\n",
      "The largest number in the list is: 97\n"
     ]
    }
   ],
   "source": [
    "def find_largest_number(numbers):\n",
    "    if not numbers:\n",
    "        return None\n",
    "    largest = numbers[0]\n",
    "    for num in numbers:\n",
    "        if num > largest:\n",
    "            largest = num\n",
    "    return largest\n",
    "\n",
    "# Input list of numbers\n",
    "numbers = [int(x) for x in input(\"Enter numbers separated by spaces: \").split()]\n",
    "\n",
    "# Find and print the smallest number in the list\n",
    "result = find_largest_number(numbers)\n",
    "if result is None:\n",
    "    print(\"The list is empty.\")\n",
    "else:\n",
    "    print(f\"The largest number in the list is: {result}\")\n"
   ]
  },
  {
   "cell_type": "markdown",
   "id": "79bfdc86",
   "metadata": {},
   "source": [
    "5. Write a Python program to find second largest number in a list?"
   ]
  },
  {
   "cell_type": "code",
   "execution_count": 11,
   "id": "f7149ad9",
   "metadata": {},
   "outputs": [
    {
     "name": "stdout",
     "output_type": "stream",
     "text": [
      "Enter numbers separated by spaces: 34 56 67 89 90 45\n",
      "The second largest number in the list is: 89\n"
     ]
    }
   ],
   "source": [
    "def find_second_largest(numbers):\n",
    "    if len(numbers) < 2:\n",
    "        return None\n",
    "    largest = max(numbers[0], numbers[1])\n",
    "    second_largest = min(numbers[0], numbers[1])\n",
    "    \n",
    "    for num in numbers:\n",
    "        if num > largest:\n",
    "            second_largest = largest\n",
    "            largest = num\n",
    "        elif num > second_largest and num != largest:\n",
    "            second_largest = num\n",
    "            \n",
    "    return second_largest\n",
    "\n",
    "# Input list of numbers\n",
    "numbers = [int(x) for x in input(\"Enter numbers separated by spaces: \").split()]\n",
    "\n",
    "# Find and print the second largest number in the list\n",
    "result = find_second_largest(numbers)\n",
    "if result is None:\n",
    "    print(\"The list doesn't have a second largest number.\")\n",
    "else:\n",
    "    print(f\"The second largest number in the list is: {result}\")\n"
   ]
  },
  {
   "cell_type": "markdown",
   "id": "7a105cfa",
   "metadata": {},
   "source": [
    "6. Write a Python program to find N largest elements from a list?"
   ]
  },
  {
   "cell_type": "code",
   "execution_count": 14,
   "id": "4060ebe3",
   "metadata": {},
   "outputs": [
    {
     "name": "stdout",
     "output_type": "stream",
     "text": [
      "Enter numbers separated by spaces: 12 90 65 34 78 72 \n",
      "Enter the value of N: 4\n",
      "The 4th largest element in the list is: 65\n"
     ]
    }
   ],
   "source": [
    "def find_nth_largest(numbers, n):\n",
    "    if n <= 0 or n > len(numbers):\n",
    "        return None\n",
    "    \n",
    "    sorted_numbers = sorted(numbers, reverse=True)\n",
    "    return sorted_numbers[n - 1]\n",
    "\n",
    "# Input list of numbers\n",
    "numbers = [int(x) for x in input(\"Enter numbers separated by spaces: \").split()]\n",
    "n = int(input(\"Enter the value of N: \"))\n",
    "\n",
    "# Find and print the Nth largest element in the list\n",
    "result = find_nth_largest(numbers, n)\n",
    "if result is None:\n",
    "    print(\"Invalid value of N or list is empty.\")\n",
    "else:\n",
    "    print(f\"The {n}th largest element in the list is: {result}\")\n"
   ]
  },
  {
   "cell_type": "markdown",
   "id": "c2f536d1",
   "metadata": {},
   "source": [
    "7. Write a Python program to print even numbers in a list?"
   ]
  },
  {
   "cell_type": "code",
   "execution_count": 18,
   "id": "611bb82d",
   "metadata": {},
   "outputs": [
    {
     "name": "stdout",
     "output_type": "stream",
     "text": [
      "Enter numbers separated by spaces: 1235 4657 7890 6522 4326 7888\n"
     ]
    },
    {
     "data": {
      "text/plain": [
       "[7890, 6522, 4326, 7888]"
      ]
     },
     "execution_count": 18,
     "metadata": {},
     "output_type": "execute_result"
    }
   ],
   "source": [
    "def even(numbers):\n",
    "    even_list =[]\n",
    "    for i in numbers:\n",
    "        if i%2 == 0:\n",
    "            even_list.append(i)\n",
    "    return even_list\n",
    "    \n",
    "       \n",
    "# Input list of numbers\n",
    "numbers = [int(x) for x in input(\"Enter numbers separated by spaces: \").split()]\n",
    "\n",
    "even(numbers)"
   ]
  },
  {
   "cell_type": "markdown",
   "id": "afc91197",
   "metadata": {},
   "source": [
    "8. Write a Python program to print odd numbers in a List?"
   ]
  },
  {
   "cell_type": "code",
   "execution_count": 19,
   "id": "7a5b1f6d",
   "metadata": {},
   "outputs": [
    {
     "name": "stdout",
     "output_type": "stream",
     "text": [
      "Enter numbers separated by spaces: 121 31 4789 91\n"
     ]
    },
    {
     "data": {
      "text/plain": [
       "[121, 31, 4789, 91]"
      ]
     },
     "execution_count": 19,
     "metadata": {},
     "output_type": "execute_result"
    }
   ],
   "source": [
    "def odd(numbers):\n",
    "    odd_list =[]\n",
    "    for i in numbers:\n",
    "        if i%2 != 0:\n",
    "            odd_list.append(i)\n",
    "    return odd_list\n",
    "    \n",
    "       \n",
    "# Input list of numbers\n",
    "numbers = [int(x) for x in input(\"Enter numbers separated by spaces: \").split()]\n",
    "\n",
    "odd(numbers)"
   ]
  },
  {
   "cell_type": "markdown",
   "id": "d8fb751a",
   "metadata": {},
   "source": [
    "9. Write a Python program to Remove empty List from List?"
   ]
  },
  {
   "cell_type": "code",
   "execution_count": 27,
   "id": "754142dc",
   "metadata": {},
   "outputs": [
    {
     "name": "stdout",
     "output_type": "stream",
     "text": [
      "Original list of lists: ([], [1, 2], [], [3, 4], [], [5])\n",
      "List after removing empty lists: [[1, 2], [3, 4], [5]]\n"
     ]
    }
   ],
   "source": [
    "def remove_empty_lists(numbers):\n",
    "    new_list = []\n",
    "    for lst in numbers:\n",
    "        if lst:\n",
    "            new_list.append(lst)\n",
    "    return new_list\n",
    "\n",
    "numbers = [], [1, 2], [], [3, 4], [], [5]\n",
    "\n",
    "# Remove empty lists from the list\n",
    "filtered_list = remove_empty_lists(numbers)\n",
    "\n",
    "print(\"Original list of lists:\", numbers)\n",
    "print(\"List after removing empty lists:\", filtered_list)\n"
   ]
  },
  {
   "cell_type": "markdown",
   "id": "18a048ba",
   "metadata": {},
   "source": [
    "10. Write a Python program to Cloning or Copying a list?"
   ]
  },
  {
   "cell_type": "code",
   "execution_count": 28,
   "id": "4e8db742",
   "metadata": {},
   "outputs": [
    {
     "name": "stdout",
     "output_type": "stream",
     "text": [
      "Original list: [14, 25, 38, 41, 50]\n",
      "Cloned list: [14, 25, 38, 41, 50]\n"
     ]
    }
   ],
   "source": [
    "def clone_list(original_list):\n",
    "    cloned_list = original_list.copy()\n",
    "    return cloned_list\n",
    "\n",
    "# Input original list\n",
    "original_list = [14, 25, 38, 41, 50]\n",
    "\n",
    "# Clone the original list\n",
    "cloned_list = clone_list(original_list)\n",
    "\n",
    "print(\"Original list:\", original_list)\n",
    "print(\"Cloned list:\", cloned_list)"
   ]
  },
  {
   "cell_type": "markdown",
   "id": "56eee585",
   "metadata": {},
   "source": [
    "11. Write a Python program to Count occurrences of an element in a list?"
   ]
  },
  {
   "cell_type": "code",
   "execution_count": 29,
   "id": "a289f550",
   "metadata": {},
   "outputs": [
    {
     "name": "stdout",
     "output_type": "stream",
     "text": [
      "Enter numbers separated by spaces: 23 456 78 23 56 78 23 78 456 23 23 24\n",
      "Enter the element to count occurrences: 23\n",
      "The element 23 appears 5 times in the list.\n"
     ]
    }
   ],
   "source": [
    "def count_occurrences(numbers, target):\n",
    "    count = 0\n",
    "    for num in numbers:\n",
    "        if num == target:\n",
    "            count += 1\n",
    "    return count\n",
    "\n",
    "# Input list of numbers\n",
    "numbers = [int(x) for x in input(\"Enter numbers separated by spaces: \").split()]\n",
    "\n",
    "# Input element to count occurrences\n",
    "target_element = int(input(\"Enter the element to count occurrences: \"))\n",
    "\n",
    "# Count and print occurrences of the element in the list\n",
    "occurrences = count_occurrences(numbers, target_element)\n",
    "print(f\"The element {target_element} appears {occurrences} times in the list.\")\n"
   ]
  }
 ],
 "metadata": {
  "kernelspec": {
   "display_name": "Python 3 (ipykernel)",
   "language": "python",
   "name": "python3"
  },
  "language_info": {
   "codemirror_mode": {
    "name": "ipython",
    "version": 3
   },
   "file_extension": ".py",
   "mimetype": "text/x-python",
   "name": "python",
   "nbconvert_exporter": "python",
   "pygments_lexer": "ipython3",
   "version": "3.9.7"
  }
 },
 "nbformat": 4,
 "nbformat_minor": 5
}
