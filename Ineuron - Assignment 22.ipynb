{
 "cells": [
  {
   "cell_type": "raw",
   "id": "097165b2",
   "metadata": {},
   "source": [
    "1. What is the result of the code, and explain?\n",
    "X = 'iNeuron'\n",
    "def func():\n",
    "print(X)\n",
    "\n",
    "func()\n",
    "\n",
    "Explaination - \n",
    "This code defines a variable X and assigns it the value of the string \"iNeuron\". It then defines a function func() which simply prints out the value of X. When the function is called on the last line of the code, it will print out the string \"iNeuron\" because X is in the global scope and is accessible to the func() function."
   ]
  },
  {
   "cell_type": "code",
   "execution_count": 3,
   "id": "4e121086",
   "metadata": {},
   "outputs": [
    {
     "name": "stdout",
     "output_type": "stream",
     "text": [
      "iNeuron\n"
     ]
    }
   ],
   "source": [
    "X = 'iNeuron'\n",
    "def func():\n",
    "    print(X)\n",
    "\n",
    "func()"
   ]
  },
  {
   "cell_type": "raw",
   "id": "2ac78cfa",
   "metadata": {},
   "source": [
    "2. What is the result of the code, and explain?\n",
    "X = 'iNeuron'\n",
    "def func():\n",
    "    X = 'NI!'\n",
    "\n",
    "func()\n",
    "print(X)\n",
    "\n",
    "Explanation - \n",
    "In this code, a variable X is defined in the global scope and assigned the value of the string \"iNeuron\". A function func() is then defined, which defines a new variable X in its local scope and assigns it the value of the string \"NI!\".\n",
    "However, this local variable X is not actually used or returned by the function func(). So, when the function is called nothing is actually printed or returned.\n",
    "After that, the print(X) statement is executed outside the function, in the global scope. Since the function func() did not modify the value of the global variable X"
   ]
  },
  {
   "cell_type": "code",
   "execution_count": 5,
   "id": "6ea26775",
   "metadata": {},
   "outputs": [
    {
     "name": "stdout",
     "output_type": "stream",
     "text": [
      "iNeuron\n"
     ]
    }
   ],
   "source": [
    "X = 'iNeuron'\n",
    "def func():\n",
    "    X = 'NI!'\n",
    "\n",
    "func()\n",
    "print(X)"
   ]
  },
  {
   "cell_type": "raw",
   "id": "c6bf3604",
   "metadata": {},
   "source": [
    "3. What does this code print, and why?\n",
    "\n",
    "X = 'iNeuron'\n",
    "def func():\n",
    "    X = 'NI'\n",
    "    print(X)\n",
    "\n",
    "func()\n",
    "print(X)\n",
    "\n",
    "Explanation - \n",
    "In this code, a variable X is defined in the global scope and assigned the value of the string \"iNeuron\". A function func() is then defined, which defines a new variable X in its local scope and assigns it the value of the string \"NI\".\n",
    "Then, the function func() prints out the value of the local variable X, which is \"NI\". When the function is called it will print out the string \"NI\".\n",
    "After that, the print(X) statement is executed outside the function, in the global scope. Since the function func() did not modify the value of the global variable X,the output of the code will be NI and iNeuron because the print(X) statement in the global scope is referring to the global variable X which still holds the value \"iNeuron\"."
   ]
  },
  {
   "cell_type": "code",
   "execution_count": 6,
   "id": "f503d0c0",
   "metadata": {},
   "outputs": [
    {
     "name": "stdout",
     "output_type": "stream",
     "text": [
      "NI\n",
      "iNeuron\n"
     ]
    }
   ],
   "source": [
    "X = 'iNeuron'\n",
    "def func():\n",
    "    X = 'NI'\n",
    "    print(X)\n",
    "\n",
    "func()\n",
    "print(X)"
   ]
  },
  {
   "cell_type": "raw",
   "id": "d0439788",
   "metadata": {},
   "source": [
    "4. What output does this code produce? Why?\n",
    "\n",
    "X = 'iNeuron'\n",
    "def func():\n",
    "    global X\n",
    "    X = 'NI'\n",
    "\n",
    "func()\n",
    "print(X)\n",
    "\n",
    "Explanation - \n",
    "In this code, a variable X is defined in the global scope and assigned the value of the string \"iNeuron\". A function func() is then defined, which contains a global statement that specifies that the variable X being referenced inside the function should refer to the global variable X defined outside the function.\n",
    "Then, inside the function, the value of the global variable X is changed to \"NI\" using the assignment statement X = 'NI'.\n",
    "After that, the function func() is called. The execution of this function modifies the global variable X.\n",
    "Finally, the print(X) statement is executed, which prints out the value of the global variable X. Since the global variable X was modified by the assignment statement inside the function, it will print out \"NI\"."
   ]
  },
  {
   "cell_type": "code",
   "execution_count": 8,
   "id": "0e842c07",
   "metadata": {},
   "outputs": [
    {
     "name": "stdout",
     "output_type": "stream",
     "text": [
      "NI\n"
     ]
    }
   ],
   "source": [
    "X = 'iNeuron'\n",
    "def func():\n",
    "    global X\n",
    "    X = 'NI'\n",
    "\n",
    "func()\n",
    "print(X)"
   ]
  },
  {
   "cell_type": "raw",
   "id": "d6bd3b66",
   "metadata": {},
   "source": [
    "5. What about this code—what’s the output, and why?\n",
    "X = 'iNeuron'\n",
    "def func():\n",
    "    X = 'NI'\n",
    "    def nested():\n",
    "        print(X)\n",
    "    nested()\n",
    "\n",
    "func()\n",
    "X\n",
    "\n",
    "Explanation - \n",
    "When the func() function is called, it defines a local variable X and assigns it the value 'NI'. Then it defines a nested function nested() that prints the value of X, which is 'NI'. The nested() function is called inside func(), so it prints 'NI'.\n",
    "After the execution of func(), the value of X outside of the function is still 'iNeuron', as it was defined in the global scope. Therefore, when X is printed outside of the function, it outputs 'iNeuron'."
   ]
  },
  {
   "cell_type": "code",
   "execution_count": 11,
   "id": "c2309751",
   "metadata": {},
   "outputs": [
    {
     "name": "stdout",
     "output_type": "stream",
     "text": [
      "NI\n"
     ]
    },
    {
     "data": {
      "text/plain": [
       "'iNeuron'"
      ]
     },
     "execution_count": 11,
     "metadata": {},
     "output_type": "execute_result"
    }
   ],
   "source": [
    "X = 'iNeuron'\n",
    "def func():\n",
    "    X = 'NI'\n",
    "    def nested():\n",
    "        print(X)\n",
    "    nested()\n",
    "\n",
    "func()\n",
    "X"
   ]
  },
  {
   "cell_type": "raw",
   "id": "9bd1630f",
   "metadata": {},
   "source": [
    "6. How about this code: what is its output in Python 3, and explain?\n",
    "\n",
    "def func():\n",
    "    X = 'NI'\n",
    "    def nested():\n",
    "        nonlocal X\n",
    "        X = 'Spam'\n",
    "    nested()\n",
    "    print(X)\n",
    "\n",
    "func()\n",
    "\n",
    "Explanation - \n",
    "When func() is called, it defines a local variable X and assigns it the value 'NI'. Then it defines a nested function nested() that uses the nonlocal keyword to indicate that the X being referred to is not the local one, but the one in the enclosing scope of func(). The nested() function reassigns the value of X to 'Spam'.\n",
    "\n",
    "After that, nested() is called inside func(), which modifies the value of X to 'Spam'. Finally, X is printed, which has been modified by the nested() function, so the output is 'Spam'."
   ]
  },
  {
   "cell_type": "code",
   "execution_count": 15,
   "id": "62954def",
   "metadata": {},
   "outputs": [
    {
     "name": "stdout",
     "output_type": "stream",
     "text": [
      "Spam\n"
     ]
    }
   ],
   "source": [
    "def func():\n",
    "    X = 'NI'\n",
    "    def nested():\n",
    "        nonlocal X\n",
    "        X = 'Spam'\n",
    "    nested()\n",
    "    print(X)\n",
    "\n",
    "func()"
   ]
  }
 ],
 "metadata": {
  "kernelspec": {
   "display_name": "Python 3 (ipykernel)",
   "language": "python",
   "name": "python3"
  },
  "language_info": {
   "codemirror_mode": {
    "name": "ipython",
    "version": 3
   },
   "file_extension": ".py",
   "mimetype": "text/x-python",
   "name": "python",
   "nbconvert_exporter": "python",
   "pygments_lexer": "ipython3",
   "version": "3.9.7"
  }
 },
 "nbformat": 4,
 "nbformat_minor": 5
}
