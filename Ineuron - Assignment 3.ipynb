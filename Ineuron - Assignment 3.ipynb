{
 "cells": [
  {
   "cell_type": "raw",
   "id": "5ce9ff8d",
   "metadata": {},
   "source": [
    "1.\tWhy are functions advantageous to have in your programs?\n",
    "Instead of writing the same logic various times. We can bind the logic in one def which we call as function and then call the same over and over whenever required."
   ]
  },
  {
   "cell_type": "raw",
   "id": "0018a89b",
   "metadata": {},
   "source": [
    "2.\tWhen does the code in a function run: when it's specified or when it's called?\n",
    "Code in a function run when its Called."
   ]
  },
  {
   "cell_type": "raw",
   "id": "5742a4ab",
   "metadata": {},
   "source": [
    "3.\tWhat statement creates a function?\n",
    "def"
   ]
  },
  {
   "cell_type": "raw",
   "id": "c8542a37",
   "metadata": {},
   "source": [
    "4.\tWhat is the difference between a function and a function call?\n",
    "A function is a piece of code which performs a task and returns a result. It takes input parameters to perform the task. Function is used to enhance the reusability of the code.\n",
    "\n",
    "Function Call is used to call or invoke the defined function by passing arguments to it at the time of calling.\n"
   ]
  },
  {
   "cell_type": "raw",
   "id": "e0bf42c9",
   "metadata": {},
   "source": [
    "5. How many global scopes are there in a Python program? How many local scopes?\n",
    "There's only one global Python scope per program execution.There can be any number of local Python scope per program execution"
   ]
  },
  {
   "cell_type": "raw",
   "id": "e175b918",
   "metadata": {},
   "source": [
    "6. What happens to variables in a local scope when the function call returns?\n",
    "A local variable retains its value until the next time the function is called.\n",
    "A local variable becomes undefined after the function call completes.\n",
    "The local variable can be used outside the function any time after the function call completes."
   ]
  },
  {
   "cell_type": "raw",
   "id": "0b47c072",
   "metadata": {},
   "source": [
    "7. What is the concept of a return value? Is it possible to have a return value in an expression?\n",
    "return statement is a key component of functions and methods. we can use the return statement to make our functions send Python objects back to the caller code. These objects are known as the function’s return value. we can use them to perform further computation in your programs.\n",
    "Yes it is possible to have a return value in an expression"
   ]
  },
  {
   "cell_type": "raw",
   "id": "736102f1",
   "metadata": {},
   "source": [
    "8. If a function does not have a return statement, what is the return value of a call to that function?\n",
    "If no return statement appears in a function definition, control automatically returns to the calling function after the last statement of the called function is executed. In this case, the return value of the called function is undefined."
   ]
  },
  {
   "cell_type": "raw",
   "id": "57dbb135",
   "metadata": {},
   "source": [
    "9. How do you make a function variable refer to the global variable?\n",
    "To create a global variable inside a function, we can use the global keyword"
   ]
  },
  {
   "cell_type": "raw",
   "id": "1e2da83f",
   "metadata": {},
   "source": [
    "10. What is the data type of None?"
   ]
  },
  {
   "cell_type": "code",
   "execution_count": 1,
   "id": "8a1b542c",
   "metadata": {},
   "outputs": [
    {
     "data": {
      "text/plain": [
       "NoneType"
      ]
     },
     "execution_count": 1,
     "metadata": {},
     "output_type": "execute_result"
    }
   ],
   "source": [
    "type(None)"
   ]
  },
  {
   "cell_type": "raw",
   "id": "f30535ba",
   "metadata": {},
   "source": [
    "11. What does the sentence import areallyourpetsnamederic do?\n",
    "It imports a library named areallyourpetsnamederic"
   ]
  },
  {
   "cell_type": "raw",
   "id": "e5633dc7",
   "metadata": {},
   "source": [
    "12. If you had a bacon() feature in a spam module, what would you call it after importing spam?\n",
    "Spam.bacon()"
   ]
  },
  {
   "cell_type": "raw",
   "id": "b1a5dde6",
   "metadata": {},
   "source": [
    "13. What can you do to save a programme from crashing if it encounters an error?\n",
    "we can use Try Except statement to save our programme from crashing if it encounters an error."
   ]
  },
  {
   "cell_type": "raw",
   "id": "86b6be80",
   "metadata": {},
   "source": [
    "14. What is the purpose of the try clause? What is the purpose of the except clause?\n",
    "The try block lets us test a block of code for errors. The except block lets you handle the error. "
   ]
  }
 ],
 "metadata": {
  "kernelspec": {
   "display_name": "Python 3 (ipykernel)",
   "language": "python",
   "name": "python3"
  },
  "language_info": {
   "codemirror_mode": {
    "name": "ipython",
    "version": 3
   },
   "file_extension": ".py",
   "mimetype": "text/x-python",
   "name": "python",
   "nbconvert_exporter": "python",
   "pygments_lexer": "ipython3",
   "version": "3.9.12"
  }
 },
 "nbformat": 4,
 "nbformat_minor": 5
}
