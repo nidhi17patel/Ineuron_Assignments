{
 "cells": [
  {
   "cell_type": "code",
   "execution_count": 1,
   "id": "c6c1581d",
   "metadata": {},
   "outputs": [
    {
     "name": "stdout",
     "output_type": "stream",
     "text": [
      "Hello Python\n"
     ]
    }
   ],
   "source": [
    "#1. Write a Python program to print \"Hello Python\"?\n",
    "class show:\n",
    "    def display(self):\n",
    "        print(\"Hello Python\")\n",
    "\n",
    "s1 = show()\n",
    "s1.display()"
   ]
  },
  {
   "cell_type": "code",
   "execution_count": 2,
   "id": "ac0d7989",
   "metadata": {},
   "outputs": [
    {
     "name": "stdout",
     "output_type": "stream",
     "text": [
      "enter first number23\n",
      "enter second number45\n",
      "68\n",
      "0.5111111111111111\n"
     ]
    }
   ],
   "source": [
    "#2. Write a Python program to do arithmetical operations addition and division.?\n",
    "\n",
    "class operations:\n",
    "    def Addition(a,b):\n",
    "        c = a + b\n",
    "        print(c)\n",
    "\n",
    "    def Division(a,b):\n",
    "        try:\n",
    "            d = a/b\n",
    "            print(d)\n",
    "        except Exception as e:\n",
    "            print(e)\n",
    "            print(\"number b cannot be 0\")\n",
    "\n",
    "x = int(input(\"enter first number\"))\n",
    "y = int(input(\"enter second number\"))\n",
    "\n",
    "o1 = operations\n",
    "o1.Addition(x,y)\n",
    "o1.Division(x,y)"
   ]
  },
  {
   "cell_type": "code",
   "execution_count": 3,
   "id": "312ddef3",
   "metadata": {},
   "outputs": [
    {
     "name": "stdout",
     "output_type": "stream",
     "text": [
      "enter first number3\n",
      "enter second number6\n",
      "enter third number7\n",
      "8.94427190999916\n"
     ]
    }
   ],
   "source": [
    "#3. Write a Python program to find the area of a triangle?\n",
    "import math\n",
    "\n",
    "def triangle(a,b,c):\n",
    "    s = ((a+b+c)/2)\n",
    "    area = math.sqrt(s*(s-a)*(s-b)*(s-c))\n",
    "    return area\n",
    "\n",
    "x = int(input(\"enter first number\"))\n",
    "y = int(input(\"enter second number\"))\n",
    "z = int(input(\"enter third number\"))\n",
    "\n",
    "p = triangle(x,y,z)\n",
    "print(p)"
   ]
  },
  {
   "cell_type": "code",
   "execution_count": 4,
   "id": "cc7ab48a",
   "metadata": {},
   "outputs": [
    {
     "name": "stdout",
     "output_type": "stream",
     "text": [
      "enter first number a =23\n",
      "enter second number b =45\n",
      "a = 45.0\n",
      "b = 23.0\n"
     ]
    }
   ],
   "source": [
    "#4. Write a Python program to swap two variables?\n",
    "\n",
    "def swap(a,b):\n",
    "    a = a*b\n",
    "    b = a/b\n",
    "    a = a/b\n",
    "    print(\"a =\",a)\n",
    "    print(\"b =\",b)\n",
    "\n",
    "x = int(input(\"enter first number a =\"))\n",
    "y = int(input(\"enter second number b =\"))\n",
    "\n",
    "swap(x,y)"
   ]
  },
  {
   "cell_type": "code",
   "execution_count": 5,
   "id": "afb7a48f",
   "metadata": {},
   "outputs": [
    {
     "name": "stdout",
     "output_type": "stream",
     "text": [
      "enter first number12\n",
      "enter second number34\n",
      "33\n"
     ]
    }
   ],
   "source": [
    "#5. Write a Python program to generate a random number?\n",
    "import random\n",
    "\n",
    "def number(a,b):\n",
    "    t = random.randint(a,b)\n",
    "    print(t)\n",
    "\n",
    "x = int(input(\"enter first number\"))\n",
    "y = int(input(\"enter second number\"))\n",
    "\n",
    "number(x,y)"
   ]
  }
 ],
 "metadata": {
  "kernelspec": {
   "display_name": "Python 3 (ipykernel)",
   "language": "python",
   "name": "python3"
  },
  "language_info": {
   "codemirror_mode": {
    "name": "ipython",
    "version": 3
   },
   "file_extension": ".py",
   "mimetype": "text/x-python",
   "name": "python",
   "nbconvert_exporter": "python",
   "pygments_lexer": "ipython3",
   "version": "3.9.12"
  }
 },
 "nbformat": 4,
 "nbformat_minor": 5
}
