{
 "cells": [
  {
   "cell_type": "raw",
   "id": "0f969870",
   "metadata": {},
   "source": [
    "1. What exactly is []?\n",
    "It is an Empty List that contain No items. also Index brackets are used to define literals of list allowing us to declare a list and its contents in our program. "
   ]
  },
  {
   "cell_type": "raw",
   "id": "3de745f5",
   "metadata": {},
   "source": [
    "2. In a list of values stored in a variable called spam, how would you assign the value 'hello' as the\n",
    "third value? (Assume [2,4,6,8,10] are in spam.)"
   ]
  },
  {
   "cell_type": "code",
   "execution_count": 11,
   "id": "5a117910",
   "metadata": {},
   "outputs": [],
   "source": [
    "spam = [2,4,6,8,10]"
   ]
  },
  {
   "cell_type": "code",
   "execution_count": 13,
   "id": "d0da46c7",
   "metadata": {},
   "outputs": [
    {
     "name": "stdout",
     "output_type": "stream",
     "text": [
      "[2, 4, 'hello', 8, 10]\n"
     ]
    }
   ],
   "source": [
    "spam[2] = \"hello\"\n",
    "print(spam)"
   ]
  },
  {
   "cell_type": "raw",
   "id": "3f5d6d1f",
   "metadata": {},
   "source": [
    "3. spam = ['a', 'b', 'c', 'd'] What is the value of spam[int(int('3' * 2) / 11)]?"
   ]
  },
  {
   "cell_type": "code",
   "execution_count": 20,
   "id": "bdee80b7",
   "metadata": {},
   "outputs": [
    {
     "data": {
      "text/plain": [
       "'d'"
      ]
     },
     "execution_count": 20,
     "metadata": {},
     "output_type": "execute_result"
    }
   ],
   "source": [
    "spam[int(int('3' * 2) / 11)]"
   ]
  },
  {
   "cell_type": "raw",
   "id": "dceab765",
   "metadata": {},
   "source": [
    "4. What is the value of spam[-1]?"
   ]
  },
  {
   "cell_type": "code",
   "execution_count": 21,
   "id": "4e867f01",
   "metadata": {},
   "outputs": [
    {
     "data": {
      "text/plain": [
       "'d'"
      ]
     },
     "execution_count": 21,
     "metadata": {},
     "output_type": "execute_result"
    }
   ],
   "source": [
    "spam[-1]"
   ]
  },
  {
   "cell_type": "raw",
   "id": "e01e8a0a",
   "metadata": {},
   "source": [
    "5. What is the value of spam[:2]?"
   ]
  },
  {
   "cell_type": "code",
   "execution_count": 22,
   "id": "794c6f3c",
   "metadata": {},
   "outputs": [
    {
     "data": {
      "text/plain": [
       "['a', 'b']"
      ]
     },
     "execution_count": 22,
     "metadata": {},
     "output_type": "execute_result"
    }
   ],
   "source": [
    "spam[:2]"
   ]
  },
  {
   "cell_type": "raw",
   "id": "c1bea697",
   "metadata": {},
   "source": [
    "6. What is the value of bacon.index('cat')? bacon = [3.14, 'cat', 11, 'cat',True]"
   ]
  },
  {
   "cell_type": "code",
   "execution_count": 36,
   "id": "872c184b",
   "metadata": {},
   "outputs": [],
   "source": [
    "bacon = [3.14, 'cat', 11, 'cat',True]"
   ]
  },
  {
   "cell_type": "code",
   "execution_count": 37,
   "id": "118d714d",
   "metadata": {},
   "outputs": [
    {
     "data": {
      "text/plain": [
       "1"
      ]
     },
     "execution_count": 37,
     "metadata": {},
     "output_type": "execute_result"
    }
   ],
   "source": [
    "bacon.index('cat')"
   ]
  },
  {
   "cell_type": "raw",
   "id": "7468c9b5",
   "metadata": {},
   "source": [
    "7. How does bacon.append(99) change the look of the list value in bacon?"
   ]
  },
  {
   "cell_type": "code",
   "execution_count": 38,
   "id": "179e207f",
   "metadata": {},
   "outputs": [
    {
     "data": {
      "text/plain": [
       "[3.14, 'cat', 11, 'cat', True, 99]"
      ]
     },
     "execution_count": 38,
     "metadata": {},
     "output_type": "execute_result"
    }
   ],
   "source": [
    "bacon.append(99)\n",
    "bacon"
   ]
  },
  {
   "cell_type": "raw",
   "id": "8ef3bd11",
   "metadata": {},
   "source": [
    "8. How does bacon.remove('cat') change the look of the list in bacon?"
   ]
  },
  {
   "cell_type": "code",
   "execution_count": 40,
   "id": "8dceffe9",
   "metadata": {},
   "outputs": [],
   "source": [
    "bacon.remove('cat')"
   ]
  },
  {
   "cell_type": "code",
   "execution_count": 42,
   "id": "de8a3715",
   "metadata": {},
   "outputs": [
    {
     "data": {
      "text/plain": [
       "[3.14, 11, True, 99]"
      ]
     },
     "execution_count": 42,
     "metadata": {},
     "output_type": "execute_result"
    }
   ],
   "source": [
    "bacon"
   ]
  },
  {
   "cell_type": "raw",
   "id": "d4b3a216",
   "metadata": {},
   "source": [
    "9. What are the list concatenation and list replication operators?\n",
    "list concatenation operator +\n",
    "list replication operator is *"
   ]
  },
  {
   "cell_type": "raw",
   "id": "1410cf43",
   "metadata": {},
   "source": [
    "10. What is difference between the list methods append() and insert()?\n",
    "The insert() method inserts the specified value at the specified position whereas append() method inserts the specified value at the end of the list."
   ]
  },
  {
   "cell_type": "raw",
   "id": "5747ad2b",
   "metadata": {},
   "source": [
    "11. What are the two methods for removing items from a list?\n",
    "pop() and remove()"
   ]
  },
  {
   "cell_type": "raw",
   "id": "fe35ce7d",
   "metadata": {},
   "source": [
    "12. Describe how list values and string values are identical.\n",
    "Both lists and strings can be passed to len()\n",
    "Have indexes and slices\n",
    "Can be used in for loops\n",
    "Can be concatenated or replicated\n",
    "Can be used with the in and not in operators"
   ]
  },
  {
   "cell_type": "raw",
   "id": "c1def91e",
   "metadata": {},
   "source": [
    "13. What's the difference between tuples and lists?\n",
    "Lists : are mutable - they can have values added, removed, or changed. lists use the square brackets, [ and ]\n",
    "Tuples : are immutable; they cannot be changed at all. Tuples are written using parentheses, ( and )"
   ]
  },
  {
   "cell_type": "raw",
   "id": "f5a0b1e6",
   "metadata": {},
   "source": [
    "14. How do you type a tuple value that only contains the integer 42?"
   ]
  },
  {
   "cell_type": "code",
   "execution_count": 46,
   "id": "b9b8b0f8",
   "metadata": {},
   "outputs": [
    {
     "data": {
      "text/plain": [
       "(42,)"
      ]
     },
     "execution_count": 46,
     "metadata": {},
     "output_type": "execute_result"
    }
   ],
   "source": [
    "h = (42,)\n",
    "h"
   ]
  },
  {
   "cell_type": "raw",
   "id": "e06525a6",
   "metadata": {},
   "source": [
    "15. How do you get a list value's tuple form? How do you get a tuple value's list form?"
   ]
  },
  {
   "cell_type": "code",
   "execution_count": 48,
   "id": "c5c2cae1",
   "metadata": {},
   "outputs": [
    {
     "data": {
      "text/plain": [
       "(2, 3)"
      ]
     },
     "execution_count": 48,
     "metadata": {},
     "output_type": "execute_result"
    }
   ],
   "source": [
    "l = [2,3]\n",
    "t = tuple(l)\n",
    "t"
   ]
  },
  {
   "cell_type": "code",
   "execution_count": 49,
   "id": "8b730107",
   "metadata": {},
   "outputs": [
    {
     "data": {
      "text/plain": [
       "[6, 6, 7]"
      ]
     },
     "execution_count": 49,
     "metadata": {},
     "output_type": "execute_result"
    }
   ],
   "source": [
    "t = (6,6,7)\n",
    "l = list(t)\n",
    "l"
   ]
  },
  {
   "cell_type": "raw",
   "id": "93ece39c",
   "metadata": {},
   "source": [
    "16. Variables that &quot;contain&quot; list values are not necessarily lists themselves. Instead, what do they\n",
    "contain?\n",
    "They contain references to list values"
   ]
  },
  {
   "cell_type": "raw",
   "id": "3473d1f6",
   "metadata": {},
   "source": [
    "17. How do you distinguish between copy.copy() and copy.deepcopy()?\n",
    "The copy.copy() function will do a shallow copy of a list,\n",
    "The copy.deepcopy() function will do a deep copy of a list. only copy.deepcopy() will duplicate any lists inside the list"
   ]
  }
 ],
 "metadata": {
  "kernelspec": {
   "display_name": "Python 3 (ipykernel)",
   "language": "python",
   "name": "python3"
  },
  "language_info": {
   "codemirror_mode": {
    "name": "ipython",
    "version": 3
   },
   "file_extension": ".py",
   "mimetype": "text/x-python",
   "name": "python",
   "nbconvert_exporter": "python",
   "pygments_lexer": "ipython3",
   "version": "3.9.12"
  }
 },
 "nbformat": 4,
 "nbformat_minor": 5
}
