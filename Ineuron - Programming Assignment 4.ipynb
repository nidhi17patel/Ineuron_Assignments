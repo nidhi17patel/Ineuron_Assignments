{
 "cells": [
  {
   "cell_type": "raw",
   "id": "f0cf8042",
   "metadata": {},
   "source": [
    "1. Write a Python Program to Find the Factorial of a Number?"
   ]
  },
  {
   "cell_type": "code",
   "execution_count": 6,
   "id": "7ecd04d9",
   "metadata": {},
   "outputs": [
    {
     "name": "stdout",
     "output_type": "stream",
     "text": [
      "enter the number whose factorial you want6\n"
     ]
    },
    {
     "data": {
      "text/plain": [
       "720"
      ]
     },
     "execution_count": 6,
     "metadata": {},
     "output_type": "execute_result"
    }
   ],
   "source": [
    "def factorial(x):\n",
    "    if x<0:\n",
    "        print(\"cannot find factorial of a negative number\")\n",
    "    elif x == 0:\n",
    "        return 1\n",
    "    else:\n",
    "        return (x * factorial(x-1))\n",
    "       \n",
    "                \n",
    "num = int(input(\"enter the number whose factorial you want\"))\n",
    "factorial(num)"
   ]
  },
  {
   "cell_type": "raw",
   "id": "136a3023",
   "metadata": {},
   "source": [
    "2. Write a Python Program to Display the multiplication Table?"
   ]
  },
  {
   "cell_type": "code",
   "execution_count": 16,
   "id": "b7c87e59",
   "metadata": {},
   "outputs": [
    {
     "name": "stdout",
     "output_type": "stream",
     "text": [
      "enter the number whose multiplication table you want to display7\n",
      "7 * 1 = 7\n",
      "7 * 2 = 14\n",
      "7 * 3 = 21\n",
      "7 * 4 = 28\n",
      "7 * 5 = 35\n",
      "7 * 6 = 42\n",
      "7 * 7 = 49\n",
      "7 * 8 = 56\n",
      "7 * 9 = 63\n",
      "7 * 10 = 70\n"
     ]
    }
   ],
   "source": [
    "num = int(input(\"enter the number whose multiplication table you want to display\"))\n",
    "for i in range(1,11):\n",
    "     print(num, \"*\", i ,\"=\", num*i)"
   ]
  },
  {
   "cell_type": "raw",
   "id": "f5d18cb1",
   "metadata": {},
   "source": [
    "3. Write a Python Program to Print the Fibonacci sequence?"
   ]
  },
  {
   "cell_type": "code",
   "execution_count": 26,
   "id": "a249e2bd",
   "metadata": {},
   "outputs": [
    {
     "name": "stdout",
     "output_type": "stream",
     "text": [
      "enter the number of terms5\n",
      "Fibonacci sequence is\n",
      "0\n",
      "1\n",
      "1\n",
      "2\n",
      "3\n"
     ]
    }
   ],
   "source": [
    "num = int(input(\"enter the number of terms\"))\n",
    "n1= 0\n",
    "n2 = 1\n",
    "count = 0\n",
    "if num<=0:\n",
    "    print(\"enter positive terms please\")\n",
    "elif num == 1:\n",
    "    print(\"Fibonacci sequence is\", n1)\n",
    "else:\n",
    "    print(\"Fibonacci sequence is\")\n",
    "    while count<num:\n",
    "        print(n1)\n",
    "        nth = n1+ n2\n",
    "        n1 = n2\n",
    "        n2 = nth\n",
    "        count = count + 1\n"
   ]
  },
  {
   "cell_type": "raw",
   "id": "5b747683",
   "metadata": {},
   "source": [
    "4. Write a Python Program to Check Armstrong Number?"
   ]
  },
  {
   "cell_type": "code",
   "execution_count": 17,
   "id": "1c150ca3",
   "metadata": {},
   "outputs": [
    {
     "name": "stdout",
     "output_type": "stream",
     "text": [
      "enter number1234\n",
      "Number is Not Armstrong\n"
     ]
    }
   ],
   "source": [
    "num = int(input(\"enter number\"))\n",
    "count = len(str(num))\n",
    "sum = 0\n",
    "temp = num\n",
    "while temp  > 0:\n",
    "    digit = temp%10\n",
    "    sum = sum + (digit**count)\n",
    "    temp = temp//10\n",
    "    \n",
    "if num == sum:\n",
    "    print(\"Number is Armstrong\")\n",
    "else:\n",
    "    print(\"Number is Not Armstrong\")"
   ]
  },
  {
   "cell_type": "raw",
   "id": "faa6ca32",
   "metadata": {},
   "source": [
    "5. Write a Python Program to Find Armstrong Number in an Interval?"
   ]
  },
  {
   "cell_type": "code",
   "execution_count": 22,
   "id": "84c6f6c4",
   "metadata": {},
   "outputs": [
    {
     "name": "stdout",
     "output_type": "stream",
     "text": [
      "enter the lower number765\n",
      "enter the upper number8734\n",
      "1634\n",
      "8208\n"
     ]
    }
   ],
   "source": [
    "lower = int(input(\"enter the lower number\"))\n",
    "upper = int(input(\"enter the upper number\"))\n",
    "\n",
    "for num in range (lower, upper + 1):\n",
    "    count = len(str(num))\n",
    "    sum = 0\n",
    "    temp = num\n",
    "    while temp  > 0:\n",
    "        digit = temp%10\n",
    "        sum = sum + (digit**count)\n",
    "        temp = temp//10\n",
    "    if num == sum:\n",
    "        print(num)"
   ]
  },
  {
   "cell_type": "raw",
   "id": "f0988cbc",
   "metadata": {},
   "source": [
    "6. Write a Python Program to Find the Sum of Natural Numbers?"
   ]
  },
  {
   "cell_type": "code",
   "execution_count": 23,
   "id": "ef8a7757",
   "metadata": {},
   "outputs": [
    {
     "name": "stdout",
     "output_type": "stream",
     "text": [
      "enter number234\n",
      "Sum of Natural Numbers is 54990\n"
     ]
    }
   ],
   "source": [
    "num = int(input(\"enter number\"))\n",
    "sum = 0\n",
    "for i in range(0,num+1):\n",
    "    sum = sum + num\n",
    "print(\"Sum of Natural Numbers is\", sum)"
   ]
  }
 ],
 "metadata": {
  "kernelspec": {
   "display_name": "Python 3 (ipykernel)",
   "language": "python",
   "name": "python3"
  },
  "language_info": {
   "codemirror_mode": {
    "name": "ipython",
    "version": 3
   },
   "file_extension": ".py",
   "mimetype": "text/x-python",
   "name": "python",
   "nbconvert_exporter": "python",
   "pygments_lexer": "ipython3",
   "version": "3.9.12"
  }
 },
 "nbformat": 4,
 "nbformat_minor": 5
}
